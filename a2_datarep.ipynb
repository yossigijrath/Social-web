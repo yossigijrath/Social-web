{
 "cells": [
  {
   "cell_type": "markdown",
   "metadata": {
    "id": "dcMf4aubeMI9"
   },
   "source": [
    "*****************************************************************\n",
    "#  The Social Web: data representation\n",
    "- Instructors: Jacco van Ossenbruggen, Dayana Spagnuelo\n",
    "- TAs Michael Accetto, Oktay Kavi, Abhirup Mukherjee, Nihat Uzunalioğlu\n",
    "- Exercises for Hands-on session 2\n",
    "*****************************************************************"
   ]
  },
  {
   "cell_type": "markdown",
   "metadata": {
    "id": "Zhts5HMzeMI-"
   },
   "source": [
    "In this session you are going to mine data in various microformats. You will see the differences in what each of the formats can contain and what purpose they serve. We will start by looking at geographical data.\n",
    "\n",
    "Prerequisites:\n",
    "- Python 3.8\n",
    "- Python packages: requests, BeautifulSoup4, HTMLParser, rdflib\n"
   ]
  },
  {
   "cell_type": "code",
   "execution_count": 1,
   "metadata": {
    "colab": {
     "base_uri": "https://localhost:8080/",
     "height": 204
    },
    "id": "6f-OtFPPeMJA",
    "outputId": "9bcb836f-4204-4fac-d133-99e81a0b2884"
   },
   "outputs": [
    {
     "name": "stdout",
     "output_type": "stream",
     "text": [
      "Requirement already satisfied: requests in /Library/Frameworks/Python.framework/Versions/3.8/lib/python3.8/site-packages (2.24.0)\n",
      "Requirement already satisfied: idna<3,>=2.5 in /Library/Frameworks/Python.framework/Versions/3.8/lib/python3.8/site-packages (from requests) (2.10)\n",
      "Requirement already satisfied: urllib3!=1.25.0,!=1.25.1,<1.26,>=1.21.1 in /Library/Frameworks/Python.framework/Versions/3.8/lib/python3.8/site-packages (from requests) (1.25.11)\n",
      "Requirement already satisfied: certifi>=2017.4.17 in /Library/Frameworks/Python.framework/Versions/3.8/lib/python3.8/site-packages (from requests) (2020.6.20)\n",
      "Requirement already satisfied: chardet<4,>=3.0.2 in /Library/Frameworks/Python.framework/Versions/3.8/lib/python3.8/site-packages (from requests) (3.0.4)\n",
      "Requirement already satisfied: BeautifulSoup4 in /Library/Frameworks/Python.framework/Versions/3.8/lib/python3.8/site-packages (4.9.3)\n",
      "Requirement already satisfied: soupsieve>1.2; python_version >= \"3.0\" in /Library/Frameworks/Python.framework/Versions/3.8/lib/python3.8/site-packages (from BeautifulSoup4) (2.0.1)\n",
      "Requirement already satisfied: HTMLParser in /Library/Frameworks/Python.framework/Versions/3.8/lib/python3.8/site-packages (0.0.2)\n",
      "Requirement already satisfied: rdflib in /Library/Frameworks/Python.framework/Versions/3.8/lib/python3.8/site-packages (5.0.0)\n",
      "Requirement already satisfied: six in /Library/Frameworks/Python.framework/Versions/3.8/lib/python3.8/site-packages (from rdflib) (1.15.0)\n",
      "Requirement already satisfied: pyparsing in /Library/Frameworks/Python.framework/Versions/3.8/lib/python3.8/site-packages (from rdflib) (2.4.7)\n",
      "Requirement already satisfied: isodate in /Library/Frameworks/Python.framework/Versions/3.8/lib/python3.8/site-packages (from rdflib) (0.6.0)\n"
     ]
    }
   ],
   "source": [
    "# If you're using a virtualenv, make sure it's activated before running\n",
    "# this cell!\n",
    "!pip3 install requests\n",
    "!pip3 install BeautifulSoup4\n",
    "!pip3 install HTMLParser\n",
    "!pip3 install rdflib"
   ]
  },
  {
   "cell_type": "markdown",
   "metadata": {
    "id": "irPnmIK4eMJd"
   },
   "source": [
    "##  Exercise 1\n",
    "\n",
    "Even if web pages do not use microformat, interesting data can often be extracted from the HML.You may use packages such as BeautifulSoup to extract arbitrary pieces of data from any HTML page.\n",
    "The example below shows how we can find the URL of first image in the infobox table of the wikipedia page on Amsterdam. Tip: compare the code below with HTML source code of the wikipedia page: the image url is in the \"src\" attribute of the \"img\" element of in the \"table\" element with class=\"infobox\"."
   ]
  },
  {
   "cell_type": "code",
   "execution_count": 2,
   "metadata": {
    "colab": {
     "base_uri": "https://localhost:8080/",
     "height": 34
    },
    "id": "9gpHw90keMJf",
    "outputId": "7ae1fe64-8d85-4a47-cfdf-422284954d81"
   },
   "outputs": [
    {
     "name": "stdout",
     "output_type": "stream",
     "text": [
      "//upload.wikimedia.org/wikipedia/commons/thumb/b/be/KeizersgrachtReguliersgrachtAmsterdam.jpg/270px-KeizersgrachtReguliersgrachtAmsterdam.jpg\n"
     ]
    }
   ],
   "source": [
    "# -*- coding: utf-8 -*-\n",
    "\n",
    "import requests\n",
    "from bs4 import BeautifulSoup\n",
    "\n",
    "# This script requires you to add a url of a page with geotags to the commandline, e.g.\n",
    "# python geo.py 'http://en.wikipedia.org/wiki/Amsterdam'\n",
    "URL = 'https://en.wikipedia.org/wiki/Amsterdam'\n",
    "\n",
    "req = requests.get(URL, headers={'User-Agent' : \"Social Web Course Student\"})\n",
    "soup = BeautifulSoup(req.text)\n",
    "# print(req.text)\n",
    "image1 = soup.findAll('table', class_='infobox')[0].find('img')\n",
    "print(image1['src'])  \n"
   ]
  },
  {
   "cell_type": "markdown",
   "metadata": {},
   "source": [
    "Extracting coordinates from a webpage and reformatting them in the geo microformat (based on Example 8-1 in Mining the Social Web). Note that wikipages may encode long/lat information in different ways. On of the ways used by the Amsterdam wikipedia page is in a span element that is not shown to the user: \n",
    "<span class=\"geo\">52.367; 4.900</span>\n",
    "This span element has a single child: len(geoTag == 1) and no further structure, we have to manually get the long/lat by splitting the string on the ';' semicolon."
   ]
  },
  {
   "cell_type": "code",
   "execution_count": 3,
   "metadata": {
    "colab": {
     "base_uri": "https://localhost:8080/",
     "height": 34
    },
    "id": "LtHtQT9PeMJl",
    "outputId": "8a7f7b52-cdb2-409f-b3f0-ee7adf60a9f7"
   },
   "outputs": [
    {
     "name": "stdout",
     "output_type": "stream",
     "text": [
      "<span class=\"geo\">52.367; 4.900</span>\n",
      "Location is at 52.367 4.900\n"
     ]
    }
   ],
   "source": [
    "\n",
    "geoTag = soup.find(True, 'geo')\n",
    "print(geoTag)\n",
    "\n",
    "if geoTag and len(geoTag) > 1:\n",
    "        lat = geoTag.find(True, 'latitude').string\n",
    "        lon = geoTag.find(True, 'longitude').string\n",
    "        print ('Location is at'), lat, lon\n",
    "elif geoTag and len(geoTag) == 1:\n",
    "        (lat, lon) = geoTag.string.split(';')\n",
    "        (lat, lon) = (lat.strip(), lon.strip())\n",
    "        print (('Location is at'), lat, lon)\n",
    "else:\n",
    "        print ('Location not found')\n"
   ]
  },
  {
   "cell_type": "markdown",
   "metadata": {
    "id": "8S_bXnjveMJp"
   },
   "source": [
    "### Task 1\n",
    "\n",
    "Can you convert the output of Exercise 1 into KML? Here is the KML documentation: https://developers.google.com/kml/documentation/?csw=1 and here you can find a simple example of how it is used: https://renenyffenegger.ch/notes/tools/Google-Earth/kml/index\n",
    "\n",
    "Visualise the point in Google Maps using the following code example: https://developers.google.com/maps/documentation/javascript/examples/layer-kml-features\n",
    "You will have to create your own KML file for the custom map layer, and provide a URL to the KML file inside the JavaScript code, which means that you have to upload the file somewhere. You can use a service like http://pastebin.com/ to obtain a URL for your KML file —> paste the code there and request the RAW format URL; use this one in this Task1.\n",
    "\n",
    "Is KML a microformat, why (not)?"
   ]
  },
  {
   "cell_type": "markdown",
   "metadata": {},
   "source": [
    "KML is a web-based data format and it's only purpose is to provide metadata. Such as the description of a placemark, the coordinates of a placemark, etc.\n",
    "\n",
    "So KML is a microformat. "
   ]
  },
  {
   "cell_type": "markdown",
   "metadata": {},
   "source": [
    "### Pastebin link"
   ]
  },
  {
   "cell_type": "markdown",
   "metadata": {},
   "source": [
    "https://pastebin.com/raw/T8mTYMdV"
   ]
  },
  {
   "cell_type": "markdown",
   "metadata": {},
   "source": [
    "### Jsfiddle link"
   ]
  },
  {
   "cell_type": "markdown",
   "metadata": {},
   "source": [
    "https://jsfiddle.net/m1pg736j/"
   ]
  },
  {
   "cell_type": "markdown",
   "metadata": {
    "id": "kUnka7EyeMJp"
   },
   "source": [
    "## Exercise 2 \n",
    "In order to find information in the web we can use microformats. However in this example you will not be using hRecipe. Instead, we'll show you how to find arbitrary tags in a webpage.\n"
   ]
  },
  {
   "cell_type": "markdown",
   "metadata": {
    "id": "b0pBs-PVeMJq"
   },
   "source": [
    "### Task 2 \n",
    "Parsing data for a <sub><sup>veggie</sup></sub> spaghetti alla carbonara recipe (from Example 2-7 in Mining the Social Web)."
   ]
  },
  {
   "cell_type": "code",
   "execution_count": 36,
   "metadata": {
    "id": "mt9BK_CZeMJr"
   },
   "outputs": [
    {
     "name": "stdout",
     "output_type": "stream",
     "text": [
      "['html', '\\n', <html class=\"single-recipe has-leaderboard country-code-default\" lang=\"en\">\n",
      "<head>\n",
      "<meta charset=\"utf-8\"/>\n",
      "<meta content=\"IE=edge\" http-equiv=\"X-UA-Compatible\"/>\n",
      "<meta content=\"width=device-width, initial-scale=1\" name=\"viewport\"/>\n",
      "<link crossorigin=\"\" href=\"//cdn.jamieoliver.com\" rel=\"preconnect\"/>\n",
      "<link crossorigin=\"\" href=\"//img.jamieoliver.com\" rel=\"preconnect\"/>\n",
      "<link crossorigin=\"\" href=\"//fonts.googleapis.com\" rel=\"preconnect\"/>\n",
      "<link crossorigin=\"\" href=\"//code.jquery.com\" rel=\"preconnect\"/>\n",
      "<!-- Meta -->\n",
      "<title>Vegetarian carbonara recipe | Jamie Oliver pasta recipes</title>\n",
      "<meta content=\"Think that carbonara needs bacon? Think again! This vegetarian carbonara recipe uses leafy greens to make a beautiful pea and spinach carbonara. Happy days!\" name=\"description\">\n",
      "<meta content=\"Jamie Oliver, recipes, food, pasta, lasagne, videos\" name=\"keywords\">\n",
      "<meta content=\"JamieOliver.com\" name=\"author\">\n",
      "<meta content=\"050179ea6bc8e9e62d0fd9edcc154d4a\" name=\"p:domain_verify\"/>\n",
      "<meta content=\"27994914806\" property=\"fb:pages\"/> <link href=\"https://www.jamieoliver.com/recipes/pasta-recipes/veggie-carbonara/\" rel=\"canonical\">\n",
      "<meta content=\"619762044509-j5p2iaoirs7u0pveeqh0qahjj4tddk05.apps.googleusercontent.com\" name=\"google-signin-client_id\"/>\n",
      "<!-- Icons -->\n",
      "<meta content=\"yes\" name=\"mobile-web-app-capable\"/>\n",
      "<link href=\"//cdn.jamieoliver.com/library/images/favicon.ico?v=2\" rel=\"shortcut icon\" type=\"image/x-icon\">\n",
      "<link href=\"//cdn.jamieoliver.com/icons/icon.png\" rel=\"icon\" sizes=\"192x192\"/>\n",
      "<link href=\"//cdn.jamieoliver.com/icons/152x152.png\" rel=\"apple-touch-icon\" sizes=\"152x152\">\n",
      "<link href=\"//cdn.jamieoliver.com/icons/144x144.png\" rel=\"apple-touch-icon\" sizes=\"144x144\">\n",
      "<link href=\"//cdn.jamieoliver.com/icons/120x120.png\" rel=\"apple-touch-icon\" sizes=\"120x120\">\n",
      "<link href=\"//cdn.jamieoliver.com/icons/114x114.png\" rel=\"apple-touch-icon\" sizes=\"114x114\"/>\n",
      "<link href=\"//cdn.jamieoliver.com/icons/72x72.png\" rel=\"apple-touch-icon\" sizes=\"72x72\"/>\n",
      "<link href=\"//cdn.jamieoliver.com/icons/57x57.png\" rel=\"apple-touch-icon-precomposed\"/>\n",
      "<!-- Fonts -->\n",
      "<link href=\"//fonts.googleapis.com/css?family=Montserrat:700,400|Average|Roboto:300,700|Roboto+Slab:400,300\" rel=\"stylesheet\" type=\"text/css\"/>\n",
      "<!-- CSS -->\n",
      "<link href=\"//cdn.jamieoliver.com/library/build/355/vendor.concat.css\" rel=\"stylesheet\"/>\n",
      "<link href=\"//cdn.jamieoliver.com/library/build/355/style.concat.css\" rel=\"stylesheet\"/>\n",
      "<link href=\"https://fonts.googleapis.com/css?family=Roboto+Slab:400,100,700,300\" rel=\"stylesheet\"/>\n",
      "<meta content=\"//cdn.jamieoliver.com/recipe-database/medium/CxJXN5kMqE08N4t_qnng4w.jpg\" property=\"og:image\">\n",
      "<meta content=\"Jamie Oliver\" property=\"og:site_name\"><meta content=\"Vegetarian carbonara recipe | Jamie Oliver pasta recipes\" property=\"og:title\">\n",
      "<meta content=\"Think that carbonara needs bacon? Think again! This vegetarian carbonara recipe uses leafy greens to make a beautiful pea and spinach carbonara. Happy days!\" property=\"og:description\"/>\n",
      "<meta content=\"@jamieoliver\" name=\"twitter:site\"/>\n",
      "<meta content=\"summary\" name=\"twitter:card\">\n",
      "<meta content=\"Vegetarian carbonara recipe | Jamie Oliver pasta recipes\" name=\"twitter:title\"/>\n",
      "<meta content=\"Think that carbonara needs bacon? Think again! This vegetarian carbonara recipe uses leafy greens to make a beautiful pea and spinach carbonara. Happy days!\" name=\"twitter:description\"/>\n",
      "<meta content=\"https://cdn.jamieoliver.com/recipe-database/medium/CxJXN5kMqE08N4t_qnng4w.jpg\" name=\"twitter:image\"/>\n",
      "<script>window['gtag_enable_tcf_support'] = true</script>\n",
      "<script src=\"https://ajax.googleapis.com/ajax/libs/jquery/1.12.4/jquery.min.js\"></script>\n",
      "<style>:root{--main-colour:#62a5a1;--brand-text-colour:#62a5a1;--contrast-text-colour:#ffffff;}</style><!-- custom-css cache updated 2020-11-06 06:23:20 -->\n",
      "<script src=\"//cdn.jamieoliver.com/library/build/355/cookie.concat.js\"></script>\n",
      "<!-- Proper Media Tags -->\n",
      "<script>\n",
      "        var propertag = propertag || {};\n",
      "        propertag.cmd = propertag.cmd || [];\n",
      "        (function() {\n",
      "            var pm = document.createElement('script');\n",
      "            pm.async = true; pm.type = 'text/javascript';\n",
      "            var is_ssl = 'https:' == document.location.protocol;\n",
      "            pm.src = (is_ssl ? 'https:' : 'http:') + '//global.proper.io/jamieoliver.min.js';\n",
      "            var node = document.getElementsByTagName('script')[0];\n",
      "            node.parentNode.insertBefore(pm, node);\n",
      "        })();\n",
      "    </script>\n",
      "<script async=\"true\" src=\"https://cdn.whisk.com/sdk/shopping-list-sp.js\" type=\"text/javascript\"></script>\n",
      "<script>\n",
      "          var whisk = whisk || {};\n",
      "          whisk.queue = whisk.queue || [];\n",
      "          var whiskRecipeUrl = \"https://www.jamieoliver.com/recipes/pasta-recipes/veggie-carbonara/\";\n",
      "        </script>\n",
      "</meta></meta></meta></meta></link></link></link></link></link></meta></meta></meta></head>\n",
      "<body>\n",
      "<div class=\"default\" data-region=\"default\" id=\"geo-region\">\n",
      "<!-- Google tag manager -->\n",
      "<script>window.dataLayer = window.dataLayer || [];\n",
      " digitalData = {\n",
      " pageInstanceID: \"72356\",\n",
      " page:{\n",
      "   pageInfo: {\n",
      "     pageID: \"72356\",\n",
      "     pageName: \"Recipes\",\n",
      "     destinationURL: document.location\n",
      "   },\n",
      "   category : {\n",
      "     primaryCategory: \"Recipes\",\n",
      "     subCategory1: \"Pasta Recipes\",\n",
      "     subCategory2: \"Veggie carbonara\",\n",
      "     pageType: \"Pasta Recipes\"\n",
      "   },\n",
      "   attributes: {\n",
      "     numberServes: \"4 adults or 6 children\",\n",
      "     timeCooksIn: \"30 minutes\",\n",
      "     difficulty: \"Super easy\",\n",
      "     caloriesPercentageOfIntake: \"23%\",\n",
      "     fatPercentageOfIntake: \"13%\",\n",
      "     saturatesPercentageOfIntake: \"13%\",\n",
      "     proteinPercentageOfIntake: \"44%\",\n",
      "     carbsPercentageOfIntake: \"30%\",\n",
      "     sugarPercentageOfIntake: \"5%\",\n",
      "     specialDiets: [\"vegetarian\"],\n",
      "     src: \"jamie-magazine\"\n",
      "   }\n",
      "  }\n",
      "  };\n",
      "\n",
      "  dataLayer.push({\n",
      "    \"digitalData\" : digitalData\n",
      "  });</script>\n",
      "<div class=\"site-wrapper wrap--veggie-carbonara\">\n",
      "<header class=\"main-header has-leaderboard-ad\" id=\"main-header\">\n",
      "<div class=\"header-content stick\">\n",
      "<div class=\"jo-header container-fluid\" id=\"jo-header\">\n",
      "<div class=\"container\">\n",
      "<script>\n",
      "                            dataLayer.push({\n",
      "                                'event' : 'HomepageInteraction'\n",
      "                            })\n",
      "                        </script>\n",
      "<div class=\"navbar-header\">\n",
      "<a class=\"logo\" href=\"/\" id=\"gtm_nav_logo\" title=\"Jamie Oliver\"></a>\n",
      "<div class=\"mobile-headline\"></div>\n",
      "</div>\n",
      "<div class=\"burger-menu-mobile hidden-md hidden-sd hidden-lg\">\n",
      "<!-- Menu -->\n",
      "<a class=\"burger mobile-burger\" data-submenu=\".submenu-burger\" href=\"#\" title=\"Menu\">\n",
      "<span class=\"line1\"></span>\n",
      "<span class=\"line2\"></span>\n",
      "<span class=\"line3\"></span>\n",
      "</a>\n",
      "</div>\n",
      "<!-- Search -->\n",
      "<span class=\"site-search hidden-md hidden-sd hidden-lg\"></span>\n",
      "<!-- Site Navigation -->\n",
      "<nav class=\"site-nav hidden-xs hidden-sm\" id=\"site-nav\">\n",
      "<div class=\"nav-1\">\n",
      "<ul>\n",
      "<li>\n",
      "<a class=\"has-submenu\" data-submenu=\".submenu-recipes\" data-submenu-mobile=\"#menu-recipe-header-menu&gt;li&gt;a\" href=\"/recipes/\" id=\"gtm_nav_recipes\" title=\"Recipes\">Recipes</a>\n",
      "</li>\n",
      "<li>\n",
      "<a class=\"christmas\" href=\"/christmas/\" id=\"gtm_nav_christmas\" title=\"Christmas\">Christmas</a>\n",
      "</li>\n",
      "<li>\n",
      "<a class=\"x-disable-link has-submenu\" data-submenu=\".submenu-discover\" data-submenu-mobile=\"#menu-discover-header-menu&gt;li&gt;a\" href=\"#\" id=\"gtm_nav_discover\" title=\"Discover\">Discover</a>\n",
      "</li>\n",
      "<li>\n",
      "<a href=\"/nutrition/\" id=\"gtm_nav_nutrition\" title=\"Nutrition\">Nutrition</a>\n",
      "</li>\n",
      "<li>\n",
      "<a href=\"/videos/\" id=\"gtm_nav_videos\" title=\"Video\">Video</a>\n",
      "</li>\n",
      "</ul>\n",
      "</div>\n",
      "<div class=\"nav-2\">\n",
      "<ul>\n",
      "<li class=\"login-container\"></li>\n",
      "<!-- Search -->\n",
      "<li class=\"site-search\">\n",
      "<span></span>\n",
      "</li>\n",
      "</ul>\n",
      "</div>\n",
      "</nav>\n",
      "</div>\n",
      "<!--Drop down menu container -->\n",
      "<div class=\"container-fluid hover-menu dropdown\" id=\"dropdown\">\n",
      "<!--Recipe Menu  -->\n",
      "<div class=\"container submenu submenu-recipes\">\n",
      "<div class=\"row\">\n",
      "<div class=\"menu-recipe-header-menu-container\"><ul class=\"menu\" id=\"menu-recipe-header-menu\"><li class=\"submenu-heading col-md-3 dropdown-element menu-item menu-item-type-custom menu-item-object-custom menu-item-has-children menu-item-103959\" id=\"menu-item-103959\"><a href=\"/recipes/category/healthy-recipes/\">Healthy recipes</a>\n",
      "<ul class=\"sub-menu\">\n",
      "<li class=\"menu-item menu-item-type-custom menu-item-object-custom menu-item-103960\" id=\"menu-item-103960\"><a href=\"/recipes/category/course/healthy-soup-recipes/\">Healthy soups</a></li>\n",
      "<li class=\"menu-item menu-item-type-custom menu-item-object-custom menu-item-103961\" id=\"menu-item-103961\"><a href=\"/recipes/category/course/healthy-snack-ideas/\">Healthy snacks</a></li>\n",
      "<li class=\"menu-item menu-item-type-custom menu-item-object-custom menu-item-103962\" id=\"menu-item-103962\"><a href=\"/recipes/category/course/healthy-lunch-ideas/\">Healthy lunches</a></li>\n",
      "<li class=\"menu-item menu-item-type-custom menu-item-object-custom menu-item-103963\" id=\"menu-item-103963\"><a href=\"/recipes/category/course/quick-healthy-recipes/\">Quick &amp; healthy</a></li>\n",
      "<li class=\"menu-item menu-item-type-custom menu-item-object-custom menu-item-103964\" id=\"menu-item-103964\"><a href=\"/recipes/category/course/healthy-chicken-recipes/\">Healthy chicken recipes</a></li>\n",
      "<li class=\"menu-item menu-item-type-custom menu-item-object-custom menu-item-107380\" id=\"menu-item-107380\"><a href=\"/recipes/category/course/healthy-fish/\">Healthy fish recipes</a></li>\n",
      "</ul>\n",
      "</li>\n",
      "<li class=\"submenu-heading col-md-3 dropdown-element menu-item menu-item-type-custom menu-item-object-custom menu-item-has-children menu-item-35\" id=\"menu-item-35\"><a href=\"/recipes/category/ingredient/\" title=\"Main Ingredient\">Main Ingredient</a>\n",
      "<ul class=\"sub-menu\">\n",
      "<li class=\"menu-item menu-item-type-custom menu-item-object-custom menu-item-36\" id=\"menu-item-36\"><a href=\"/recipes/chicken-recipes/\" title=\"Chicken breast recipes\">Chicken</a></li>\n",
      "<li class=\"menu-item menu-item-type-custom menu-item-object-custom menu-item-38\" id=\"menu-item-38\"><a href=\"/recipes/pasta-recipes/\" title=\"Pasta recipes\">Pasta</a></li>\n",
      "<li class=\"menu-item menu-item-type-custom menu-item-object-custom menu-item-105288\" id=\"menu-item-105288\"><a href=\"/recipes/vegetables-recipes/\" title=\"Sweet Potato recipes\">Vegetables</a></li>\n",
      "<li class=\"menu-item menu-item-type-custom menu-item-object-custom menu-item-39\" id=\"menu-item-39\"><a href=\"/recipes/fish-recipes/\" title=\"Sausage recipes\">Fish</a></li>\n",
      "<li class=\"menu-item menu-item-type-custom menu-item-object-custom menu-item-37\" id=\"menu-item-37\"><a href=\"/recipes/beef-recipes/\" title=\"Butternut Squash recipes\">Beef</a></li>\n",
      "<li class=\"menu-item menu-item-type-custom menu-item-object-custom menu-item-106039\" id=\"menu-item-106039\"><a href=\"/recipes/eggs-recipes/\">Eggs</a></li>\n",
      "<li class=\"view-more menu-item menu-item-type-custom menu-item-object-custom menu-item-41\" id=\"menu-item-41\"><a href=\"/recipes/category/ingredient/\" title=\"ingredient View more…\">View more…</a></li>\n",
      "</ul>\n",
      "</li>\n",
      "<li class=\"submenu-heading col-md-3 dropdown-element menu-item menu-item-type-custom menu-item-object-custom menu-item-has-children menu-item-63\" id=\"menu-item-63\"><a href=\"/recipes/category/special-diets/\" title=\"Special Diets\">Special Diets</a>\n",
      "<ul class=\"sub-menu\">\n",
      "<li class=\"menu-item menu-item-type-custom menu-item-object-custom menu-item-65\" id=\"menu-item-65\"><a href=\"/recipes/category/special-diets/vegetarian/\" title=\"Vegetarian\">Vegetarian ideas</a></li>\n",
      "<li class=\"menu-item menu-item-type-custom menu-item-object-custom menu-item-66\" id=\"menu-item-66\"><a href=\"/recipes/category/special-diets/gluten-free/\" title=\"Gluten-free\">Gluten-free</a></li>\n",
      "<li class=\"menu-item menu-item-type-custom menu-item-object-custom menu-item-64\" id=\"menu-item-64\"><a href=\"/recipes/category/special-diets/vegan/\" title=\"Vegan\">Vegan</a></li>\n",
      "<li class=\"menu-item menu-item-type-custom menu-item-object-custom menu-item-67\" id=\"menu-item-67\"><a href=\"/recipes/category/special-diets/dairy-free/\" title=\"Dairy-free\">Dairy-free</a></li>\n",
      "</ul>\n",
      "</li>\n",
      "<li class=\"submenu-heading col-md-3 dropdown-element menu-item menu-item-type-custom menu-item-object-custom menu-item-has-children menu-item-49\" id=\"menu-item-49\"><a href=\"/recipes/category/course/\" title=\"Meals &amp; Courses\">Meals &amp; Courses</a>\n",
      "<ul class=\"sub-menu\">\n",
      "<li class=\"menu-item menu-item-type-post_type menu-item-object-page menu-item-139450\" id=\"menu-item-139450\"><a href=\"https://www.jamieoliver.com/recipes/category/dishtype/soup/\">Soup recipes</a></li>\n",
      "<li class=\"menu-item menu-item-type-custom menu-item-object-custom menu-item-53\" id=\"menu-item-53\"><a href=\"/recipes/category/course/cheap-cheerful/\" title=\"Sides\">Cheap &amp; cheerful</a></li>\n",
      "<li class=\"menu-item menu-item-type-custom menu-item-object-custom menu-item-51\" id=\"menu-item-51\"><a href=\"/recipes/category/course/desserts/\" title=\"Desserts recipes\">Desserts</a></li>\n",
      "<li class=\"menu-item menu-item-type-custom menu-item-object-custom menu-item-52\" id=\"menu-item-52\"><a href=\"/recipes/category/course/one-pan-recipes/\" title=\"Dessert\">One-pan recipes</a></li>\n",
      "<li class=\"menu-item menu-item-type-custom menu-item-object-custom menu-item-103826\" id=\"menu-item-103826\"><a href=\"/recipes/category/course/quick-fixes/\">Quick fixes</a></li>\n",
      "<li class=\"menu-item menu-item-type-post_type menu-item-object-page menu-item-136566\" id=\"menu-item-136566\"><a href=\"https://www.jamieoliver.com/recipes/category/tesco-community-cookery-school/\">Community Cooking</a></li>\n",
      "<li class=\"view-more menu-item menu-item-type-custom menu-item-object-custom menu-item-55\" id=\"menu-item-55\"><a href=\"/recipes/category/course/\" title=\"Courses View More\">View more…</a></li>\n",
      "</ul>\n",
      "</li>\n",
      "<li class=\"submenu-heading col-md-3 dropdown-element menu-item menu-item-type-custom menu-item-object-custom menu-item-has-children menu-item-106916\" id=\"menu-item-106916\"><a href=\"/recipes/beautiful-baking/\">Baking</a>\n",
      "<ul class=\"sub-menu\">\n",
      "<li class=\"menu-item menu-item-type-custom menu-item-object-custom menu-item-106917\" id=\"menu-item-106917\"><a href=\"/recipes/beautiful-baking/cake/\">Cakes</a></li>\n",
      "<li class=\"menu-item menu-item-type-custom menu-item-object-custom menu-item-106918\" id=\"menu-item-106918\"><a href=\"/recipes/beautiful-baking/gluten-free-cake/\">Gluten-free cakes</a></li>\n",
      "<li class=\"menu-item menu-item-type-custom menu-item-object-custom menu-item-106920\" id=\"menu-item-106920\"><a href=\"/recipes/beautiful-baking/afternoon-tea/\">Afternoon tea treats</a></li>\n",
      "<li class=\"menu-item menu-item-type-custom menu-item-object-custom menu-item-106921\" id=\"menu-item-106921\"><a href=\"/recipes/beautiful-baking/cookie/\">Cookies</a></li>\n",
      "<li class=\"menu-item menu-item-type-custom menu-item-object-custom menu-item-106922\" id=\"menu-item-106922\"><a href=\"/recipes/beautiful-baking/bread-doughs/\">Breads &amp; doughs</a></li>\n",
      "<li class=\"menu-item menu-item-type-custom menu-item-object-custom menu-item-107597\" id=\"menu-item-107597\"><a href=\"/recipes/beautiful-baking/tart/\">Tarts</a></li>\n",
      "<li class=\"view-more menu-item menu-item-type-custom menu-item-object-custom menu-item-106923\" id=\"menu-item-106923\"><a href=\"/recipes/beautiful-baking/\">View more…</a></li>\n",
      "</ul>\n",
      "</li>\n",
      "<li class=\"submenu-heading col-md-3 dropdown-element menu-item menu-item-type-custom menu-item-object-custom menu-item-has-children menu-item-103835\" id=\"menu-item-103835\"><a href=\"/family/\" title=\"Family Food\">Family Food</a>\n",
      "<ul class=\"sub-menu\">\n",
      "<li class=\"menu-item menu-item-type-custom menu-item-object-custom menu-item-106571\" id=\"menu-item-106571\"><a href=\"/kitchen-buddies/\">Cooking with kids</a></li>\n",
      "<li class=\"menu-item menu-item-type-custom menu-item-object-custom menu-item-106569\" id=\"menu-item-106569\"><a href=\"/family/family-favourites/\">Family favourites</a></li>\n",
      "<li class=\"menu-item menu-item-type-custom menu-item-object-custom menu-item-106570\" id=\"menu-item-106570\"><a href=\"/family/school-night-suppers/\">School night suppers</a></li>\n",
      "<li class=\"menu-item menu-item-type-custom menu-item-object-custom menu-item-106572\" id=\"menu-item-106572\"><a href=\"/family/batch-cooking/\">Batch cooking</a></li>\n",
      "<li class=\"menu-item menu-item-type-custom menu-item-object-custom menu-item-106573\" id=\"menu-item-106573\"><a href=\"/family/quick-easy/\">Quick &amp; easy</a></li>\n",
      "<li class=\"menu-item menu-item-type-custom menu-item-object-custom menu-item-106574\" id=\"menu-item-106574\"><a href=\"/family/money-saving-recipes/\">Money saving recipes</a></li>\n",
      "<li class=\"view-more menu-item menu-item-type-custom menu-item-object-custom menu-item-107608\" id=\"menu-item-107608\"><a href=\"/family/\" title=\"Dish Type View More\">View more…</a></li>\n",
      "</ul>\n",
      "</li>\n",
      "<li class=\"submenu-heading col-md-3 dropdown-element menu-item menu-item-type-custom menu-item-object-custom menu-item-has-children menu-item-107129\" id=\"menu-item-107129\"><a href=\"/recipes/category/occasion/\" title=\"Special occasions\">Special occasions</a>\n",
      "<ul class=\"sub-menu\">\n",
      "<li class=\"menu-item menu-item-type-post_type menu-item-object-page menu-item-139631\" id=\"menu-item-139631\"><a href=\"https://www.jamieoliver.com/recipes/category/occasion/bonfire-night-recipes/\">Bonfire night recipes</a></li>\n",
      "<li class=\"menu-item menu-item-type-post_type menu-item-object-page menu-item-139595\" id=\"menu-item-139595\"><a href=\"https://www.jamieoliver.com/thanksgiving-recipes/\">Thanksgiving recipes</a></li>\n",
      "<li class=\"menu-item menu-item-type-post_type menu-item-object-page menu-item-139449\" id=\"menu-item-139449\"><a href=\"https://www.jamieoliver.com/christmas/\">Christmas recipes</a></li>\n",
      "<li class=\"menu-item menu-item-type-post_type menu-item-object-page menu-item-139630\" id=\"menu-item-139630\"><a href=\"https://www.jamieoliver.com/recipes/category/occasion/gorgeous-winter-soups/\">Gorgeous winter soups recipes</a></li>\n",
      "<li class=\"menu-item menu-item-type-custom menu-item-object-custom menu-item-107132\" id=\"menu-item-107132\"><a href=\"/recipes/category/occasion/sunday-lunch/\">Sunday lunch</a></li>\n",
      "<li class=\"menu-item menu-item-type-custom menu-item-object-custom menu-item-107296\" id=\"menu-item-107296\"><a href=\"/recipes/category/occasion/dinner-for-two/\">Dinner for two</a></li>\n",
      "<li class=\"view-more menu-item menu-item-type-custom menu-item-object-custom menu-item-48\" id=\"menu-item-48\"><a href=\"/recipes/category/occasion/\" title=\"Dish Type View More\">View more…</a></li>\n",
      "</ul>\n",
      "</li>\n",
      "<li class=\"submenu-heading col-md-3 dropdown-element menu-item menu-item-type-custom menu-item-object-custom menu-item-has-children menu-item-77\" id=\"menu-item-77\"><a href=\"/recipes/category/books/\" title=\"Books &amp; TV\">Books &amp; TV</a>\n",
      "<ul class=\"sub-menu\">\n",
      "<li class=\"menu-item menu-item-type-post_type menu-item-object-page menu-item-139629\" id=\"menu-item-139629\"><a href=\"https://www.jamieoliver.com/recipes/category/books/7-ways/\">7 ways</a></li>\n",
      "<li class=\"menu-item menu-item-type-custom menu-item-object-custom menu-item-136376\" id=\"menu-item-136376\"><a href=\"https://www.jamieoliver.com/recipes/category/books/keep-cooking-and-carry-on/\">Jamie: Keep Cooking &amp; Carry On</a></li>\n",
      "<li class=\"menu-item menu-item-type-post_type menu-item-object-page menu-item-133329\" id=\"menu-item-133329\"><a href=\"https://www.jamieoliver.com/recipes/category/books/jamies-meat-free-meals/\">Jamie’s Meat-Free Meals</a></li>\n",
      "<li class=\"menu-item menu-item-type-custom menu-item-object-custom menu-item-115031\" id=\"menu-item-115031\"><a href=\"/recipes/category/books/5-ingredients-quick-easy-food-recipes/\">5 Ingredients – Quick &amp; Easy Food</a></li>\n",
      "<li class=\"menu-item menu-item-type-post_type menu-item-object-page menu-item-133330\" id=\"menu-item-133330\"><a href=\"https://www.jamieoliver.com/recipes/category/books/20-years-of-the-naked-chef/\">20 years of The Naked Chef</a></li>\n",
      "<li class=\"menu-item menu-item-type-custom menu-item-object-custom menu-item-81\" id=\"menu-item-81\"><a href=\"/family/jamies-super-food-family-classics/\">Jamie’s Super Food Family Classics</a></li>\n",
      "<li class=\"view-more menu-item menu-item-type-custom menu-item-object-custom menu-item-83\" id=\"menu-item-83\"><a href=\"/recipes/category/books/\" title=\"Books View more\">View more…</a></li>\n",
      "</ul>\n",
      "</li>\n",
      "</ul></div> </div>\n",
      "</div>\n",
      "<!--End Recipe menu -->\n",
      "<!-- Learn Menu  -->\n",
      "<div class=\"container submenu submenu-discover\">\n",
      "<div class=\"row\">\n",
      "<div class=\"menu-discover-header-menu-container\"><ul class=\"menu\" id=\"menu-discover-header-menu\"><li class=\"submenu-heading col-md-3 dropdown-element menu-item menu-item-type-custom menu-item-object-custom menu-item-has-children menu-item-138261\" id=\"menu-item-138261\"><a href=\"https://www.jamieoliver.com/family/\">Family Food</a>\n",
      "<ul class=\"sub-menu\">\n",
      "<li class=\"menu-item menu-item-type-custom menu-item-object-custom menu-item-138329\" id=\"menu-item-138329\"><a href=\"https://www.jamieoliver.com/get-kids-cooking/\">Cooking with kids</a></li>\n",
      "<li class=\"menu-item menu-item-type-custom menu-item-object-custom menu-item-138328\" id=\"menu-item-138328\"><a href=\"https://www.jamieoliver.com/family/batch-cooking/\">Batch Cooking</a></li>\n",
      "<li class=\"menu-item menu-item-type-custom menu-item-object-custom menu-item-138330\" id=\"menu-item-138330\"><a href=\"https://www.jamieoliver.com/family/family-favourites/\">Family Favourites</a></li>\n",
      "<li class=\"menu-item menu-item-type-custom menu-item-object-custom menu-item-138331\" id=\"menu-item-138331\"><a href=\"https://www.jamieoliver.com/family/freezer-friendly-recipes/\">Freezer Recipes</a></li>\n",
      "<li class=\"menu-item menu-item-type-custom menu-item-object-custom menu-item-138332\" id=\"menu-item-138332\"><a href=\"https://www.jamieoliver.com/family/school-night-suppers/\">Midweek Family Meals</a></li>\n",
      "<li class=\"menu-item menu-item-type-custom menu-item-object-custom menu-item-138333\" id=\"menu-item-138333\"><a href=\"https://www.jamieoliver.com/family/weaning/\">Weaning</a></li>\n",
      "<li class=\"view-more menu-item menu-item-type-custom menu-item-object-custom menu-item-138334\" id=\"menu-item-138334\"><a href=\"https://www.jamieoliver.com/family/\">View more</a></li>\n",
      "</ul>\n",
      "</li>\n",
      "<li class=\"submenu-heading col-md-3 dropdown-element menu-item menu-item-type-custom menu-item-object-custom menu-item-has-children menu-item-138335\" id=\"menu-item-138335\"><a href=\"https://www.jamieoliver.com/features/\">Features</a>\n",
      "<ul class=\"sub-menu\">\n",
      "<li class=\"menu-item menu-item-type-custom menu-item-object-custom menu-item-138336\" id=\"menu-item-138336\"><a href=\"https://www.jamieoliver.com/features/tag/breakfast-brunch/\">Breakfast &amp; Brunch</a></li>\n",
      "<li class=\"menu-item menu-item-type-custom menu-item-object-custom menu-item-138337\" id=\"menu-item-138337\"><a href=\"https://www.jamieoliver.com/features/category/comfort-food/\">Comfort Food</a></li>\n",
      "<li class=\"menu-item menu-item-type-custom menu-item-object-custom menu-item-138338\" id=\"menu-item-138338\"><a href=\"https://www.jamieoliver.com/features/category/desserts/\">Desserts</a></li>\n",
      "<li class=\"menu-item menu-item-type-custom menu-item-object-custom menu-item-138339\" id=\"menu-item-138339\"><a href=\"https://www.jamieoliver.com/family/fakeaways/\">Fakeaways</a></li>\n",
      "<li class=\"menu-item menu-item-type-custom menu-item-object-custom menu-item-138340\" id=\"menu-item-138340\"><a href=\"https://www.jamieoliver.com/features/category/meat-fish/\">Meat &amp; Fish</a></li>\n",
      "<li class=\"menu-item menu-item-type-custom menu-item-object-custom menu-item-138341\" id=\"menu-item-138341\"><a href=\"https://www.jamieoliver.com/features/category/vegan/\">Vegan</a></li>\n",
      "<li class=\"view-more menu-item menu-item-type-custom menu-item-object-custom menu-item-138342\" id=\"menu-item-138342\"><a href=\"https://www.jamieoliver.com/features/\">View more</a></li>\n",
      "</ul>\n",
      "</li>\n",
      "<li class=\"submenu-heading col-md-3 dropdown-element menu-item menu-item-type-custom menu-item-object-custom menu-item-has-children menu-item-138343\" id=\"menu-item-138343\"><a href=\"https://www.jamieoliver.com/features/category/how-to/\">How to’s</a>\n",
      "<ul class=\"sub-menu\">\n",
      "<li class=\"menu-item menu-item-type-post_type menu-item-object-post menu-item-139628\" id=\"menu-item-139628\"><a href=\"https://www.jamieoliver.com/features/brilliant-baked-potato-fillings/\">Brilliant baked potato fillings</a></li>\n",
      "<li class=\"menu-item menu-item-type-custom menu-item-object-custom menu-item-138345\" id=\"menu-item-138345\"><a href=\"https://www.jamieoliver.com/features/how-to-cook-pasta-in-6-easy-steps/\">How to cook pasta</a></li>\n",
      "<li class=\"menu-item menu-item-type-custom menu-item-object-custom menu-item-138346\" id=\"menu-item-138346\"><a href=\"https://www.jamieoliver.com/features/how-to-cook-the-perfect-steak/\">How to cook the perfect steak</a></li>\n",
      "<li class=\"menu-item menu-item-type-custom menu-item-object-custom menu-item-138347\" id=\"menu-item-138347\"><a href=\"https://www.jamieoliver.com/features/how-to-make-hash-browns/\">How to make hash browns</a></li>\n",
      "<li class=\"menu-item menu-item-type-custom menu-item-object-custom menu-item-138348\" id=\"menu-item-138348\"><a href=\"https://www.jamieoliver.com/features/how-to-make-perfectly-poached-eggs/\">How to make poach eggs</a></li>\n",
      "<li class=\"view-more menu-item menu-item-type-custom menu-item-object-custom menu-item-138349\" id=\"menu-item-138349\"><a href=\"https://www.jamieoliver.com/features/category/how-to/\">View more</a></li>\n",
      "</ul>\n",
      "</li>\n",
      "<li class=\"submenu-heading col-md-3 dropdown-element menu-item menu-item-type-custom menu-item-object-custom menu-item-has-children menu-item-138350\" id=\"menu-item-138350\"><a href=\"#\">More Jamie Oliver</a>\n",
      "<ul class=\"sub-menu\">\n",
      "<li class=\"menu-item menu-item-type-custom menu-item-object-custom menu-item-138351\" id=\"menu-item-138351\"><a href=\"https://www.jamieolivercookeryschool.com/\">The Jamie Oliver Cookery School</a></li>\n",
      "<li class=\"menu-item menu-item-type-custom menu-item-object-custom menu-item-138352\" id=\"menu-item-138352\"><a href=\"https://www.jamiesministryoffood.com/\">Ministry of Food</a></li>\n",
      "<li class=\"menu-item menu-item-type-custom menu-item-object-custom menu-item-138353\" id=\"menu-item-138353\"><a href=\"https://www.jamieoliver.com/campaigns/\">Campaigns</a></li>\n",
      "<li class=\"menu-item menu-item-type-custom menu-item-object-custom menu-item-138354\" id=\"menu-item-138354\"><a href=\"https://www.jamieoliver.com/vegepedia/\">Vegepedia</a></li>\n",
      "<li class=\"menu-item menu-item-type-custom menu-item-object-custom menu-item-138355\" id=\"menu-item-138355\"><a href=\"https://www.jamieoliver.com/recipes/category/tesco-community-cookery-school/\">Community Cooking Recipes</a></li>\n",
      "<li class=\"menu-item menu-item-type-post_type menu-item-object-page menu-item-139131\" id=\"menu-item-139131\"><a href=\"https://www.jamieoliver.com/student-recipes/\">Student recipes</a></li>\n",
      "<li class=\"menu-item menu-item-type-post_type menu-item-object-page menu-item-139447\" id=\"menu-item-139447\"><a href=\"https://www.jamieoliver.com/christmas/\">Christmas recipes and inspiration</a></li>\n",
      "</ul>\n",
      "</li>\n",
      "</ul></div> </div>\n",
      "</div>\n",
      "<!--End Learn menu -->\n",
      "<!-- Burger Menu -->\n",
      "<div class=\"container burger-menu submenu submenu-burger hidden-xs hidden-sm\">\n",
      "<div class=\"row\"></div>\n",
      "</div>\n",
      "<!-- End Burger Menu -->\n",
      "</div>\n",
      "<!-- End drop down menu container -->\n",
      "</div>\n",
      "<!-- Search bar -->\n",
      "<div class=\"container-fluid\" id=\"search\">\n",
      "<div class=\"container\">\n",
      "<div class=\"search-input\">\n",
      "<div class=\"input-wrapper\">\n",
      "<i class=\"search-icon hidden-sm hidden-xs\"></i>\n",
      "<form action=\"/search/\" id=\"site-search\" method=\"get\">\n",
      "<input class=\"typeahead input_text clear_search\" name=\"s\" placeholder=\"Search for anything\" type=\"text\"/>\n",
      "<input type=\"submit\"/>\n",
      "</form>\n",
      "</div>\n",
      "</div>\n",
      "<div class=\"search-close\">\n",
      "<a class=\"close\" href=\"#\">\n",
      "<img alt=\"close\" class=\"close-img\" height=\"23\" onerror=\"this.onerror=null;this.src='//cdn.jamieoliver.com/library/images/closebutton.png';\" src=\"//cdn.jamieoliver.com/library/images/closebutton.svg\" title=\"close\" width=\"24\"/>\n",
      "</a>\n",
      "</div>\n",
      "</div>\n",
      "</div>\n",
      "<!-- End Search bar -->\n",
      "<!-- menu cache updated 2020-11-06 06:25:33 -->\n",
      "<div class=\"top-avocado\">\n",
      "<div class=\"wrap\">\n",
      "<!-- Advertisement -->\n",
      "<div class=\"proper-ad-unit\">\n",
      "<div id=\"proper-ad-jamieoliver_leaderboard\">\n",
      "<script>\n",
      "                if (window.innerWidth <= 10000 && window.innerWidth >= 0) {\n",
      "                    propertag.cmd.push(function() { proper_display('jamieoliver_leaderboard'); });\n",
      "                }\n",
      "            </script>\n",
      "</div>\n",
      "</div>\n",
      "<!-- End Advertisement -->\n",
      "</div>\n",
      "</div>\n",
      "</div>\n",
      "</header>\n",
      "<script type=\"application/ld+json\">\n",
      "{\"@context\":\"http:\\/\\/schema.org\",\"@type\":\"Recipe\",\"image\":\"http:\\/\\/cdn.jamieoliver.com\\/recipe-database\\/xtra_med\\/CxJXN5kMqE08N4t_qnng4w.jpg\",\"name\":\"Veggie carbonara\",\"recipeCategory\":\"Family one-pan recipes\",\"description\":\"You can't get much simpler and tastier than this easy vegetable carbonara \\u2013 a brilliant little recipe to add to your repertoire!\",\"recipeYield\":\"4 adults or 6 children\",\"totalTime\":\"PT30M\",\"recipeIngredient\":[\"400 g dried linguine \",\"4 large free-range eggs \",\"2 tablespoons soft ricotta cheese  \",\"1  lemon \",\"100 g fresh or frozen peas  \",\"100 g baby spinach  \"],\"recipeInstructions\":\"<ol class=\\\"recipeSteps\\\"><li>Cook the linguine according to the packet instructions. <\\/li><li>Meanwhile, carefully crack the eggs into a small bowl and beat them with \\na fork. Season with a little black pepper, then stir in the ricotta finely grate in most of the lemon zest. <\\/li><li>When the pasta has 3 minutes left, add the peas. Reserve a little cooking water, then drain the linguine and peas, and return to the pan. <\\/li><li>Stir in the egg mixture and spinach with a wooden spoon \\u2013 they\\u2019ll cook gently in the residual heat. Add a little pasta water to loosen, if needed. <\\/li><li>Share between bowls and serve with a green salad.<\\/li><\\/ol>\",\"keywords\":\"david munns, issue 59, issue, carbonara, pasta, vegetarian, Healthy meals, Light meals, Lunch &amp; dinner recipes, Mains, One-pan recipes, Quick &amp; easy recipes, Quick fixes, Pasta &amp; risotto, ricotta, spaghetti, spinach, vegetables, pea, Pasta, Lighter New Year, family food, Healthy dinner ideas, Healthy vegetarian recipes\",\"recipeCuisine\":[\"https:\\/\\/schema.org\\/VegetarianDiet\"],\"author\":\"Jamie Oliver\",\"nutrition\":{\"calories\":\"461 calories\",\"fatContent\":\"9.4 g fat\",\"saturatedFatContent\":\"2.5 g saturated fat\",\"proteinContent\":\"22.2 g protein\",\"carbohydrateContent\":\"77.5 g carbohydrate\",\"sugarContent\":\"4.4 g sugar\",\"sodiumContent\":\"0.3 g salt\",\"fiberContent\":\"4.6 g fibre\",\"@type\":\"NutritionInformation\"},\"datePublished\":\"2015-12-09\"}</script>\n",
      "<section class=\"family family-food-inspiration-page-container\" id=\"recipe-single\">\n",
      "<div class=\"container recipe-container\">\n",
      "<div class=\"row\">\n",
      "<div class=\"single-recipe-details-mobile col-xs-12 visible-xs-block\">\n",
      "<div class=\"single-recipe-details-mobile-top\">\n",
      "<h3 class=\"h1 single-recipe-title\">Veggie carbonara</h3>\n",
      "<p class=\"subheading\">With fresh peas, spinach &amp; lemon</p>\n",
      "</div>\n",
      "<div class=\"float-wrapper\">\n",
      "<div class=\"special-diets-wrapper\">\n",
      "<ul class=\"special-diets-list quantity-1\">\n",
      "<li>\n",
      "<a href=\"/recipes/category/special-diets/vegetarian/\"><span class=\"full-name\">Vegetarian</span><span class=\"abbreviation\">v</span></a> </li>\n",
      "</ul>\n",
      "</div>\n",
      "</div>\n",
      "</div>\n",
      "</div>\n",
      "<svg class=\"print-logo\" viewbox=\"0 0 373.89 65.28\" xmlns=\"http://www.w3.org/2000/svg\"><path class=\"cls-1\" d=\"M23,12.63H45.44v2.62H42.75a3.18,3.18,0,0,0-2.17.61,2.33,2.33,0,0,0-.68,1.84V43.07a10.76,10.76,0,0,1-4.18,8.69c-2.8,2.26-6.59,3.41-11.36,3.41q-6.59,0-10.71-3.26c-2.76-2.17-4.14-4.68-4.14-7.51A7.18,7.18,0,0,1,11.61,39,6.93,6.93,0,0,1,16.71,37,6.33,6.33,0,0,1,21,38.52a4.92,4.92,0,0,1,1.76,3.82,4.68,4.68,0,0,1-1.27,3.44,4.14,4.14,0,0,1-3.06,1.3A7.38,7.38,0,0,1,17.35,47a8.07,8.07,0,0,0-1.36-.2,1.91,1.91,0,0,0-1.18.29,1.27,1.27,0,0,0-.33,1,3.36,3.36,0,0,0,1.83,2.82,10.66,10.66,0,0,0,5.85,1.55,7.75,7.75,0,0,0,5.89-2.25c1.44-1.49,2.14-3.65,2.14-6.49V17.7a2.3,2.3,0,0,0-.67-1.85,2.85,2.85,0,0,0-2-.6H23\"></path><path class=\"cls-1\" d=\"M150.07,51.68a3,3,0,0,1-1.93-.5,1.64,1.64,0,0,1-.64-1.4V27.38l-12.87.55v2.56h1.3a3.72,3.72,0,0,1,2.51.78,2.8,2.8,0,0,1,.91,2.23V49.22c0,3.21-8.64,3.25-8.64,0V36.63q0-4.65-2.53-7.18a9.39,9.39,0,0,0-6.92-2.52,13.21,13.21,0,0,0-6.07,1.48,19,19,0,0,0-5.84,5A9.21,9.21,0,0,0,106,28.6a9.73,9.73,0,0,0-5.73-1.6,13.07,13.07,0,0,0-6,1.37,19.52,19.52,0,0,0-5.7,4.82,34.59,34.59,0,0,0-.9-5.86l-12,.61V30.5a9.87,9.87,0,0,1,2.92.25,2.7,2.7,0,0,1,1.4,1,2.9,2.9,0,0,1,.45,1.7V48.65c0,3.69-9.38,4.34-9.38-.08V35.65a8.66,8.66,0,0,0-1.41-5,7.43,7.43,0,0,0-3.66-2.86A23.54,23.54,0,0,0,58,26.47a18.36,18.36,0,0,0-10.09,2.59q-3.26,2.09-3.25,4.82a3.42,3.42,0,0,0,1.24,2.72,4.86,4.86,0,0,0,3.28,1,4.54,4.54,0,0,0,3.06-1,3.17,3.17,0,0,0,1.15-2.55,4.43,4.43,0,0,0-.87-2.51,1.74,1.74,0,0,1-.4-.85c0-.35.36-.72,1.08-1.07a8,8,0,0,1,3.72-.82,6.47,6.47,0,0,1,4.39,1.42A4.67,4.67,0,0,1,62.93,34V37.8q-12.26,2-15.87,4.06c-3,1.71-4.51,4-4.51,6.82A5.55,5.55,0,0,0,45,53.33a11.16,11.16,0,0,0,6.81,1.83,14.66,14.66,0,0,0,5.65-1,20.6,20.6,0,0,0,5.66-3.87c.47,1,2,5.16,7.15,5.16a12.38,12.38,0,0,0,5.3-1.11H93.44V51.69H91.73A3.46,3.46,0,0,1,89.38,51a2.88,2.88,0,0,1-.61-2.15V38.47a6.52,6.52,0,0,1,1.12-3.35,7.45,7.45,0,0,1,2.73-2.71,7.05,7.05,0,0,1,3.45-.88A5.29,5.29,0,0,1,100,33.11a6.08,6.08,0,0,1,1.54,4.43V49.43a2.27,2.27,0,0,1-.72,1.78,3.48,3.48,0,0,1-2.16.48h-2v2.62h17.8V51.69h-2A3.29,3.29,0,0,1,110.3,51a2.45,2.45,0,0,1-.59-1.78v-10a8.61,8.61,0,0,1,1.18-4,6.38,6.38,0,0,1,6.18-3.74,5.26,5.26,0,0,1,4,1.52,6.72,6.72,0,0,1,1.43,4.71V49.27a2.33,2.33,0,0,1-.66,1.83,3.53,3.53,0,0,1-2.3.59h-1.79v2.62H152V51.68m-89.1-7.79a7.31,7.31,0,0,1-2,5.46,7,7,0,0,1-5.1,2,4.29,4.29,0,0,1-3.08-1.06,4,4,0,0,1-1.09-3A5.32,5.32,0,0,1,54,42.78c1.56-1.14,4.55-2,9-2.53Z\"></path><path class=\"cls-1\" d=\"M143,24.88a5.16,5.16,0,0,0,3.57-1.34,4.2,4.2,0,0,0,1.49-3.26A4.27,4.27,0,0,0,146.6,17a5.45,5.45,0,0,0-7.16,0,4.32,4.32,0,0,0,0,6.49A5.13,5.13,0,0,0,143,24.88\"></path><path class=\"cls-1\" d=\"M181.23,41.64H160.94c.06,3.71.87,6.43,2.46,8.19a7.76,7.76,0,0,0,6.06,2.63,10,10,0,0,0,5-1.35,16.36,16.36,0,0,0,4.87-4.91l2.26,1.27a16.19,16.19,0,0,1-6,6,17,17,0,0,1-8.28,1.83q-7.11,0-11.5-3.93a13,13,0,0,1-4.4-10.12A13.6,13.6,0,0,1,155.86,31a15.32,15.32,0,0,1,10.85-4.14,16.25,16.25,0,0,1,7.66,1.67,11.92,11.92,0,0,1,5,4.85,17.79,17.79,0,0,1,1.86,8.31m-20.29-2.57h9.66a2.54,2.54,0,0,0,1.94-.62,3.34,3.34,0,0,0,.59-2.25,7.23,7.23,0,0,0-1.64-5.06,5.4,5.4,0,0,0-4.17-1.8,5.14,5.14,0,0,0-4.57,2.43C161.68,33.39,161.07,35.83,160.94,39.07Z\"></path><path class=\"cls-1\" d=\"M265,15.5a5.14,5.14,0,0,1,3.56,1.33,4.32,4.32,0,0,1,0,6.51A5.16,5.16,0,0,1,265,24.69a5.25,5.25,0,0,1-3.6-1.36,4.35,4.35,0,0,1,0-6.5A5.21,5.21,0,0,1,265,15.5\"></path><path class=\"cls-1\" d=\"M271.88,27.43H289v2.47h-1.4a4.72,4.72,0,0,0-2.28.39,1.22,1.22,0,0,0-.61,1.12,3.7,3.7,0,0,0,.67,1.88l7.33,12.36,6.34-11.56a3.31,3.31,0,0,0,.5-1.72c0-1.57-1.45-2.39-4.33-2.47V27.42H307.7v2.47a6.06,6.06,0,0,0-2.61.74,4.89,4.89,0,0,0-1.65,1.87L291.51,54.33h-2.19L276.13,32.27a6.18,6.18,0,0,0-1.56-1.93,3.31,3.31,0,0,0-1.83-.45h-.86\"></path><path class=\"cls-1\" d=\"M335,41.28H314.72q.11,5.56,2.46,8.19a7.74,7.74,0,0,0,6.07,2.64,10,10,0,0,0,5-1.35,16.38,16.38,0,0,0,4.88-4.91l2.26,1.27a16.39,16.39,0,0,1-6,6A17.22,17.22,0,0,1,321.13,55q-7.11,0-11.51-3.94a13.09,13.09,0,0,1-4.4-10.13,13.58,13.58,0,0,1,4.42-10.31,15.27,15.27,0,0,1,10.87-4.14,16.18,16.18,0,0,1,7.65,1.66,11.76,11.76,0,0,1,5,4.85,17.65,17.65,0,0,1,1.89,8.3m-20.31-2.55h9.65a2.61,2.61,0,0,0,2-.63,3.36,3.36,0,0,0,.58-2.26,7.19,7.19,0,0,0-1.64-5.05A5.36,5.36,0,0,0,321.1,29a5.12,5.12,0,0,0-4.57,2.42C315.46,33,314.87,35.47,314.72,38.73Z\"></path><path class=\"cls-1\" d=\"M355.12,51.69V54.3h-20V51.7h2.29a3.74,3.74,0,0,0,2.27-.56,1.76,1.76,0,0,0,.71-1.48V34a3.61,3.61,0,0,0-1-2.75,3.7,3.7,0,0,0-2.65-.87h-1.63V27.93l12.37-.59v8.59a12.42,12.42,0,0,1,3.79-6.62A9.06,9.06,0,0,1,357.34,27a6.85,6.85,0,0,1,4.54,1.4A4.47,4.47,0,0,1,363.56,32,4.19,4.19,0,0,1,362.4,35a3.87,3.87,0,0,1-2.84,1.17,3.57,3.57,0,0,1-2.56-1A3.44,3.44,0,0,1,356,32.6a4,4,0,0,1,.51-1.84,2.19,2.19,0,0,0,.27-.75.77.77,0,0,0-.21-.58,1,1,0,0,0-.63-.19,3.85,3.85,0,0,0-2.44,1.19A13.79,13.79,0,0,0,350,36.15,22.81,22.81,0,0,0,348.65,44v5.7a1.9,1.9,0,0,0,.59,1.5,2.36,2.36,0,0,0,1.64.53\"></path><path class=\"cls-1\" d=\"M239,54.32V51.71h2a2.8,2.8,0,0,0,2-.67,2.76,2.76,0,0,0,.67-2V21.09a3.07,3.07,0,0,0-3.22-2.85h-2V15.76c4.82,0,9.66-.18,12.35-3l1-.11V49.31c0,1.4,1.7,2.18,3.63,2.36.56,0,1.89,0,2.45,0,2-.19,3.71-1,3.71-2.39V33.52a2.8,2.8,0,0,0-.92-2.23,3.69,3.69,0,0,0-2.52-.78h-1.3V27.94l12.86-.53v22.4a1.69,1.69,0,0,0,.63,1.39,3.15,3.15,0,0,0,1.94.5h2v2.62\"></path><path class=\"cls-1\" d=\"M217.08,11.61a23.32,23.32,0,0,1,11.41,2.84,20.84,20.84,0,0,1,8.2,7.75,21.16,21.16,0,0,1,2.93,11.06,20.84,20.84,0,0,1-6.48,15.66,22.2,22.2,0,0,1-16,6.25,23,23,0,0,1-11.43-2.83,21.45,21.45,0,0,1-8-7.69,21.76,21.76,0,0,1-2.92-11.38,20.53,20.53,0,0,1,6.4-15.51,22.09,22.09,0,0,1,15.9-6.15m.12,2.69a10.36,10.36,0,0,0-6.15,1.85,12.21,12.21,0,0,0-4.14,5.94,32.79,32.79,0,0,0-1.53,11.18c0,5,.47,8.91,1.42,11.49a11.45,11.45,0,0,0,4.13,5.74,10.91,10.91,0,0,0,6.31,1.85,10,10,0,0,0,8.5-4.32c2.14-2.88,3.19-7.62,3.19-14.77,0-5-.46-9-1.37-11.51a11.05,11.05,0,0,0-4.07-5.6A10.88,10.88,0,0,0,217.2,14.3Z\"></path></svg>\n",
      "<div class=\"row recipe-header\">\n",
      "<div class=\"col-xs-12 col-lg-9\">\n",
      "<div class=\"row top-section\">\n",
      "<div class=\"col-lg-5 col-md-5 col-sm-6 col-sm-ls-7 recipe-header-left\">\n",
      "<div class=\"hero-wrapper\">\n",
      "<img alt=\"Veggie carbonara\" sizes=\"(min-width: 1200px) 400px, (min-width: 780px) 335px, (min-width: 480px) 48vw, 95vw\" src=\"//img.jamieoliver.com/jamieoliver/recipe-database/CxJXN5kMqE08N4t_qnng4w.jpg?tr=w-800,h-1066\"/> </div>\n",
      "<div class=\"binder-component\" data-id=\"72356\"></div>\n",
      "<a class=\"print-link gtm-print-link hidden-xs\" title=\"Print\"></a>\n",
      "</div>\n",
      "<div class=\"col-lg-7 col-md-7 col-sm-6 col-sm-ls-5 col-xs-12 single-recipe-details\">\n",
      "<h1 class=\"hidden-xs\">Veggie carbonara</h1>\n",
      "<p class=\"subheading hidden-xs\">With fresh peas, spinach &amp; lemon</p>\n",
      "<div class=\"float-wrapper hidden-xs\">\n",
      "<div class=\"special-diets-wrapper\">\n",
      "<ul class=\"special-diets-list quantity-1\">\n",
      "<li>\n",
      "<a href=\"/recipes/category/special-diets/vegetarian/\"><span class=\"full-name\">Vegetarian</span><span class=\"abbreviation\">v</span></a> </li>\n",
      "</ul>\n",
      "</div>\n",
      "</div>\n",
      "<div class=\"row\">\n",
      "<div class=\"col-md-12 hidden-xs\">\n",
      "<div class=\"recipe-intro\">\n",
      "                                            “You can't get much simpler and tastier than this easy vegetable carbonara – a brilliant little recipe to add to your repertoire! ”\n",
      "                                        </div>\n",
      "</div>\n",
      "<div class=\"col-md-12\">\n",
      "<div class=\"row recipe-details\">\n",
      "<div class=\"col-md-12 recipe-details-col remove-left-col-padding-md\">\n",
      "<div class=\"recipe-detail serves\">\n",
      "<span class=\"detail_desc\">Serves</span> 4 adults or 6 children                                                                                                            </div>\n",
      "<div class=\"recipe-detail time\">\n",
      "<span class=\"detail_desc\">Cooks In</span>30 minutes                                                    </div>\n",
      "<div class=\"recipe-detail difficulty super-easy\">\n",
      "<span class=\"detail_desc\">Difficulty</span>Super easy                                                    </div>\n",
      "</div>\n",
      "</div>\n",
      "</div>\n",
      "</div>\n",
      "<div class=\"tags-wrapper hidden-xs\">\n",
      "<div class=\"tags-list\">\n",
      "<svg viewbox=\"0 0 27.2 27.2\">\n",
      "<g>\n",
      "<path d=\"M26.4,1.5c0-0.3-0.3-0.6-0.7-0.7L13.8,0L0.2,13.6c-0.2,0.2-0.2,0.6,0,0.9L12.7,27c0.2,0.2,0.6,0.2,0.9,0\n",
      "\t\tl13.6-13.6L26.4,1.5z M13.6,25.3c-0.2,0.2-0.6,0.2-0.9,0L2,14.5c-0.2-0.2-0.3-0.6,0-0.9L14.4,1.2l10,0.9c0.3,0,0.7,0.3,0.7,0.7\n",
      "\t\tl0.9,10L13.6,25.3z\" fill=\"#62A5A1\"></path>\n",
      "<path d=\"M17.3,6.3c-1,1-0.9,2.5,0,3.5s2.6,1,3.5,0c1-1,0.9-2.5,0-3.5C19.9,5.4,18.3,5.4,17.3,6.3z M20,9\n",
      "\t\tc-0.5,0.5-1.3,0.5-1.8,0s-0.5-1.3,0-1.8c0.5-0.5,1.3-0.5,1.8,0C20.5,7.7,20.5,8.5,20,9z\" fill=\"#62A5A1\"></path>\n",
      "</g>\n",
      "</svg> <a href=\"https://www.jamieoliver.com/recipes/category/books/jamie-magazine/\">Jamie Magazine</a><a href=\"https://www.jamieoliver.com/recipes/category/course/family-one-pan-recipes/\">Family one-pan recipes</a><a href=\"https://www.jamieoliver.com/recipes/category/course/healthy-meals/\">Healthy meals</a><a href=\"https://www.jamieoliver.com/recipes/category/course/light-meals/\">Light meals</a><a href=\"https://www.jamieoliver.com/recipes/category/course/lunch-dinner-recipes/\">Lunch &amp; dinner recipes</a><a href=\"https://www.jamieoliver.com/recipes/category/course/mains/\">Mains</a> </div>\n",
      "</div>\n",
      "<div class=\"recipe-nutrition\">\n",
      "<h6 class=\"section-expand\" data-target=\".nutrition-expanded\">\n",
      "            Nutrition per serving        </h6>\n",
      "<div class=\"nutrition-expanded\">\n",
      "<ul>\n",
      "<li class=\"no-weight\" data-desc=\"Calories are just a unit of energy. If you eat more than you use you can gain weight, or lose it if you don't eat enough. How much you need depends on your weight, gender and how active you are, but it's around 2,000 a day.\" title=\"Calories\">\n",
      "<div class=\"inner\">\n",
      "<span class=\"title\">\n",
      "                                    Calories                                </span>\n",
      "<span class=\"top\">\n",
      "                                    461                                </span>\n",
      "<span class=\"bottom\">\n",
      "                                    23%                                </span>\n",
      "</div>\n",
      "</li>\n",
      "<li class=\"no-weight\" data-desc=\"We all need to eat a small amount of fat because it protects our organs and helps us grow. But we need to be careful about how much fat we eat and what kinds of fat, because in higher levels it's associated with weight gain, diabetes, cancer and heart disease.\" title=\"Fat\">\n",
      "<div class=\"inner\">\n",
      "<span class=\"title\">\n",
      "                                    Fat                                </span>\n",
      "<span class=\"top\">\n",
      "                                    9.4g                                </span>\n",
      "<span class=\"bottom\">\n",
      "                                    13%                                </span>\n",
      "</div>\n",
      "</li>\n",
      "<li class=\"no-weight\" data-desc='Saturated or \"bad fats\" are in beef, pork, chicken skin, butter, cream and cheese. Too much can be bad for our heart and cholesterol levels, but unsaturated or \"good fats\" in fish, nuts, avocados and some oils can help keep our hearts healthy if eaten in moderation.' title=\"Saturates\">\n",
      "<div class=\"inner\">\n",
      "<span class=\"title\">\n",
      "                                    Saturates                                </span>\n",
      "<span class=\"top\">\n",
      "                                    2.5g                                </span>\n",
      "<span class=\"bottom\">\n",
      "                                    13%                                </span>\n",
      "</div>\n",
      "</li>\n",
      "<li class=\"no-weight\" data-desc=\"We all deserve a treat sometimes, but try to limit your sugar intake. Most of your sugar should come from raw fruit and milk, because they give us lots of nutrients too. Always check food labels so you know how much sugar you're eating.\" title=\"Sugars\">\n",
      "<div class=\"inner\">\n",
      "<span class=\"title\">\n",
      "                                    Sugars                                </span>\n",
      "<span class=\"top\">\n",
      "                                    4.4g                                </span>\n",
      "<span class=\"bottom\">\n",
      "                                    5%                                </span>\n",
      "</div>\n",
      "</li>\n",
      "<li class=\"no-weight\" data-desc=\"Although we need a small amount of salt in our diets to help regulate the amount of water in our bodies and other bodily functions, there is a strong link between consuming too much salt and bad health. Too much salt can damage our organs and increases the risk of disease.\" title=\"Salt\">\n",
      "<div class=\"inner\">\n",
      "<span class=\"title\">\n",
      "                                    Salt                                </span>\n",
      "<span class=\"top\">\n",
      "                                    0.3g                                </span>\n",
      "<span class=\"bottom\">\n",
      "                                    5%                                </span>\n",
      "</div>\n",
      "</li>\n",
      "<li class=\"no-weight\" data-desc=\"Protein helps our muscles to grow and repair, as well as providing you with essential amino acids. When it comes to protein, try to eat leaner sources such as chicken and fish or non-meat sources such as eggs, dairy, beans, nuts, seeds, tofu and pulses.\" title=\"Protein\">\n",
      "<div class=\"inner\">\n",
      "<span class=\"title\">\n",
      "                                    Protein                                </span>\n",
      "<span class=\"top\">\n",
      "                                    22.2g                                </span>\n",
      "<span class=\"bottom\">\n",
      "                                    44%                                </span>\n",
      "</div>\n",
      "</li>\n",
      "<li class=\"no-weight\" data-desc=\"Carbs are a great source of energy and, excluding foods such as potatoes, are made from grains - like bread, pasta and cereal. We all need carbs, but try to make them all wholegrain by sticking to brown bread, rice and pasta - they are much more nutritious.\" title=\"Carbs\">\n",
      "<div class=\"inner\">\n",
      "<span class=\"title\">\n",
      "                                    Carbs                                </span>\n",
      "<span class=\"top\">\n",
      "                                    77.5g                                </span>\n",
      "<span class=\"bottom\">\n",
      "                                    30%                                </span>\n",
      "</div>\n",
      "</li>\n",
      "<li class=\"no-weight\" data-desc=\"Fibre is classed as a carbohydrate and is mainly found in plant-based foods. We should be aiming for about 30g of fibre each day, to help other food and waste pass through the gut and keep our insides happy, fibre also helps to reduce blood cholesterol.\" title=\"Fibre\">\n",
      "<div class=\"inner\">\n",
      "<span class=\"title\">\n",
      "                                    Fibre                                </span>\n",
      "<span class=\"top\">\n",
      "                                    4.6g                                </span>\n",
      "<span class=\"bottom\">\n",
      "                                    -                                </span>\n",
      "</div>\n",
      "</li>\n",
      "</ul>\n",
      "<h6 class=\"ref\">\n",
      "                Of an adult's reference intake            </h6>\n",
      "</div>\n",
      "</div>\n",
      "<div class=\"hidden-mobile\">\n",
      "<div class=\"recipe-source-wrapper source-jamie\">\n",
      "<div class=\"recipe-source-images\">\n",
      "<div class=\"recipe-source-image\">\n",
      "<img alt=\"Jamie Magazine\" src=\"https://img.jamieoliver.com/jamieoliver/recipe-database/originalSourceImage/16244a096125da879b3ceb332f0e8a37.jpeg?tr=w-140\">\n",
      "</img></div>\n",
      "</div>\n",
      "<div class=\"recipe-source-details\">\n",
      "<div class=\"recipe-source-banner\">Recipe From</div>\n",
      "<h4>Jamie Magazine</h4>\n",
      "</div>\n",
      "</div>\n",
      "</div>\n",
      "</div>\n",
      "</div>\n",
      "<div class=\"row\">\n",
      "<div class=\"recipe-left-col col-sm-5 col-md-4 col-sd-4 col-lg-4\">\n",
      "<div class=\"recipe-ingredients\">\n",
      "<div class=\"method-nav-bar visible-xs-block\">\n",
      "</div>\n",
      "<div class=\"recipe-method-nav\">\n",
      "<div class=\"vertical-text-wrapper\">\n",
      "<div class=\"arrow\">\n",
      "</div>\n",
      "<div class=\"vertical-text\">\n",
      "                                            Tap For Method                                        </div>\n",
      "</div>\n",
      "</div>\n",
      "<h2>Ingredients</h2>\n",
      "<div class=\"row\">\n",
      "<div class=\"col-md-12 ingredient-wrapper\">\n",
      "<ul class=\"ingred-list\">\n",
      "<li>\n",
      "                                                                                                            400                                                                                                                                                                g                                                                                                                                                                dried linguine                                                                                                                                                        </li>\n",
      "<li>\n",
      "                                                                                                            4                                                                                                                                                                large                                                                                                                                                                free-range eggs                                                                                                                                                        </li>\n",
      "<li>\n",
      "                                                                                                            2                                                                                                                                                                tablespoons                                                                                                                                                                soft ricotta cheese                                                                                                                                                         </li>\n",
      "<li>\n",
      "                                                                                                            1                                                                                                                                                                                                                    lemon                                                                                                                                                        </li>\n",
      "<li>\n",
      "                                                                                                            100                                                                                                                                                                g                                                                                                                                                                fresh or frozen peas                                                                                                                                                         </li>\n",
      "<li>\n",
      "                                                                                                            100                                                                                                                                                                g                                                                                                                                                                baby spinach                                                                                                                                                         </li>\n",
      "</ul>\n",
      "</div>\n",
      "</div>\n",
      "</div>\n",
      "<div class=\"method-mobile-prompt-wrapper\">\n",
      "<div class=\"method-mobile-prompt\">\n",
      "<span class=\"method-mobile-prompt-text\">Tap For Method</span>\n",
      "<span class=\"method-mobile-prompt-arrows\"></span>\n",
      "</div>\n",
      "</div>\n",
      "<div class=\"whisk-container\" id=\"whisk-widget\"></div>\n",
      "<div class=\"visible-mobile lower-recipe-source\">\n",
      "<div class=\"recipe-source-wrapper source-jamie\">\n",
      "<div class=\"recipe-source-images\">\n",
      "<div class=\"recipe-source-image\">\n",
      "<img alt=\"Jamie Magazine\" src=\"https://img.jamieoliver.com/jamieoliver/recipe-database/originalSourceImage/16244a096125da879b3ceb332f0e8a37.jpeg?tr=w-140\">\n",
      "</img></div>\n",
      "</div>\n",
      "<div class=\"recipe-source-details\">\n",
      "<div class=\"recipe-source-banner\">Recipe From</div>\n",
      "<h4>Jamie Magazine</h4>\n",
      "</div>\n",
      "</div>\n",
      "</div>\n",
      "<div class=\"ad single-recipe-avocado-lr2\">\n",
      "<!-- Advertisement -->\n",
      "<div class=\"proper-ad-unit\">\n",
      "<div id=\"proper-ad-jamieoliver_leftrail_mobile\">\n",
      "<script>\n",
      "                if (window.innerWidth <= 767 && window.innerWidth >= 0) {\n",
      "                    propertag.cmd.push(function() { proper_display('jamieoliver_leftrail_mobile'); });\n",
      "                }\n",
      "            </script>\n",
      "</div>\n",
      "</div>\n",
      "<!-- End Advertisement -->\n",
      "</div>\n",
      "<div id=\"share-tools\">\n",
      "<h2 class=\"title\">Share this Recipe</h2>\n",
      "<div class=\"share-tools-content\">\n",
      "<div class=\"addthis_inline_share_toolbox\" data-url=\"www.jamieoliver.com/recipes/pasta-recipes/veggie-carbonara/\">\n",
      "<a class=\"cookies-required\" onclick=\"CookieControl.open();\">Please enable functionality cookies to use this feature</a>\n",
      "</div>\n",
      "</div>\n",
      "</div>\n",
      "</div>\n",
      "<div class=\"instructions-col col-sm-7 col-md-8 col-sd-8 col-lg-8\">\n",
      "<div class=\"recipe-ingred-nav\">\n",
      "<div class=\"vertical-text-wrapper\">\n",
      "<div class=\"arrow\">\n",
      "</div>\n",
      "<div class=\"vertical-text\">\n",
      "                                        Tap For Ingredients                                    </div>\n",
      "</div>\n",
      "</div>\n",
      "<div class=\"recipe-instructions\">\n",
      "<div class=\"instructions-wrapper\">\n",
      "<div class=\"method-p\">\n",
      "<h2>Method</h2>\n",
      "<div class=\"\">\n",
      "<ol class=\"recipeSteps\"><li>Cook the linguine according to the packet instructions. </li><li>Meanwhile, carefully crack the eggs into a small bowl and beat them with <br/>\n",
      "a fork. Season with a little black pepper, then stir in the ricotta finely grate in most of the lemon zest. </li><li>When the pasta has 3 minutes left, add the peas. Reserve a little cooking water, then drain the linguine and peas, and return to the pan. </li><li>Stir in the egg mixture and spinach with a wooden spoon – they’ll cook gently in the residual heat. Add a little pasta water to loosen, if needed. </li><li>Share between bowls and serve with a green salad.</li></ol> </div>\n",
      "<div class=\"promo-banner\" data-slot=\"under-recipe\">\n",
      "<a class=\"cookies-required\" onclick=\"CookieControl.open();\">Please enable targetting cookies to show this banner</a>\n",
      "</div>\n",
      "<div class=\"ad avocado-desktop-foot\">\n",
      "<!-- Advertisement -->\n",
      "<div class=\"proper-ad-unit\">\n",
      "<div id=\"proper-ad-jamieoliver_leftrail\">\n",
      "<script>\n",
      "                if (window.innerWidth <= 10000 && window.innerWidth >= 768) {\n",
      "                    propertag.cmd.push(function() { proper_display('jamieoliver_leftrail'); });\n",
      "                }\n",
      "            </script>\n",
      "</div>\n",
      "</div>\n",
      "<!-- End Advertisement -->\n",
      "</div>\n",
      "</div>\n",
      "</div>\n",
      "</div>\n",
      "</div>\n",
      "</div>\n",
      "<div class=\"related-items recipe-related-wrapper\" id=\"recipe-related-recipes\">\n",
      "<div class=\"recipe-related-title\">Related recipes</div>\n",
      "<div class=\"recipe-related-items\">\n",
      "<div class=\"recipe-related-item -is-recipe\">\n",
      "<div class=\"hover-link\">\n",
      "<a href=\"/recipes/pasta-recipes/sweet-leek-carbonara/\"><img alt=\"Sweet leek carbonara\" src=\"https://img.jamieoliver.com/jamieoliver/recipe-database/92507809.jpg?tr=w-140\" title=\"Sweet leek carbonara\"/></a>\n",
      "</div>\n",
      "<div class=\"recipe-related-item-title\">\n",
      "<a class=\"hover-link\" href=\"/recipes/pasta-recipes/sweet-leek-carbonara/\">Sweet leek carbonara</a>\n",
      "</div>\n",
      "</div>\n",
      "<div class=\"recipe-related-item -is-recipe\">\n",
      "<div class=\"hover-link\">\n",
      "<a href=\"/recipes/vegetable-recipes/veggie-bolognese/\"><img alt=\"Veggie Bolognese\" src=\"https://img.jamieoliver.com/jamieoliver/recipe-database/51137589.jpg?tr=w-140\" title=\"Veggie Bolognese\"/></a>\n",
      "</div>\n",
      "<div class=\"recipe-related-item-title\">\n",
      "<a class=\"hover-link\" href=\"/recipes/vegetable-recipes/veggie-bolognese/\">Veggie Bolognese</a>\n",
      "</div>\n",
      "</div>\n",
      "<div class=\"recipe-related-item -is-recipe\">\n",
      "<div class=\"hover-link\">\n",
      "<a href=\"/recipes/pasta-recipes/veggie-lasagne/\"><img alt=\"Veggie lasagne\" src=\"https://img.jamieoliver.com/jamieoliver/recipe-database/105676543.jpg?tr=w-140\" title=\"Veggie lasagne\"/></a>\n",
      "</div>\n",
      "<div class=\"recipe-related-item-title\">\n",
      "<a class=\"hover-link\" href=\"/recipes/pasta-recipes/veggie-lasagne/\">Veggie lasagne</a>\n",
      "</div>\n",
      "</div>\n",
      "</div>\n",
      "</div>\n",
      "<div class=\"related-items recipe-related-wrapper\" id=\"recipe-related-features\">\n",
      "<div class=\"recipe-related-title\">Related features</div>\n",
      "<div class=\"recipe-related-items\">\n",
      "<div class=\"recipe-related-item -is-feature\">\n",
      "<div class=\"recipe-related-item-image\">\n",
      "<a class=\"hover-link\" href=\"https://www.jamieoliver.com/features/super-summer-pasta-recipes/\">\n",
      "<img alt=\"12 super summer pasta recipes\" class=\"responsive-image lazy-image on-inview\" data-offset=\"300\" data-src=\"https://img.jamieoliver.com/jamieoliver/home/wp-content/uploads/2020/08/Fennel_Crab_Linguine-1024x672.jpg?tr=w-330\" src=\"//cdn.jamieoliver.com/library/images/placeholder/square.gif\"> </img></a>\n",
      "</div>\n",
      "<div class=\"recipe-related-item-title\">\n",
      "<a class=\"hover-link\" href=\"https://www.jamieoliver.com/features/super-summer-pasta-recipes/\">12 super summer pasta recipes</a>\n",
      "</div>\n",
      "</div>\n",
      "<div class=\"recipe-related-item -is-feature\">\n",
      "<div class=\"recipe-related-item-image\">\n",
      "<a class=\"hover-link\" href=\"https://www.jamieoliver.com/features/ways-to-use-up-ripe-tomatoes/\">\n",
      "<img alt=\"10 ways to use up ripe tomatoes\" class=\"responsive-image lazy-image on-inview\" data-offset=\"300\" data-src=\"https://img.jamieoliver.com/jamieoliver/home/wp-content/uploads/2020/06/tomatoes_lead_v2.jpg?tr=w-330\" src=\"//cdn.jamieoliver.com/library/images/placeholder/square.gif\"> </img></a>\n",
      "</div>\n",
      "<div class=\"recipe-related-item-title\">\n",
      "<a class=\"hover-link\" href=\"https://www.jamieoliver.com/features/ways-to-use-up-ripe-tomatoes/\">10 ways to use up ripe tomatoes</a>\n",
      "</div>\n",
      "</div>\n",
      "<div class=\"recipe-related-item -is-feature\">\n",
      "<div class=\"recipe-related-item-image\">\n",
      "<a class=\"hover-link\" href=\"https://www.jamieoliver.com/features/jamies-fresh-pasta-sauce-range/\">\n",
      "<img alt=\"Dinner, sorted: Jamie’s fresh pasta &amp; sauce range\" class=\"responsive-image lazy-image on-inview\" data-offset=\"300\" data-src=\"https://img.jamieoliver.com/jamieoliver/home/wp-content/uploads/2020/06/Rondanini_packaging_630x420.jpg?tr=w-330\" src=\"//cdn.jamieoliver.com/library/images/placeholder/square.gif\"> </img></a>\n",
      "</div>\n",
      "<div class=\"recipe-related-item-title\">\n",
      "<a class=\"hover-link\" href=\"https://www.jamieoliver.com/features/jamies-fresh-pasta-sauce-range/\">Dinner, sorted: Jamie’s fresh pasta &amp; sauce range</a>\n",
      "</div>\n",
      "</div>\n",
      "</div>\n",
      "</div>\n",
      "</div>\n",
      "<!-- TODO Swing this under for mobile -->\n",
      "<div class=\"col-sm-12 col-lg-3 single-recipe-top-sidebar\">\n",
      "<div class=\"visible-lg\">\n",
      "<div class=\"recipe-source-wrapper source-jamie\">\n",
      "<div class=\"recipe-source-images\">\n",
      "<div class=\"recipe-source-image\">\n",
      "<img alt=\"Jamie Magazine\" src=\"https://img.jamieoliver.com/jamieoliver/recipe-database/originalSourceImage/16244a096125da879b3ceb332f0e8a37.jpeg?tr=w-140\"/>\n",
      "</div>\n",
      "</div>\n",
      "<div class=\"recipe-source-details\">\n",
      "<div class=\"recipe-source-banner\">Recipe From</div>\n",
      "<h4>Jamie Magazine</h4>\n",
      "</div>\n",
      "</div>\n",
      "</div>\n",
      "<div id=\"sticky-anchor\"></div>\n",
      "<div class=\"commercial-sidebar sticky sticky-lg\" id=\"sticky\">\n",
      "<!-- Advertisement -->\n",
      "<div class=\"proper-ad-unit ad ad-zero-margin visible-lg\">\n",
      "<div id=\"proper-ad-jamieoliver_recipe_side_1\">\n",
      "<script>\n",
      "                if (window.innerWidth <= 10000 && window.innerWidth >= 1490) {\n",
      "                    propertag.cmd.push(function() { proper_display('jamieoliver_recipe_side_1'); });\n",
      "                }\n",
      "            </script>\n",
      "</div>\n",
      "</div>\n",
      "<!-- End Advertisement -->\n",
      "</div>\n",
      "</div>\n",
      "</div>\n",
      "</div>\n",
      "</section>\n",
      "<hr class=\"no-cross\"/>\n",
      "<!--\n",
      "QueryStats:\n",
      "memcache: 0\n",
      "db: 9\n",
      "expiry: \n",
      "time: \n",
      "src: rDb\n",
      "-->\n",
      "<div class=\"proper-ad-unit ad-sticky footer-sticky-avocado\">\n",
      "<div id=\"proper-ad-jamieoliver_sticky_1\">\n",
      "<script> propertag.cmd.push(function() { proper_display('jamieoliver_sticky_1'); }); </script>\n",
      "</div>\n",
      "</div>\n",
      "<div class=\"promo-banner\" data-slot=\"footer\"></div>\n",
      "<div class=\"container-fluid\" id=\"footer\">\n",
      "<div class=\"container\">\n",
      "<div class=\"row\">\n",
      "<div class=\"col-md-4 col-sd-3 copyright hidden-xs hidden-sm\">\n",
      "                    © 2020 Jamie Oliver Enterprises Limited\n",
      "                </div>\n",
      "<div class=\"col-md-4 col-sd-6 nav\">\n",
      "<ul><li class=\"gtm_footer_nav_0 menu-item menu-item-type-custom menu-item-object-custom menu-item-86\" id=\"menu-item-86\"><a href=\"/terms/\" title=\"T&amp;Cs\">Terms of Use</a></li>\n",
      "<li class=\"gtm_footer_nav_1 menu-item menu-item-type-custom menu-item-object-custom menu-item-87\" id=\"menu-item-87\"><a href=\"/privacy/\" title=\"Privacy\">Privacy Policy</a></li>\n",
      "<li class=\"gtm_footer_nav_2 menu-item menu-item-type-custom menu-item-object-custom menu-item-88\" id=\"menu-item-88\"><a href=\"/cookies/\" title=\"COOKIE POLICY\">Cookies</a></li>\n",
      "<li class=\"gtm_footer_nav_4 menu-item menu-item-type-custom menu-item-object-custom menu-item-394\" id=\"menu-item-394\"><a href=\"https://www.jamieolivergroup.com/\" title=\"CAREERS\">Jamie Oliver Group</a></li>\n",
      "<li class=\"gtm_footer_nav_5 menu-item menu-item-type-custom menu-item-object-custom menu-item-395\" id=\"menu-item-395\"><a href=\"/help/\" title=\"CONTACT\">Contact</a></li>\n",
      "<li class=\"menu-item menu-item-type-custom menu-item-object-custom menu-item-112023\" id=\"menu-item-112023\"><a href=\"/htmlsitemap/\">Sitemap</a></li>\n",
      "</ul> </div>\n",
      "<div class=\"col-md-12 copyright visible-xs visible-sm\">\n",
      "                    © 2020 Jamie Oliver Enterprises Limited\n",
      "                </div>\n",
      "<div class=\"col-md-4 col-sd-3 follow\">\n",
      "<ul>\n",
      "<li>\n",
      "<a class=\"facebook\" href=\"https://www.facebook.com/jamieoliver\" id=\"gtm_nav_facebook\" target=\"_blank\" title=\"Follow on Facebook\">\n",
      "<svg viewbox=\"0 0 24 24\" xmlns=\"http://www.w3.org/2000/svg\"><path d=\"M22.676 0H1.324C.593 0 0 .593 0 1.324v21.352C0 23.408.593 24 1.324 24h11.494v-9.294H9.689v-3.621h3.129V8.41c0-3.099 1.894-4.785 4.659-4.785 1.325 0 2.464.097 2.796.141v3.24h-1.921c-1.5 0-1.792.721-1.792 1.771v2.311h3.584l-.465 3.63H16.56V24h6.115c.733 0 1.325-.592 1.325-1.324V1.324C24 .593 23.408 0 22.676 0\"></path></svg>\n",
      "</a>\n",
      "</li>\n",
      "<li>\n",
      "<a class=\"instagram\" href=\"https://instagram.com/jamieoliver/\" id=\"gtm_nav_instagram\" target=\"_blank\" title=\"Follow on Instagram\">\n",
      "<svg viewbox=\"0 0 24 24\" xmlns=\"http://www.w3.org/2000/svg\"><path d=\"M12 0C8.74 0 8.333.015 7.053.072 5.775.132 4.905.333 4.14.63c-.789.306-1.459.717-2.126 1.384S.935 3.35.63 4.14C.333 4.905.131 5.775.072 7.053.012 8.333 0 8.74 0 12s.015 3.667.072 4.947c.06 1.277.261 2.148.558 2.913.306.788.717 1.459 1.384 2.126.667.666 1.336 1.079 2.126 1.384.766.296 1.636.499 2.913.558C8.333 23.988 8.74 24 12 24s3.667-.015 4.947-.072c1.277-.06 2.148-.262 2.913-.558.788-.306 1.459-.718 2.126-1.384.666-.667 1.079-1.335 1.384-2.126.296-.765.499-1.636.558-2.913.06-1.28.072-1.687.072-4.947s-.015-3.667-.072-4.947c-.06-1.277-.262-2.149-.558-2.913-.306-.789-.718-1.459-1.384-2.126C21.319 1.347 20.651.935 19.86.63c-.765-.297-1.636-.499-2.913-.558C15.667.012 15.26 0 12 0zm0 2.16c3.203 0 3.585.016 4.85.071 1.17.055 1.805.249 2.227.415.562.217.96.477 1.382.896.419.42.679.819.896 1.381.164.422.36 1.057.413 2.227.057 1.266.07 1.646.07 4.85s-.015 3.585-.074 4.85c-.061 1.17-.256 1.805-.421 2.227-.224.562-.479.96-.899 1.382-.419.419-.824.679-1.38.896-.42.164-1.065.36-2.235.413-1.274.057-1.649.07-4.859.07-3.211 0-3.586-.015-4.859-.074-1.171-.061-1.816-.256-2.236-.421-.569-.224-.96-.479-1.379-.899-.421-.419-.69-.824-.9-1.38-.165-.42-.359-1.065-.42-2.235-.045-1.26-.061-1.649-.061-4.844 0-3.196.016-3.586.061-4.861.061-1.17.255-1.814.42-2.234.21-.57.479-.96.9-1.381.419-.419.81-.689 1.379-.898.42-.166 1.051-.361 2.221-.421 1.275-.045 1.65-.06 4.859-.06l.045.03zm0 3.678c-3.405 0-6.162 2.76-6.162 6.162 0 3.405 2.76 6.162 6.162 6.162 3.405 0 6.162-2.76 6.162-6.162 0-3.405-2.76-6.162-6.162-6.162zM12 16c-2.21 0-4-1.79-4-4s1.79-4 4-4 4 1.79 4 4-1.79 4-4 4zm7.846-10.405c0 .795-.646 1.44-1.44 1.44-.795 0-1.44-.646-1.44-1.44 0-.794.646-1.439 1.44-1.439.793-.001 1.44.645 1.44 1.439z\"></path></svg>\n",
      "</a>\n",
      "</li>\n",
      "<li>\n",
      "<a class=\"twitter\" href=\"https://twitter.com/jamieoliver\" id=\"gtm_nav_twitter\" target=\"_blank\" title=\"Follow on Twitter\">\n",
      "<svg viewbox=\"0 0 24 24\" xmlns=\"http://www.w3.org/2000/svg\"><path d=\"M23.954 4.569c-.885.389-1.83.654-2.825.775 1.014-.611 1.794-1.574 2.163-2.723-.951.555-2.005.959-3.127 1.184-.896-.959-2.173-1.559-3.591-1.559-2.717 0-4.92 2.203-4.92 4.917 0 .39.045.765.127 1.124C7.691 8.094 4.066 6.13 1.64 3.161c-.427.722-.666 1.561-.666 2.475 0 1.71.87 3.213 2.188 4.096-.807-.026-1.566-.248-2.228-.616v.061c0 2.385 1.693 4.374 3.946 4.827-.413.111-.849.171-1.296.171-.314 0-.615-.03-.916-.086.631 1.953 2.445 3.377 4.604 3.417-1.68 1.319-3.809 2.105-6.102 2.105-.39 0-.779-.023-1.17-.067 2.189 1.394 4.768 2.209 7.557 2.209 9.054 0 13.999-7.496 13.999-13.986 0-.209 0-.42-.015-.63.961-.689 1.8-1.56 2.46-2.548l-.047-.02z\"></path></svg>\n",
      "</a>\n",
      "</li>\n",
      "<li>\n",
      "<a class=\"pinterest\" href=\"https://uk.pinterest.com/jamieoliver/\" id=\"gtm_nav_pinterest\" target=\"_blank\" title=\"Follow on Pinterest\">\n",
      "<svg viewbox=\"0 0 24 24\" xmlns=\"http://www.w3.org/2000/svg\"><path d=\"M12.017 0C5.396 0 .029 5.367.029 11.987c0 5.079 3.158 9.417 7.618 11.162-.105-.949-.199-2.403.041-3.439.219-.937 1.406-5.957 1.406-5.957s-.359-.72-.359-1.781c0-1.663.967-2.911 2.168-2.911 1.024 0 1.518.769 1.518 1.688 0 1.029-.653 2.567-.992 3.992-.285 1.193.6 2.165 1.775 2.165 2.128 0 3.768-2.245 3.768-5.487 0-2.861-2.063-4.869-5.008-4.869-3.41 0-5.409 2.562-5.409 5.199 0 1.033.394 2.143.889 2.741.099.12.112.225.085.345-.09.375-.293 1.199-.334 1.363-.053.225-.172.271-.401.165-1.495-.69-2.433-2.878-2.433-4.646 0-3.776 2.748-7.252 7.92-7.252 4.158 0 7.392 2.967 7.392 6.923 0 4.135-2.607 7.462-6.233 7.462-1.214 0-2.354-.629-2.758-1.379l-.749 2.848c-.269 1.045-1.004 2.352-1.498 3.146 1.123.345 2.306.535 3.55.535 6.607 0 11.985-5.365 11.985-11.987C23.97 5.39 18.592.026 11.985.026L12.017 0z\"></path></svg>\n",
      "</a>\n",
      "</li>\n",
      "</ul>\n",
      "</div>\n",
      "</div>\n",
      "</div>\n",
      "</div>\n",
      "<!-- footer_menu cache updated 2020-11-06 06:23:48 -->\n",
      "<script type=\"text/javascript\">\n",
      "        var ajaxURL = 'https://www.jamieoliver.com/home/wp-admin/admin-ajax.php';\n",
      "    </script>\n",
      "<script>var blaizeIsLoggedIn = false</script>\n",
      "<script src=\"//cdn.jamieoliver.com/library/build/355/vendor.concat.js\"></script>\n",
      "<script src=\"//cdn.jamieoliver.com/library/build/355/script.concat.js\"></script>\n",
      "<script src=\"//cdn.jamieoliver.com/library/build/355/family-food-global.concat.js\"></script>\n",
      "<!-- footer_scripts cache updated 2020-11-06 06:25:58 -->\n",
      "<script src=\"//cdn.jamieoliver.com/library/js/vendor/ZeroClipboard/ZeroClipboard.min.js\"></script>\n",
      "<script src=\"//cdn.jamieoliver.com/library/js/jquery.easing.1.3.js\"></script>\n",
      "<script src=\"//cdn.jamieoliver.com/library/js/jquery.inview.min.js\"></script>\n",
      "<script src=\"//cdn.jamieoliver.com/library/build/355/recipes.js\"></script>\n",
      "</div><!-- End: site-wrapper -->\n",
      "</div> <!-- End: #geo-region -->\n",
      "<!-- Generated: 2020-11-06 06:53:20-->\n",
      "<!-- Src: 72d-->\n",
      "</body>\n",
      "</html>, '\\n', '\\r\\nPerformance optimized by W3 Total Cache. Learn more: https://www.w3-edge.com/products/\\r\\n\\r\\nPage Caching using disk: enhanced \\r\\nContent Delivery Network via Amazon Web Services: CloudFront: cdn.jamieoliver.com\\r\\n\\r\\nServed from: www.jamieoliver.com @ 2020-11-06 06:53:20 by W3 Total Cache\\r\\n']\n"
     ]
    }
   ],
   "source": [
    "import requests\n",
    "import json\n",
    "from bs4 import BeautifulSoup\n",
    "\n",
    "# A yummy webpage (feel free to change to your likings.)\n",
    "URL = \"https://www.jamieoliver.com/recipes/pasta-recipes/veggie-carbonara/\"\n",
    "\n",
    "# requests will return the html found at the given webpage...\n",
    "page = requests.get(URL)\n",
    "# ...and a BeautifulSoup object can be created from its content.\n",
    "soup = BeautifulSoup(page.content, 'html.parser')\n",
    "\n",
    "listchildren = list(soup.children)\n",
    "print(listchildren)"
   ]
  },
  {
   "cell_type": "markdown",
   "metadata": {
    "id": "IhdMwqykeMJt"
   },
   "source": [
    "We can find any element in the page through *css tag selectors*\n",
    "You can find them all [here](https://www.w3schools.com/cssref/css_selectors.asp), but shortly these are \".\" for classes, # for ids and plain text for the element name.\n",
    "\n",
    "\n",
    "You can also combine them, so that looking for \".class1.class2\" would select all elements displaying both classes. For a deeper overview please check the above link (or google \"html tag selectors\"). "
   ]
  },
  {
   "cell_type": "code",
   "execution_count": 6,
   "metadata": {
    "colab": {
     "base_uri": "https://localhost:8080/",
     "height": 71
    },
    "id": "PBaiK8OLeMJu",
    "outputId": "5b75f973-41c1-4ad4-fd9f-4f1f7665ba1d"
   },
   "outputs": [
    {
     "name": "stdout",
     "output_type": "stream",
     "text": [
      "4\n",
      "[<li><span data-amount=\"1\">1</span> pound spaghetti noodles</li>, <li><span data-amount=\"0.5\" data-unit=\"cup\">½ cup</span> smoked mozzarella cheese</li>, <li><span data-amount=\"0.5\" data-unit=\"cup\">½ cup</span> grated Parmesan cheese, plus more for serving</li>, <li><span data-amount=\"4\">4</span> egg yolks</li>, <li><span data-amount=\"1\" data-unit=\"cup\">1 cup</span> frozen Earthbound Farm Organic peas</li>, <li><span data-amount=\"8\" data-unit=\"cup\">8 cups</span> Earthbound Farm Organic spinach</li>, <li><span data-amount=\"3\" data-unit=\"tablespoon\">3 tablespoons</span> butter</li>, <li><a class=\"tasty-link\" data-tasty-links-no-disclosure=\"\" href=\"https://www.acouplecooks.com/what-is-kosher-salt/\" target=\"_blank\">Kosher salt</a></li>, <li>Fresh ground black pepper</li>]\n"
     ]
    }
   ],
   "source": [
    "print(len(listchildren)) # we can see here how many children the html doc has got.\n",
    "ingredients_unparsed = soup.select_one(\".tasty-recipes-ingredients\")\n",
    "# let's get all the \"list item\" elements in a list:\n",
    "ing_unp = ingredients_unparsed.findAll('li')\n",
    "print(ing_unp)"
   ]
  },
  {
   "cell_type": "markdown",
   "metadata": {
    "id": "tFXVPZhIeMJw"
   },
   "source": [
    "Mmmh... not so pretty yet. How about listing their items using the text method?"
   ]
  },
  {
   "cell_type": "code",
   "execution_count": 17,
   "metadata": {
    "colab": {
     "base_uri": "https://localhost:8080/",
     "height": 204
    },
    "id": "xASBZsnMeMJx",
    "outputId": "7af0f6e9-3b4f-4f34-e444-794087d06e25"
   },
   "outputs": [
    {
     "name": "stdout",
     "output_type": "stream",
     "text": [
      "Ingredients:\n",
      "\n",
      "1 pound spaghetti noodles\n",
      "½ cup smoked mozzarella cheese\n",
      "½ cup grated Parmesan cheese, plus more for serving\n",
      "4 egg yolks\n",
      "1 cup frozen Earthbound Farm Organic peas\n",
      "8 cups Earthbound Farm Organic spinach\n",
      "3 tablespoons butter\n",
      "Kosher salt\n",
      "Fresh ground black pepper\n"
     ]
    }
   ],
   "source": [
    "\n",
    "ingredients = [t.text for t in ing_unp]\n",
    "print(\"Ingredients:\\n\")\n",
    "# [print(i) for i in ingredients]  # Also prints the generator\n",
    "# Instead\n",
    "for ing in ingredients:\n",
    "    print(ing)"
   ]
  },
  {
   "cell_type": "markdown",
   "metadata": {
    "id": "O-RItVHyeMJz"
   },
   "source": [
    "Good. Now the instructions:"
   ]
  },
  {
   "cell_type": "code",
   "execution_count": 8,
   "metadata": {
    "colab": {
     "base_uri": "https://localhost:8080/",
     "height": 54
    },
    "id": "d-3Op4B6eMJ0",
    "outputId": "75a70f0c-86d3-4be9-d2d8-84df91c4f392"
   },
   "outputs": [
    {
     "name": "stdout",
     "output_type": "stream",
     "text": [
      "[<li id=\"instruction-step-1\">In a large pot, combine 6 quarts of water with 2 tablespoons <a class=\"tasty-link\" data-tasty-links-no-disclosure=\"\" href=\"https://www.acouplecooks.com/what-is-kosher-salt/\" target=\"_blank\">kosher salt</a> and bring it to a boil.</li>, <li id=\"instruction-step-2\">Grate the Parmesan and mozzarella cheese. Carefully separate four egg yolks and set aside.</li>, <li id=\"instruction-step-3\">Once boiling, add the pasta and cook until the pasta is just about al dente, about 7 minutes; then add peas and spinach and cook for 1 minute. Reserve 1 cup cooking water, and then drain the pasta and vegetables.</li>, <li id=\"instruction-step-4\">In a skillet, melt the butter, then stir in the cheeses, ¼ cup pasta water, and ¼ teaspoon <a class=\"tasty-link\" data-tasty-links-no-disclosure=\"\" href=\"https://www.acouplecooks.com/what-is-kosher-salt/\" target=\"_blank\">kosher salt</a>. Stir in the pasta and vegetables until creamy over low heat, adding more pasta water if necessary (note that the mozzarella will stick together in some places).</li>, <li id=\"instruction-step-5\">To serve, top each pasta serving with a whole egg yolk and additional Parmesan cheese, and stir the yolk into the pasta at the table (if you are uncomfortable serving egg yolks at the table, stir the egg yolks into the pasta in the skillet to heat them through). Serve immediately. (Note that the mozzarella cheese can become gummy the longer the pasta sits, so eat immediately if possible. Leftovers can be reheated in a skillet, but may not have the same creamy texture.)</li>]\n"
     ]
    }
   ],
   "source": [
    "instructions_unparsed = soup.select_one(\".tasty-recipes-instructions\")\n",
    "instructions_unparsed = instructions_unparsed.findAll(\"li\")\n",
    "print(instructions_unparsed)"
   ]
  },
  {
   "cell_type": "markdown",
   "metadata": {
    "id": "wPWXuglfeMJ2"
   },
   "source": [
    "Let's finish off with the title:"
   ]
  },
  {
   "cell_type": "code",
   "execution_count": 9,
   "metadata": {
    "colab": {
     "base_uri": "https://localhost:8080/",
     "height": 35
    },
    "id": "yg1TnWe2eMJ3",
    "outputId": "05d39a2e-3779-45f1-ddeb-9c6d2ae5f494"
   },
   "outputs": [
    {
     "data": {
      "text/plain": [
       "'Vegetarian Carbonara'"
      ]
     },
     "execution_count": 9,
     "metadata": {},
     "output_type": "execute_result"
    }
   ],
   "source": [
    "title_unparsed = soup.select_one(\".post-header\") # \n",
    "categorical_title = title_unparsed.text.split(\"›\") # website specific divider.\n",
    "recipe_title = categorical_title[-1].strip() # let's remove that ugly space at the beginning.\n",
    "recipe_title"
   ]
  },
  {
   "cell_type": "markdown",
   "metadata": {
    "id": "RYb6WtXYeMJ6"
   },
   "source": [
    "## Task 2.1\n",
    "Now it's your turn. Create a function that can scrape any recipe webpage from the same website (other websites will have different class tags). \n",
    "\n",
    "Make sure to:\n",
    "\n",
    "- return itemized content (e.g. ingredients) in a list. You may want to use a list comprehension here.\n",
    "- Not all items have been cleaned of their html markdown (see variables ```ingredients``` vs. ```instructions_unparsed```. Make sure to return a list with human readable content (i.e. by using the ```.text``` attribute).\n"
   ]
  },
  {
   "cell_type": "code",
   "execution_count": 37,
   "metadata": {
    "colab": {
     "base_uri": "https://localhost:8080/",
     "height": 54
    },
    "id": "UQu9ecLEeMJ6",
    "outputId": "a8aa0e14-a8fb-4279-cf32-8dca97ab3412"
   },
   "outputs": [
    {
     "name": "stdout",
     "output_type": "stream",
     "text": [
      "{'name': 'Mushroom stroganoff', 'ingredients': ['\\n                                                                                                            400                                                                                                                                                                g                                                                                                                                                                mixed mushrooms                                                                                                                                                        ', '\\n                                                                                                            1                                                                                                                                                                                                                    red onion                                                                                                                                                        ', '\\n                                                                                                            2                                                                                                                                                                cloves of                                                                                                                                                                garlic                                                                                                                                                        ', '\\n                                                                                                            4                                                                                                                                                                                                                    silverskin pickled onions                                                                                                                                                        ', '\\n                                                                                                            2                                                                                                                                                                                                                    cornichons                                                                                                                                                        ', '\\n                                                                                                            4                                                                                                                                                                sprigs of                                                                                                                                                                fresh flat-leaf parsley                                                                                                                                                        ', '\\n                                                                                                                                                                                                                    olive oil                                                                                                                                                        ', '\\n                                                                                                            1                                                                                                                                                                tablespoon                                                                                                                                                                baby capers                                                                                                                                                        ', '\\n                                                                                                            50                                                                                                                                                                ml                                                                                                                                                                whisky                                                                                                                                                        ', '\\n                                                                                                                                                                                                                    smoked paprika                                                                                                                                                        ', '\\n                                                                                                            80                                                                                                                                                                g                                                                                                                                                                half-fat crème fraîche                                                                                                                                                        '], 'instructions': ['Get all the prep done before you start cooking: trim the mushrooms, tearing up any larger ones and leaving any smaller ones whole, peel and finely slice the red onion and garlic, and finely slice the pickled onions and cornichons. Pick and roughly chop the parsley leaves, finely chopping the stalks. ', 'Place a large non-stick frying pan over a high heat, throw in the mushrooms and red onions, shake into one layer, then dry-fry for 5 minutes (this will bring out the nutty flavour), stirring regularly. Drizzle in 1 tablespoon of oil, then add the garlic, pickled onions, cornichons, parsley stalks and capers. After 3 minutes, pour in the whisky, tilt the pan to carefully flame, or light with a long match (watch your eyebrows!), and, once the flames subside, add ¼ of a teaspoon of paprika, the crème fraîche and parsley, then toss together. Loosen with a splash of boiling water to a saucy consistency, and season to taste with sea salt and black pepper.', 'Divide between plates, sprinkle over a little paprika, and serve with fluffy rice.']}\n"
     ]
    }
   ],
   "source": [
    "# -*- coding: utf-8 -*-\n",
    "\n",
    "import requests\n",
    "import json\n",
    "from bs4 import BeautifulSoup\n",
    "\n",
    "# Pass in a URL containing hRecipe, such as\n",
    "# https://www.jamieoliver.com/recipes/pasta-recipes/veggie-carbonara/\n",
    "\n",
    "URL = \"https://www.jamieoliver.com/recipes/mushroom-recipes/mushroom-stroganoff/\"#YOUR RECIPE HERE/\n",
    "\n",
    "# Parse out some of the pertinent information for a recipe.\n",
    "# See http://microformats.org/wiki/hrecipe.\n",
    "\n",
    "def parse_website(url):\n",
    "    page = requests.get(url)\n",
    "    soup = BeautifulSoup(page.content, 'html.parser')\n",
    "    \n",
    "    # You code here\n",
    "    # Parse header and get the title\n",
    "    title_unparsed = soup.select_one(\".single-recipe-title\") # \n",
    "    categorical_title = title_unparsed.text.split(\",\") # website specific divider.\n",
    "    recipe_title = categorical_title[-1].strip() # let's remove that ugly space at the beginning.\n",
    "    fn = recipe_title\n",
    "\n",
    "    # Ingredients\n",
    "    ingredients_unparsed = soup.select_one(\".recipe-ingredients\")\n",
    "    # let's get all the \"list item\" elements in a list:\n",
    "    ing_unp = ingredients_unparsed.findAll('li')\n",
    "    ingredients = [t.text for t in ing_unp]\n",
    "    list_ingredients = []\n",
    "    for ing in ingredients:\n",
    "        list_ingredients.append(ing)\n",
    "\n",
    "    # Instructions\n",
    "    instructions_unparsed = soup.select_one(\".recipe-instructions\")\n",
    "    instructions_splitted = instructions_unparsed.findAll(\"li\")\n",
    "    instructions = [t.text for t in instructions_splitted]\n",
    "\n",
    "    return {\n",
    "        'name': fn,\n",
    "        'ingredients': list_ingredients, \n",
    "        'instructions': instructions,\n",
    "    }\n",
    "\n",
    "recipe = parse_website(URL)\n",
    "print (recipe)"
   ]
  },
  {
   "cell_type": "markdown",
   "metadata": {
    "id": "ccURluAIeMJ8"
   },
   "source": [
    "But How can we get information not only from one website,  but from all? \n",
    "\n",
    "The answer: microformats.\n",
    "\n",
    "But rather than extracting with information manually from the schema.org or hRecipe microformats, we can use a package, ```scrape-schema-recipe``` \n",
    "\n",
    "Feel free to experiment with it. "
   ]
  },
  {
   "cell_type": "markdown",
   "metadata": {
    "id": "EBY-y_GreMJ8"
   },
   "source": [
    "### Task 2.2\n",
    "hRecipe is a microformat specifically created for recipes.\n",
    "Can you for example easily compare different dessert recipe ingredients? For inspiration you can look back at the exercises you did in Hands-on session 1 where you compared different sets of tweets."
   ]
  },
  {
   "cell_type": "markdown",
   "metadata": {},
   "source": [
    "### Dessert 1"
   ]
  },
  {
   "cell_type": "code",
   "execution_count": 38,
   "metadata": {},
   "outputs": [
    {
     "name": "stdout",
     "output_type": "stream",
     "text": [
      "{'name': 'Drizzle bundt cake', 'ingredients': ['\\n                                                                                                            375                                                                                                                                                                g                                                                                                                                                                unsalted butter (at room temperature)                                                                                                                                                                , plus extra for greasing                                                                                                     ', '\\n                                                                                                            375                                                                                                                                                                g                                                                                                                                                                golden caster sugar                                                                                                                                                        ', '\\n                                                                                                            375                                                                                                                                                                g                                                                                                                                                                self-raising flour                                                                                                                                                        ', '\\n                                                                                                            150                                                                                                                                                                g                                                                                                                                                                natural yoghurt                                                                                                                                                        ', '\\n                                                                                                            2                                                                                                                                                                tablespoons                                                                                                                                                                tahini                                                                                                                                                        ', '\\n                                                                                                            6                                                                                                                                                                large                                                                                                                                                                free-range eggs                                                                                                                                                        ', '\\n                                                                                                            2                                                                                                                                                                                                                    lemons                                                                                                                                                        ', '\\n                                                                                                            1                                                                                                                                                                                                                    orange                                                                                                                                                        ', '\\n                                                                                                            150                                                                                                                                                                g                                                                                                                                                                shelled unsalted pistachios                                                                                                                                                        ', '\\n                                                        DRIZZLE                                                    ', '\\n                                                                                                            1                                                                                                                                                                                                                    pomegranate                                                                                                                                                        ', '\\n                                                                                                            1                                                                                                                                                                                                                     lime                                                                                                                                                        ', '\\n                                                                                                            ¼-½                                                                                                                                                                 teaspoon                                                                                                                                                                rose water                                                                                                                                                        ', '\\n                                                                                                            300                                                                                                                                                                g                                                                                                                                                                icing sugar                                                                                                                                                        '], 'instructions': ['Preheat the oven to 180ºC/350ºF/gas 4. Generously grease a 2-litre bundt tin with butter. ', 'Place the sugar, flour, butter, yoghurt and tahini into a large bowl. Crack in the eggs, squeeze in all the citrus juice and mix until smooth. You could also do this in a food processor.', 'Pour the mixture into the bundt tin, scraping it out of the processor with a spatula, then give the tin a jiggle to level out the mixture. Bake for 50 to 55 minutes, or until golden and an inserted skewer comes out clean. ', 'Leave the cake to cool in the tin for 5 minutes, then turn out onto a wire rack and leave to cool completely. ', 'To make the amazing drizzle, halve the pomegranate and squeeze 30ml of juice through a sieve into a jug, then squeeze in 30ml of lime juice. Pour into a bowl with the rosewater, then stir in the icing sugar to give you a thick drizzling consistency. ', 'Smash up the pistachios in a pestle and mortar into a mix of random small chunks and lovely dust. ', 'Pour the drizzle over the cooled cake, letting it drip down the sides. Fill the middle of the cake with beautiful pomegranate seeds, then sprinkle over the pistachios, slice and serve.']}\n"
     ]
    }
   ],
   "source": [
    "URL_dessert_1 = \"https://www.jamieoliver.com/recipes/cake-recipes/drizzle-bundt-cake/\"\n",
    "\n",
    "recipe = parse_website(URL_dessert_1)\n",
    "print (recipe)"
   ]
  },
  {
   "cell_type": "markdown",
   "metadata": {},
   "source": [
    "### Dessert 2"
   ]
  },
  {
   "cell_type": "code",
   "execution_count": 39,
   "metadata": {},
   "outputs": [
    {
     "name": "stdout",
     "output_type": "stream",
     "text": [
      "{'name': 'Homemade candied peel', 'ingredients': ['\\n                                                                                                                                                                                                                    rinds of 2 lemons                                                                                                                                                        ', '\\n                                                                                                                                                                                                                    rinds of 2 oranges                                                                                                                                                        ', '\\n                                                                                                                                                                                                                    rind of 1 grapefruit                                                                                                                                                                ,                                                                                                      ', '\\n                                                                                                            250                                                                                                                                                                g                                                                                                                                                                caster sugar                                                                                                                                                                , plus extra for dusting                                                                                                    '], 'instructions': ['Add the fruit rinds to a large saucepan and cover with water. Make sure they are totally submerged – a plate can help to weigh them down.', 'Bring everything to the boil, then reduce to a simmer and cook for 30 minutes, or until the rinds are just starting to soften. ', 'Drain and set the fruit aside to cool. Once cooled, use a spoon to remove any remaining flesh or white pith from the peel and discard.', 'In a medium saucepan, combine the caster sugar with 250ml of water and bring to a simmer over a medium heat, until the sugar is dissolved and the liquid is gently bubbling.', 'Add the rinds, stir to combine, then reduce the heat to low and simmer for 25 minutes, or until the rinds are soft and translucent. Then take the pan off the heat and leave to cool in the syrup.', 'Preheat the oven to the lowest setting. Using tongs, transfer the rinds to a wire rack set over a baking tray, then place in the oven for 1 to 2 hours, so they dry out but are still malleable. ', 'Remove from the oven and toss in a little caster sugar. Store in an airtight container in the fridge and chop as needed. It’ll last for up to six weeks in the fridge.']}\n"
     ]
    }
   ],
   "source": [
    "URL_dessert_2 = \"https://www.jamieoliver.com/recipes/fruit-recipes/homemade-candied-peel/\"\n",
    "\n",
    "recipe = parse_website(URL_dessert_2)\n",
    "print (recipe)"
   ]
  },
  {
   "cell_type": "markdown",
   "metadata": {
    "id": "n-J8fiLbeMJ9"
   },
   "source": [
    "## Exercise 3"
   ]
  },
  {
   "cell_type": "markdown",
   "metadata": {
    "id": "7XBeqJHVeMJ9"
   },
   "source": [
    "Schema.org is one of the most widely used annotations formats. Schema.org is a multipurpose  template that has been created by a consortium consisting of Yahoo!, Google and Microsoft. It can describe entities, events, products etc. Check out the vocabulary specs on Schema.org."
   ]
  },
  {
   "cell_type": "markdown",
   "metadata": {
    "id": "fiw8JClyeMJ-"
   },
   "source": [
    "### Task 3\n",
    "\n",
    "Parsing schema.org microdata. To parse this data you need to install the rdflib-microdata package, which you have done in one of the previous steps.\n",
    "\n"
   ]
  },
  {
   "cell_type": "code",
   "execution_count": 28,
   "metadata": {
    "colab": {
     "base_uri": "https://localhost:8080/",
     "height": 153
    },
    "id": "X2zr3fOOeMJ-",
    "outputId": "d123f981-d73f-470f-b5e9-8735819f894b"
   },
   "outputs": [
    {
     "name": "stdout",
     "output_type": "stream",
     "text": [
      "http://dbpedia.org/resource/Micheal_Jackson http://dbpedia.org/ontology/wikiPageID 14995602\n",
      "http://dbpedia.org/resource/Micheal_Jackson http://xmlns.com/foaf/0.1/isPrimaryTopicOf http://en.wikipedia.org/wiki/Micheal_Jackson\n",
      "http://dbpedia.org/resource/Micheal_Jackson http://dbpedia.org/ontology/wikiPageRevisionID 631226997\n",
      "http://dbpedia.org/resource/Micheal_Jackson http://www.w3.org/ns/prov#wasDerivedFrom http://en.wikipedia.org/wiki/Micheal_Jackson?oldid=631226997\n",
      "http://dbpedia.org/resource/Micheal_Jackson http://www.w3.org/2000/01/rdf-schema#label Micheal Jackson\n",
      "http://dbpedia.org/resource/Micheal_Jackson http://dbpedia.org/ontology/wikiPageRedirects http://dbpedia.org/resource/Michael_Jackson\n",
      "http://en.wikipedia.org/wiki/Micheal_Jackson http://xmlns.com/foaf/0.1/primaryTopic http://dbpedia.org/resource/Micheal_Jackson\n",
      "http://dbpedia.org/resource/Micheal_Jackson http://www.w3.org/2002/07/owl#sameAs http://dbpedia.org/resource/Micheal_Jackson\n"
     ]
    }
   ],
   "source": [
    "from rdflib import Graph\n",
    "\n",
    "# Source: https://www.youtube.com/watch?v=sCU214rbRZ0\n",
    "# Pass in a URL containing Schema.org microformats\n",
    "URL = \"http://dbpedia.org/resource/Micheal_Jackson\"\n",
    "\n",
    "# Initialize a graph\n",
    "g = Graph()\n",
    "\n",
    "# Parse in an RDF file graph dbpedia\n",
    "result = g.parse(location=URL)\n",
    "\n",
    "# Loop through first 10 triples in the graph\n",
    "for index, (sub, pred, obj) in enumerate(g):\n",
    "    print(sub, pred, obj)\n",
    "    if index == 10:\n",
    "        break"
   ]
  },
  {
   "cell_type": "code",
   "execution_count": 29,
   "metadata": {
    "colab": {
     "base_uri": "https://localhost:8080/",
     "height": 34
    },
    "id": "hrQ2EuY5JAn1",
    "outputId": "eba60ebb-7ac5-4451-c16e-3f68e66af7f3"
   },
   "outputs": [
    {
     "name": "stdout",
     "output_type": "stream",
     "text": [
      "Graph has 8 facts\n"
     ]
    }
   ],
   "source": [
    "# Print the size of the Graph\n",
    "print(f'Graph has {len(g)} facts')"
   ]
  },
  {
   "cell_type": "code",
   "execution_count": 30,
   "metadata": {
    "colab": {
     "base_uri": "https://localhost:8080/",
     "height": 323
    },
    "id": "IAO1JllwJMqO",
    "outputId": "08f5e32d-d1a6-4a30-878a-ce7b768a8811"
   },
   "outputs": [
    {
     "name": "stdout",
     "output_type": "stream",
     "text": [
      "@prefix dbo: <http://dbpedia.org/ontology/> .\n",
      "@prefix foaf: <http://xmlns.com/foaf/0.1/> .\n",
      "@prefix owl: <http://www.w3.org/2002/07/owl#> .\n",
      "@prefix prov: <http://www.w3.org/ns/prov#> .\n",
      "@prefix rdfs: <http://www.w3.org/2000/01/rdf-schema#> .\n",
      "@prefix xsd: <http://www.w3.org/2001/XMLSchema#> .\n",
      "\n",
      "<http://en.wikipedia.org/wiki/Micheal_Jackson> foaf:primaryTopic <http://dbpedia.org/resource/Micheal_Jackson> .\n",
      "\n",
      "<http://dbpedia.org/resource/Micheal_Jackson> rdfs:label \"Micheal Jackson\"@en ;\n",
      "    dbo:wikiPageID 14995602 ;\n",
      "    dbo:wikiPageRedirects <http://dbpedia.org/resource/Michael_Jackson> ;\n",
      "    dbo:wikiPageRevisionID 631226997 ;\n",
      "    owl:sameAs <http://dbpedia.org/resource/Micheal_Jackson> ;\n",
      "    prov:wasDerivedFrom <http://en.wikipedia.org/wiki/Micheal_Jackson?oldid=631226997> ;\n",
      "    foaf:isPrimaryTopicOf <http://en.wikipedia.org/wiki/Micheal_Jackson> .\n",
      "\n",
      "\n"
     ]
    }
   ],
   "source": [
    "# Print out the entire Graph in the RDF Turtle format\n",
    "print(g.serialize(format='ttl').decode('u8'))"
   ]
  },
  {
   "cell_type": "markdown",
   "metadata": {
    "id": "dzbynasAeMKA"
   },
   "source": [
    "### Task 3.1 \n",
    "Compare the schema.org information about a band on last.fm to the Facebook Open Graph information about the same band from Facebook. What are the differences? Which format do you think supports better interoperability?"
   ]
  },
  {
   "cell_type": "markdown",
   "metadata": {
    "id": "Nocs4YDPeMKB"
   },
   "source": [
    "### Task 3.2\n",
    "Explore the various microformats at http://microformats.org/ and compare the output of the exercises with the output of http://microformats.org/. Think about possible microformats you want to support in your final assignment and read up on how to parse them."
   ]
  }
 ],
 "metadata": {
  "colab": {
   "collapsed_sections": [],
   "name": "Hands-on_2_microformats.ipynb",
   "provenance": [],
   "toc_visible": true
  },
  "kernelspec": {
   "display_name": "Python 3",
   "language": "python",
   "name": "python3"
  },
  "language_info": {
   "codemirror_mode": {
    "name": "ipython",
    "version": 3
   },
   "file_extension": ".py",
   "mimetype": "text/x-python",
   "name": "python",
   "nbconvert_exporter": "python",
   "pygments_lexer": "ipython3",
   "version": "3.8.6"
  }
 },
 "nbformat": 4,
 "nbformat_minor": 1
}
