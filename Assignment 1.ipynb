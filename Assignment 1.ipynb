{
 "cells": [
  {
   "cell_type": "markdown",
   "metadata": {},
   "source": [
    "*****************************************************************\n",
    "#  The Social Web \n",
    "- Instructors Jacco van Ossenbruggen, Dayana Spagnuelo\n",
    "- TAs Michael Accetto, Oktay Kavi, Abhirup Mukherjee, Nihat Uzunalioğlu\n",
    "*****************************************************************"
   ]
  },
  {
   "cell_type": "markdown",
   "metadata": {},
   "source": [
    "Prerequisites:\n",
    "- Python 3.8\n",
    "- Python packages: twitter, prettytable, matplotlib\n",
    "\n",
    "First you need to know how to retrieve some social web data. Exercises 1 and 2 will show you how to retrieve trends and search results from Twitter. \n",
    "\n",
    "But let's check first if we're running a sufficiently new version of Python:"
   ]
  },
  {
   "cell_type": "code",
   "execution_count": 1,
   "metadata": {},
   "outputs": [
    {
     "name": "stdout",
     "output_type": "stream",
     "text": [
      "This jupyter notebook is running on Python 3.8.6\n"
     ]
    }
   ],
   "source": [
    "import platform\n",
    "import sys\n",
    "print(\"This jupyter notebook is running on Python \" + platform.python_version())\n",
    "# It's good practice to assert packages requirements at the beginning of a script:\n",
    "assert sys.version_info >= (3, 6) # Tested with Python==3.7.5"
   ]
  },
  {
   "cell_type": "markdown",
   "metadata": {},
   "source": [
    "Let's install now the required packages for this hands on session:"
   ]
  },
  {
   "cell_type": "code",
   "execution_count": 2,
   "metadata": {},
   "outputs": [
    {
     "name": "stdout",
     "output_type": "stream",
     "text": [
      "Requirement already satisfied: twitter in /Library/Frameworks/Python.framework/Versions/3.8/lib/python3.8/site-packages (1.18.0)\n",
      "Requirement already satisfied: PrettyTable in /Library/Frameworks/Python.framework/Versions/3.8/lib/python3.8/site-packages (1.0.1)\n",
      "Requirement already satisfied: matplotlib in /Library/Frameworks/Python.framework/Versions/3.8/lib/python3.8/site-packages (3.3.2)\n",
      "Requirement already satisfied: setuptools in /Library/Frameworks/Python.framework/Versions/3.8/lib/python3.8/site-packages (from PrettyTable) (49.2.1)\n",
      "Requirement already satisfied: wcwidth in /Library/Frameworks/Python.framework/Versions/3.8/lib/python3.8/site-packages (from PrettyTable) (0.2.5)\n",
      "Requirement already satisfied: kiwisolver>=1.0.1 in /Library/Frameworks/Python.framework/Versions/3.8/lib/python3.8/site-packages (from matplotlib) (1.3.0)\n",
      "Requirement already satisfied: pillow>=6.2.0 in /Library/Frameworks/Python.framework/Versions/3.8/lib/python3.8/site-packages (from matplotlib) (8.0.1)\n",
      "Requirement already satisfied: cycler>=0.10 in /Library/Frameworks/Python.framework/Versions/3.8/lib/python3.8/site-packages (from matplotlib) (0.10.0)\n",
      "Requirement already satisfied: python-dateutil>=2.1 in /Library/Frameworks/Python.framework/Versions/3.8/lib/python3.8/site-packages (from matplotlib) (2.8.1)\n",
      "Requirement already satisfied: pyparsing!=2.0.4,!=2.1.2,!=2.1.6,>=2.0.3 in /Library/Frameworks/Python.framework/Versions/3.8/lib/python3.8/site-packages (from matplotlib) (2.4.7)\n",
      "Requirement already satisfied: numpy>=1.15 in /Library/Frameworks/Python.framework/Versions/3.8/lib/python3.8/site-packages (from matplotlib) (1.19.3)\n",
      "Requirement already satisfied: certifi>=2020.06.20 in /Library/Frameworks/Python.framework/Versions/3.8/lib/python3.8/site-packages (from matplotlib) (2020.6.20)\n",
      "Requirement already satisfied: six in /Library/Frameworks/Python.framework/Versions/3.8/lib/python3.8/site-packages (from cycler>=0.10->matplotlib) (1.15.0)\n"
     ]
    }
   ],
   "source": [
    "# If you're using a virtualenv, make sure its activated before running \n",
    "# this cell!\n",
    "!pip3 install twitter PrettyTable matplotlib"
   ]
  },
  {
   "cell_type": "markdown",
   "metadata": {},
   "source": [
    "## Part 1: Authorizing an application to access Twitter account data (from Example 1-1/9-1 in Mining the Social Web):\n",
    "\n",
    "1. Make sure to add your mobile phone number to your private twitter profile.\n",
    "2. Go to https://apps.twitter.com/ and click on \"create an app\". Twitter will prompt you to create a *developer account*.\n",
    "3. You'll receive an *account confirmation* email with a link. Follow it and create an app. \n",
    "4. Once the app is created, you'll see a \"Keys and Token\" item on the top left-hand side corner of the webpage. These values will be needed to fill in the next cell.\n",
    "5. Please delete all your keys before submission."
   ]
  },
  {
   "cell_type": "code",
   "execution_count": 3,
   "metadata": {},
   "outputs": [
    {
     "name": "stdout",
     "output_type": "stream",
     "text": [
      "<twitter.api.Twitter object at 0x7fe56ebb2f40>\n"
     ]
    }
   ],
   "source": [
    "import twitter # Tell Python to use the twitter package\n",
    "CONSUMER_KEY = 'Y1ggAtCOVbJko8ORR3nw8CuQX'\n",
    "CONSUMER_SECRET = '08ehh1iwqQsvKOLtUEtUWWj5PXZuNmMwS58290OIyt7QYvM4cs'\n",
    "# to get the oauth credential you need to click on the 'Generate access token' button:\n",
    "OAUTH_TOKEN = '158063657-TOCYnYDivwph02X7EMzndVaLtDgphT03y9bvMH1T' \n",
    "OAUTH_TOKEN_SECRET = 'UmLZ5BCiBY0njlKVqCNWh2Cgqp8Wrl4n284YMvzjABMS1'\n",
    "auth = twitter.oauth.OAuth(OAUTH_TOKEN, OAUTH_TOKEN_SECRET,CONSUMER_KEY, CONSUMER_SECRET)\n",
    "twitter_api = twitter.Twitter(auth=auth)\n",
    "print(twitter_api) \n",
    "# Nothing to see by displaying twitter_api except that it's now a defined variable\n"
   ]
  },
  {
   "cell_type": "markdown",
   "metadata": {},
   "source": [
    "### 1.1: Retrieving twitter search trends (from Example 1-2/9-2 in Mining the Social Web)"
   ]
  },
  {
   "cell_type": "code",
   "execution_count": 4,
   "metadata": {},
   "outputs": [
    {
     "name": "stdout",
     "output_type": "stream",
     "text": [
      "[{'trends': [{'name': 'Ayda', 'url': 'http://twitter.com/search?q=Ayda', 'promoted_content': None, 'query': 'Ayda', 'tweet_volume': 133728}, {'name': '#嵐の日', 'url': 'http://twitter.com/search?q=%23%E5%B5%90%E3%81%AE%E6%97%A5', 'promoted_content': None, 'query': '%23%E5%B5%90%E3%81%AE%E6%97%A5', 'tweet_volume': 895962}, {'name': 'Ayla', 'url': 'http://twitter.com/search?q=Ayla', 'promoted_content': None, 'query': 'Ayla', 'tweet_volume': 83865}, {'name': '#SayNoToSocialMediaBill', 'url': 'http://twitter.com/search?q=%23SayNoToSocialMediaBill', 'promoted_content': None, 'query': '%23SayNoToSocialMediaBill', 'tweet_volume': 192175}, {'name': '#TravelWithMamamoo', 'url': 'http://twitter.com/search?q=%23TravelWithMamamoo', 'promoted_content': None, 'query': '%23TravelWithMamamoo', 'tweet_volume': 51808}, {'name': '#FGOで最も思い入れのある写真1枚', 'url': 'http://twitter.com/search?q=%23FGO%E3%81%A7%E6%9C%80%E3%82%82%E6%80%9D%E3%81%84%E5%85%A5%E3%82%8C%E3%81%AE%E3%81%82%E3%82%8B%E5%86%99%E7%9C%9F1%E6%9E%9A', 'promoted_content': None, 'query': '%23FGO%E3%81%A7%E6%9C%80%E3%82%82%E6%80%9D%E3%81%84%E5%85%A5%E3%82%8C%E3%81%AE%E3%81%82%E3%82%8B%E5%86%99%E7%9C%9F1%E6%9E%9A', 'tweet_volume': 27159}, {'name': '#森且行', 'url': 'http://twitter.com/search?q=%23%E6%A3%AE%E4%B8%94%E8%A1%8C', 'promoted_content': None, 'query': '%23%E6%A3%AE%E4%B8%94%E8%A1%8C', 'tweet_volume': 18572}, {'name': '大宮SK', 'url': 'http://twitter.com/search?q=%E5%A4%A7%E5%AE%AESK', 'promoted_content': None, 'query': '%E5%A4%A7%E5%AE%AESK', 'tweet_volume': 12080}, {'name': 'どらほー', 'url': 'http://twitter.com/search?q=%E3%81%A9%E3%82%89%E3%81%BB%E3%83%BC', 'promoted_content': None, 'query': '%E3%81%A9%E3%82%89%E3%81%BB%E3%83%BC', 'tweet_volume': None}, {'name': 'サブノジュニア', 'url': 'http://twitter.com/search?q=%E3%82%B5%E3%83%96%E3%83%8E%E3%82%B8%E3%83%A5%E3%83%8B%E3%82%A2', 'promoted_content': None, 'query': '%E3%82%B5%E3%83%96%E3%83%8E%E3%82%B8%E3%83%A5%E3%83%8B%E3%82%A2', 'tweet_volume': None}, {'name': 'Allahu Ekber', 'url': 'http://twitter.com/search?q=%22Allahu+Ekber%22', 'promoted_content': None, 'query': '%22Allahu+Ekber%22', 'tweet_volume': None}, {'name': 'アラフェス', 'url': 'http://twitter.com/search?q=%E3%82%A2%E3%83%A9%E3%83%95%E3%82%A7%E3%82%B9', 'promoted_content': None, 'query': '%E3%82%A2%E3%83%A9%E3%83%95%E3%82%A7%E3%82%B9', 'tweet_volume': 119029}, {'name': 'ディスコスター様', 'url': 'http://twitter.com/search?q=%E3%83%87%E3%82%A3%E3%82%B9%E3%82%B3%E3%82%B9%E3%82%BF%E3%83%BC%E6%A7%98', 'promoted_content': None, 'query': '%E3%83%87%E3%82%A3%E3%82%B9%E3%82%B3%E3%82%B9%E3%82%BF%E3%83%BC%E6%A7%98', 'tweet_volume': None}, {'name': 'Rabbime', 'url': 'http://twitter.com/search?q=Rabbime', 'promoted_content': None, 'query': 'Rabbime', 'tweet_volume': 18986}, {'name': 'れおほー', 'url': 'http://twitter.com/search?q=%E3%82%8C%E3%81%8A%E3%81%BB%E3%83%BC', 'promoted_content': None, 'query': '%E3%82%8C%E3%81%8A%E3%81%BB%E3%83%BC', 'tweet_volume': None}, {'name': 'たかほー', 'url': 'http://twitter.com/search?q=%E3%81%9F%E3%81%8B%E3%81%BB%E3%83%BC', 'promoted_content': None, 'query': '%E3%81%9F%E3%81%8B%E3%81%BB%E3%83%BC', 'tweet_volume': None}, {'name': 'あーらーしー', 'url': 'http://twitter.com/search?q=%E3%81%82%E3%83%BC%E3%82%89%E3%83%BC%E3%81%97%E3%83%BC', 'promoted_content': None, 'query': '%E3%81%82%E3%83%BC%E3%82%89%E3%83%BC%E3%81%97%E3%83%BC', 'tweet_volume': 26203}, {'name': 'Dixville Notch', 'url': 'http://twitter.com/search?q=%22Dixville+Notch%22', 'promoted_content': None, 'query': '%22Dixville+Notch%22', 'tweet_volume': 51706}, {'name': 'JBC2', 'url': 'http://twitter.com/search?q=JBC2', 'promoted_content': None, 'query': 'JBC2', 'tweet_volume': None}, {'name': 'Lil Pump', 'url': 'http://twitter.com/search?q=%22Lil+Pump%22', 'promoted_content': None, 'query': '%22Lil+Pump%22', 'tweet_volume': 42613}, {'name': 'T.A.B.O.O', 'url': 'http://twitter.com/search?q=T.A.B.O.O', 'promoted_content': None, 'query': 'T.A.B.O.O', 'tweet_volume': None}, {'name': 'ベイブレードASMR', 'url': 'http://twitter.com/search?q=%E3%83%99%E3%82%A4%E3%83%96%E3%83%AC%E3%83%BC%E3%83%89ASMR', 'promoted_content': None, 'query': '%E3%83%99%E3%82%A4%E3%83%96%E3%83%AC%E3%83%BC%E3%83%89ASMR', 'tweet_volume': None}, {'name': 'れんたんセンター', 'url': 'http://twitter.com/search?q=%E3%82%8C%E3%82%93%E3%81%9F%E3%82%93%E3%82%BB%E3%83%B3%E3%82%BF%E3%83%BC', 'promoted_content': None, 'query': '%E3%82%8C%E3%82%93%E3%81%9F%E3%82%93%E3%82%BB%E3%83%B3%E3%82%BF%E3%83%BC', 'tweet_volume': None}, {'name': 'Daniel Jones', 'url': 'http://twitter.com/search?q=%22Daniel+Jones%22', 'promoted_content': None, 'query': '%22Daniel+Jones%22', 'tweet_volume': 34601}, {'name': 'キメハラ', 'url': 'http://twitter.com/search?q=%E3%82%AD%E3%83%A1%E3%83%8F%E3%83%A9', 'promoted_content': None, 'query': '%E3%82%AD%E3%83%A1%E3%83%8F%E3%83%A9', 'tweet_volume': 58202}, {'name': '日本選手権', 'url': 'http://twitter.com/search?q=%E6%97%A5%E6%9C%AC%E9%81%B8%E6%89%8B%E6%A8%A9', 'promoted_content': None, 'query': '%E6%97%A5%E6%9C%AC%E9%81%B8%E6%89%8B%E6%A8%A9', 'tweet_volume': 14795}, {'name': '戸郷くん', 'url': 'http://twitter.com/search?q=%E6%88%B8%E9%83%B7%E3%81%8F%E3%82%93', 'promoted_content': None, 'query': '%E6%88%B8%E9%83%B7%E3%81%8F%E3%82%93', 'tweet_volume': None}, {'name': 'ゴジハムくん', 'url': 'http://twitter.com/search?q=%E3%82%B4%E3%82%B8%E3%83%8F%E3%83%A0%E3%81%8F%E3%82%93', 'promoted_content': None, 'query': '%E3%82%B4%E3%82%B8%E3%83%8F%E3%83%A0%E3%81%8F%E3%82%93', 'tweet_volume': 23799}, {'name': '同率2位', 'url': 'http://twitter.com/search?q=%E5%90%8C%E7%8E%872%E4%BD%8D', 'promoted_content': None, 'query': '%E5%90%8C%E7%8E%872%E4%BD%8D', 'tweet_volume': None}, {'name': 'Annesi', 'url': 'http://twitter.com/search?q=Annesi', 'promoted_content': None, 'query': 'Annesi', 'tweet_volume': None}, {'name': 'わけほー', 'url': 'http://twitter.com/search?q=%E3%82%8F%E3%81%91%E3%81%BB%E3%83%BC', 'promoted_content': None, 'query': '%E3%82%8F%E3%81%91%E3%81%BB%E3%83%BC', 'tweet_volume': None}, {'name': 'ブルドッグボス', 'url': 'http://twitter.com/search?q=%E3%83%96%E3%83%AB%E3%83%89%E3%83%83%E3%82%B0%E3%83%9C%E3%82%B9', 'promoted_content': None, 'query': '%E3%83%96%E3%83%AB%E3%83%89%E3%83%83%E3%82%B0%E3%83%9C%E3%82%B9', 'tweet_volume': None}, {'name': '91 Saat', 'url': 'http://twitter.com/search?q=%2291+Saat%22', 'promoted_content': None, 'query': '%2291+Saat%22', 'tweet_volume': 77974}, {'name': 'カップリング1位', 'url': 'http://twitter.com/search?q=%E3%82%AB%E3%83%83%E3%83%97%E3%83%AA%E3%83%B3%E3%82%B01%E4%BD%8D', 'promoted_content': None, 'query': '%E3%82%AB%E3%83%83%E3%83%97%E3%83%AA%E3%83%B3%E3%82%B01%E4%BD%8D', 'tweet_volume': None}, {'name': 'Disco Star', 'url': 'http://twitter.com/search?q=%22Disco+Star%22', 'promoted_content': None, 'query': '%22Disco+Star%22', 'tweet_volume': None}, {'name': '文化の日', 'url': 'http://twitter.com/search?q=%E6%96%87%E5%8C%96%E3%81%AE%E6%97%A5', 'promoted_content': None, 'query': '%E6%96%87%E5%8C%96%E3%81%AE%E6%97%A5', 'tweet_volume': 106851}, {'name': 'AlparslanHocaya TerördenBeraat', 'url': 'http://twitter.com/search?q=%22AlparslanHocaya+Ter%C3%B6rdenBeraat%22', 'promoted_content': None, 'query': '%22AlparslanHocaya+Ter%C3%B6rdenBeraat%22', 'tweet_volume': None}, {'name': 'ファッショニスタ', 'url': 'http://twitter.com/search?q=%E3%83%95%E3%82%A1%E3%83%83%E3%82%B7%E3%83%A7%E3%83%8B%E3%82%B9%E3%82%BF', 'promoted_content': None, 'query': '%E3%83%95%E3%82%A1%E3%83%83%E3%82%B7%E3%83%A7%E3%83%8B%E3%82%B9%E3%82%BF', 'tweet_volume': None}, {'name': 'オタクインパクト', 'url': 'http://twitter.com/search?q=%E3%82%AA%E3%82%BF%E3%82%AF%E3%82%A4%E3%83%B3%E3%83%91%E3%82%AF%E3%83%88', 'promoted_content': None, 'query': '%E3%82%AA%E3%82%BF%E3%82%AF%E3%82%A4%E3%83%B3%E3%83%91%E3%82%AF%E3%83%88', 'tweet_volume': None}, {'name': '#ElectionDay', 'url': 'http://twitter.com/search?q=%23ElectionDay', 'promoted_content': None, 'query': '%23ElectionDay', 'tweet_volume': 240783}, {'name': '#MilleteHizmette18Yıl', 'url': 'http://twitter.com/search?q=%23MilleteHizmette18Y%C4%B1l', 'promoted_content': None, 'query': '%23MilleteHizmette18Y%C4%B1l', 'tweet_volume': 14729}, {'name': '#تحديث_السناب', 'url': 'http://twitter.com/search?q=%23%D8%AA%D8%AD%D8%AF%D9%8A%D8%AB_%D8%A7%D9%84%D8%B3%D9%86%D8%A7%D8%A8', 'promoted_content': None, 'query': '%23%D8%AA%D8%AD%D8%AF%D9%8A%D8%AB_%D8%A7%D9%84%D8%B3%D9%86%D8%A7%D8%A8', 'tweet_volume': 20916}, {'name': '#嵐に質問', 'url': 'http://twitter.com/search?q=%23%E5%B5%90%E3%81%AB%E8%B3%AA%E5%95%8F', 'promoted_content': None, 'query': '%23%E5%B5%90%E3%81%AB%E8%B3%AA%E5%95%8F', 'tweet_volume': 59872}, {'name': '#デブと言わずにデブを表現する', 'url': 'http://twitter.com/search?q=%23%E3%83%87%E3%83%96%E3%81%A8%E8%A8%80%E3%82%8F%E3%81%9A%E3%81%AB%E3%83%87%E3%83%96%E3%82%92%E8%A1%A8%E7%8F%BE%E3%81%99%E3%82%8B', 'promoted_content': None, 'query': '%23%E3%83%87%E3%83%96%E3%81%A8%E8%A8%80%E3%82%8F%E3%81%9A%E3%81%AB%E3%83%87%E3%83%96%E3%82%92%E8%A1%A8%E7%8F%BE%E3%81%99%E3%82%8B', 'tweet_volume': 20395}, {'name': '#갤러리의_14번째_사진과_싸워라', 'url': 'http://twitter.com/search?q=%23%EA%B0%A4%EB%9F%AC%EB%A6%AC%EC%9D%98_14%EB%B2%88%EC%A7%B8_%EC%82%AC%EC%A7%84%EA%B3%BC_%EC%8B%B8%EC%9B%8C%EB%9D%BC', 'promoted_content': None, 'query': '%23%EA%B0%A4%EB%9F%AC%EB%A6%AC%EC%9D%98_14%EB%B2%88%EC%A7%B8_%EC%82%AC%EC%A7%84%EA%B3%BC_%EC%8B%B8%EC%9B%8C%EB%9D%BC', 'tweet_volume': None}, {'name': '#MicromaxIsBack', 'url': 'http://twitter.com/search?q=%23MicromaxIsBack', 'promoted_content': None, 'query': '%23MicromaxIsBack', 'tweet_volume': 13815}, {'name': '#PangalawangBitaw', 'url': 'http://twitter.com/search?q=%23PangalawangBitaw', 'promoted_content': None, 'query': '%23PangalawangBitaw', 'tweet_volume': None}, {'name': '#TuesdayShoutout', 'url': 'http://twitter.com/search?q=%23TuesdayShoutout', 'promoted_content': None, 'query': '%23TuesdayShoutout', 'tweet_volume': None}, {'name': '#JBCスプリント', 'url': 'http://twitter.com/search?q=%23JBC%E3%82%B9%E3%83%97%E3%83%AA%E3%83%B3%E3%83%88', 'promoted_content': None, 'query': '%23JBC%E3%82%B9%E3%83%97%E3%83%AA%E3%83%B3%E3%83%88', 'tweet_volume': None}, {'name': '#BobiWineNomination', 'url': 'http://twitter.com/search?q=%23BobiWineNomination', 'promoted_content': None, 'query': '%23BobiWineNomination', 'tweet_volume': 23844}], 'as_of': '2020-11-03T08:55:20Z', 'created_at': '2020-11-01T09:39:24Z', 'locations': [{'name': 'Worldwide', 'woeid': 1}]}]\n"
     ]
    }
   ],
   "source": [
    "WORLD_WOE_ID = 1 # The \"Yahoo! Where On Earth ID\" for the entire world\n",
    "world_trends = twitter_api.trends.place(_id=WORLD_WOE_ID) # get back a callable\n",
    "print(world_trends)"
   ]
  },
  {
   "cell_type": "markdown",
   "metadata": {},
   "source": [
    "### Task 1\n",
    "Twitter uses WOEIDs. Find out how WORLD_WOE_IDs were originally defined by Yahoo! and try to use others in a query. What kind of differences do you find between the worldwide trends and the local trends? \n"
   ]
  },
  {
   "cell_type": "code",
   "execution_count": 5,
   "metadata": {},
   "outputs": [
    {
     "name": "stdout",
     "output_type": "stream",
     "text": [
      "[{'trends': [{'name': 'Dixville Notch', 'url': 'http://twitter.com/search?q=%22Dixville+Notch%22', 'promoted_content': None, 'query': '%22Dixville+Notch%22', 'tweet_volume': 51706}, {'name': 'Daniel Jones', 'url': 'http://twitter.com/search?q=%22Daniel+Jones%22', 'promoted_content': None, 'query': '%22Daniel+Jones%22', 'tweet_volume': 34601}, {'name': '#ElectionDay', 'url': 'http://twitter.com/search?q=%23ElectionDay', 'promoted_content': None, 'query': '%23ElectionDay', 'tweet_volume': 240783}, {'name': 'Lil Pump', 'url': 'http://twitter.com/search?q=%22Lil+Pump%22', 'promoted_content': None, 'query': '%22Lil+Pump%22', 'tweet_volume': 42613}, {'name': 'the giants', 'url': 'http://twitter.com/search?q=%22the+giants%22', 'promoted_content': None, 'query': '%22the+giants%22', 'tweet_volume': 56468}, {'name': '#VoteBidenHarrisToSaveAmerica', 'url': 'http://twitter.com/search?q=%23VoteBidenHarrisToSaveAmerica', 'promoted_content': None, 'query': '%23VoteBidenHarrisToSaveAmerica', 'tweet_volume': 77769}, {'name': 'Brady', 'url': 'http://twitter.com/search?q=Brady', 'promoted_content': None, 'query': 'Brady', 'tweet_volume': 62866}, {'name': '#WWERaw', 'url': 'http://twitter.com/search?q=%23WWERaw', 'promoted_content': None, 'query': '%23WWERaw', 'tweet_volume': 49206}, {'name': 'danny', 'url': 'http://twitter.com/search?q=danny', 'promoted_content': None, 'query': 'danny', 'tweet_volume': 42836}, {'name': 'Christmas Eve', 'url': 'http://twitter.com/search?q=%22Christmas+Eve%22', 'promoted_content': None, 'query': '%22Christmas+Eve%22', 'tweet_volume': 15396}, {'name': 'Justin Fields', 'url': 'http://twitter.com/search?q=%22Justin+Fields%22', 'promoted_content': None, 'query': '%22Justin+Fields%22', 'tweet_volume': None}, {'name': '#TravelWithMamamoo', 'url': 'http://twitter.com/search?q=%23TravelWithMamamoo', 'promoted_content': None, 'query': '%23TravelWithMamamoo', 'tweet_volume': 51808}, {'name': 'Alton Brown', 'url': 'http://twitter.com/search?q=%22Alton+Brown%22', 'promoted_content': None, 'query': '%22Alton+Brown%22', 'tweet_volume': None}, {'name': '#FreeGamingPC', 'url': 'http://twitter.com/search?q=%23FreeGamingPC', 'promoted_content': None, 'query': '%23FreeGamingPC', 'tweet_volume': 24037}, {'name': 'Tracy Chapman', 'url': 'http://twitter.com/search?q=%22Tracy+Chapman%22', 'promoted_content': None, 'query': '%22Tracy+Chapman%22', 'tweet_volume': None}, {'name': 'Bambam', 'url': 'http://twitter.com/search?q=Bambam', 'promoted_content': None, 'query': 'Bambam', 'tweet_volume': 203270}, {'name': 'Josh Smith', 'url': 'http://twitter.com/search?q=%22Josh+Smith%22', 'promoted_content': None, 'query': '%22Josh+Smith%22', 'tweet_volume': None}, {'name': 'Gucci Gang', 'url': 'http://twitter.com/search?q=%22Gucci+Gang%22', 'promoted_content': None, 'query': '%22Gucci+Gang%22', 'tweet_volume': None}, {'name': 'Golden Tate', 'url': 'http://twitter.com/search?q=%22Golden+Tate%22', 'promoted_content': None, 'query': '%22Golden+Tate%22', 'tweet_volume': None}, {'name': 'Vince Carter', 'url': 'http://twitter.com/search?q=%22Vince+Carter%22', 'promoted_content': None, 'query': '%22Vince+Carter%22', 'tweet_volume': None}, {'name': 'Wilbur', 'url': 'http://twitter.com/search?q=Wilbur', 'promoted_content': None, 'query': 'Wilbur', 'tweet_volume': 18855}, {'name': 'Grand Rapids', 'url': 'http://twitter.com/search?q=%22Grand+Rapids%22', 'promoted_content': None, 'query': '%22Grand+Rapids%22', 'tweet_volume': 93386}, {'name': 'Jason Richardson', 'url': 'http://twitter.com/search?q=%22Jason+Richardson%22', 'promoted_content': None, 'query': '%22Jason+Richardson%22', 'tweet_volume': None}, {'name': 'Shawn Kemp', 'url': 'http://twitter.com/search?q=%22Shawn+Kemp%22', 'promoted_content': None, 'query': '%22Shawn+Kemp%22', 'tweet_volume': None}, {'name': 'NIKI', 'url': 'http://twitter.com/search?q=NIKI', 'promoted_content': None, 'query': 'NIKI', 'tweet_volume': 31183}, {'name': 'Grape Nuts', 'url': 'http://twitter.com/search?q=%22Grape+Nuts%22', 'promoted_content': None, 'query': '%22Grape+Nuts%22', 'tweet_volume': None}, {'name': 'Mike Evans', 'url': 'http://twitter.com/search?q=%22Mike+Evans%22', 'promoted_content': None, 'query': '%22Mike+Evans%22', 'tweet_volume': None}, {'name': 'Zion', 'url': 'http://twitter.com/search?q=Zion', 'promoted_content': None, 'query': 'Zion', 'tweet_volume': 10467}, {'name': 'Jokic', 'url': 'http://twitter.com/search?q=Jokic', 'promoted_content': None, 'query': 'Jokic', 'tweet_volume': None}, {'name': 'DeAndre Jordan', 'url': 'http://twitter.com/search?q=%22DeAndre+Jordan%22', 'promoted_content': None, 'query': '%22DeAndre+Jordan%22', 'tweet_volume': None}, {'name': \"Hartsfield's Landing\", 'url': 'http://twitter.com/search?q=%22Hartsfield%27s+Landing%22', 'promoted_content': None, 'query': '%22Hartsfield%27s+Landing%22', 'tweet_volume': None}, {'name': 'Joe Judge', 'url': 'http://twitter.com/search?q=%22Joe+Judge%22', 'promoted_content': None, 'query': '%22Joe+Judge%22', 'tweet_volume': None}, {'name': 'Wilt', 'url': 'http://twitter.com/search?q=Wilt', 'promoted_content': None, 'query': 'Wilt', 'tweet_volume': None}, {'name': 'Gronk', 'url': 'http://twitter.com/search?q=Gronk', 'promoted_content': None, 'query': 'Gronk', 'tweet_volume': None}, {'name': 'Bruce Arians', 'url': 'http://twitter.com/search?q=%22Bruce+Arians%22', 'promoted_content': None, 'query': '%22Bruce+Arians%22', 'tweet_volume': None}, {'name': 'Slayton', 'url': 'http://twitter.com/search?q=Slayton', 'promoted_content': None, 'query': 'Slayton', 'tweet_volume': None}, {'name': 'Chainz', 'url': 'http://twitter.com/search?q=Chainz', 'promoted_content': None, 'query': 'Chainz', 'tweet_volume': 22259}, {'name': \"Helm's Deep\", 'url': 'http://twitter.com/search?q=%22Helm%27s+Deep%22', 'promoted_content': None, 'query': '%22Helm%27s+Deep%22', 'tweet_volume': None}, {'name': 'Trae Young', 'url': 'http://twitter.com/search?q=%22Trae+Young%22', 'promoted_content': None, 'query': '%22Trae+Young%22', 'tweet_volume': None}, {'name': 'tom friedman', 'url': 'http://twitter.com/search?q=%22tom+friedman%22', 'promoted_content': None, 'query': '%22tom+friedman%22', 'tweet_volume': None}, {'name': 'Trump 0', 'url': 'http://twitter.com/search?q=%22Trump+0%22', 'promoted_content': None, 'query': '%22Trump+0%22', 'tweet_volume': 43339}, {'name': 'Borders', 'url': 'http://twitter.com/search?q=Borders', 'promoted_content': None, 'query': 'Borders', 'tweet_volume': 80766}, {'name': \"That's PI\", 'url': 'http://twitter.com/search?q=%22That%27s+PI%22', 'promoted_content': None, 'query': '%22That%27s+PI%22', 'tweet_volume': None}, {'name': 'Election Eve', 'url': 'http://twitter.com/search?q=%22Election+Eve%22', 'promoted_content': None, 'query': '%22Election+Eve%22', 'tweet_volume': 183640}, {'name': 'Toyota Center', 'url': 'http://twitter.com/search?q=%22Toyota+Center%22', 'promoted_content': None, 'query': '%22Toyota+Center%22', 'tweet_volume': None}, {'name': 'Jamal Crawford', 'url': 'http://twitter.com/search?q=%22Jamal+Crawford%22', 'promoted_content': None, 'query': '%22Jamal+Crawford%22', 'tweet_volume': None}, {'name': 'gerald green', 'url': 'http://twitter.com/search?q=%22gerald+green%22', 'promoted_content': None, 'query': '%22gerald+green%22', 'tweet_volume': None}, {'name': 'Jason Garrett', 'url': 'http://twitter.com/search?q=%22Jason+Garrett%22', 'promoted_content': None, 'query': '%22Jason+Garrett%22', 'tweet_volume': None}, {'name': 'Amare', 'url': 'http://twitter.com/search?q=Amare', 'promoted_content': None, 'query': 'Amare', 'tweet_volume': None}, {'name': 'alfred morris', 'url': 'http://twitter.com/search?q=%22alfred+morris%22', 'promoted_content': None, 'query': '%22alfred+morris%22', 'tweet_volume': None}], 'as_of': '2020-11-03T08:55:20Z', 'created_at': '2020-11-01T09:39:24Z', 'locations': [{'name': 'New York', 'woeid': 2459115}]}]\n"
     ]
    }
   ],
   "source": [
    "# Your code here\n",
    "#New York\n",
    "WORLD_WOE_ID_NewYork = 2459115 \n",
    "world_trends_NewYork = twitter_api.trends.place(_id=WORLD_WOE_ID_NewYork)\n",
    "print(world_trends_NewYork)"
   ]
  },
  {
   "cell_type": "code",
   "execution_count": 6,
   "metadata": {},
   "outputs": [
    {
     "name": "stdout",
     "output_type": "stream",
     "text": [
      "[{'trends': [{'name': '#ElectionDay', 'url': 'http://twitter.com/search?q=%23ElectionDay', 'promoted_content': None, 'query': '%23ElectionDay', 'tweet_volume': 240783}, {'name': 'America', 'url': 'http://twitter.com/search?q=America', 'promoted_content': None, 'query': 'America', 'tweet_volume': 1628424}, {'name': '#BidenHarris2020', 'url': 'http://twitter.com/search?q=%23BidenHarris2020', 'promoted_content': None, 'query': '%23BidenHarris2020', 'tweet_volume': 169893}, {'name': '#TrumpCollapse', 'url': 'http://twitter.com/search?q=%23TrumpCollapse', 'promoted_content': None, 'query': '%23TrumpCollapse', 'tweet_volume': 10347}, {'name': '#Election2020', 'url': 'http://twitter.com/search?q=%23Election2020', 'promoted_content': None, 'query': '%23Election2020', 'tweet_volume': 379905}, {'name': 'Femi', 'url': 'http://twitter.com/search?q=Femi', 'promoted_content': None, 'query': 'Femi', 'tweet_volume': 25273}, {'name': 'Ryan Giggs', 'url': 'http://twitter.com/search?q=%22Ryan+Giggs%22', 'promoted_content': None, 'query': '%22Ryan+Giggs%22', 'tweet_volume': None}, {'name': 'Plough Lane', 'url': 'http://twitter.com/search?q=%22Plough+Lane%22', 'promoted_content': None, 'query': '%22Plough+Lane%22', 'tweet_volume': None}, {'name': 'Anthony Van Dyck', 'url': 'http://twitter.com/search?q=%22Anthony+Van+Dyck%22', 'promoted_content': None, 'query': '%22Anthony+Van+Dyck%22', 'tweet_volume': None}, {'name': 'Robbie Savage', 'url': 'http://twitter.com/search?q=%22Robbie+Savage%22', 'promoted_content': None, 'query': '%22Robbie+Savage%22', 'tweet_volume': None}, {'name': 'Dixville Notch', 'url': 'http://twitter.com/search?q=%22Dixville+Notch%22', 'promoted_content': None, 'query': '%22Dixville+Notch%22', 'tweet_volume': 51706}, {'name': 'Vienna', 'url': 'http://twitter.com/search?q=Vienna', 'promoted_content': None, 'query': 'Vienna', 'tweet_volume': 492913}, {'name': 'White House', 'url': 'http://twitter.com/search?q=%22White+House%22', 'promoted_content': None, 'query': '%22White+House%22', 'tweet_volume': 354784}, {'name': 'Jeremy Hunt', 'url': 'http://twitter.com/search?q=%22Jeremy+Hunt%22', 'promoted_content': None, 'query': '%22Jeremy+Hunt%22', 'tweet_volume': None}, {'name': 'Fox News', 'url': 'http://twitter.com/search?q=%22Fox+News%22', 'promoted_content': None, 'query': '%22Fox+News%22', 'tweet_volume': 93509}, {'name': 'Mass', 'url': 'http://twitter.com/search?q=Mass', 'promoted_content': None, 'query': 'Mass', 'tweet_volume': 265026}, {'name': 'Pennsylvania', 'url': 'http://twitter.com/search?q=Pennsylvania', 'promoted_content': None, 'query': 'Pennsylvania', 'tweet_volume': 631722}, {'name': 'Robert Jenrick', 'url': 'http://twitter.com/search?q=%22Robert+Jenrick%22', 'promoted_content': None, 'query': '%22Robert+Jenrick%22', 'tweet_volume': None}, {'name': 'Liverpool', 'url': 'http://twitter.com/search?q=Liverpool', 'promoted_content': None, 'query': 'Liverpool', 'tweet_volume': 58291}, {'name': 'Garth Crooks', 'url': 'http://twitter.com/search?q=%22Garth+Crooks%22', 'promoted_content': None, 'query': '%22Garth+Crooks%22', 'tweet_volume': None}, {'name': 'Food Detective', 'url': 'http://twitter.com/search?q=%22Food+Detective%22', 'promoted_content': None, 'query': '%22Food+Detective%22', 'tweet_volume': None}, {'name': 'Anneliese Dodds', 'url': 'http://twitter.com/search?q=%22Anneliese+Dodds%22', 'promoted_content': None, 'query': '%22Anneliese+Dodds%22', 'tweet_volume': None}, {'name': 'Donald Trump', 'url': 'http://twitter.com/search?q=%22Donald+Trump%22', 'promoted_content': None, 'query': '%22Donald+Trump%22', 'tweet_volume': 1007690}, {'name': 'Lil Pump', 'url': 'http://twitter.com/search?q=%22Lil+Pump%22', 'promoted_content': None, 'query': '%22Lil+Pump%22', 'tweet_volume': 42613}, {'name': 'President', 'url': 'http://twitter.com/search?q=President', 'promoted_content': None, 'query': 'President', 'tweet_volume': 1098237}, {'name': 'Tracy Chapman', 'url': 'http://twitter.com/search?q=%22Tracy+Chapman%22', 'promoted_content': None, 'query': '%22Tracy+Chapman%22', 'tweet_volume': None}, {'name': 'Horsham', 'url': 'http://twitter.com/search?q=Horsham', 'promoted_content': None, 'query': 'Horsham', 'tweet_volume': None}, {'name': 'Morning Debs', 'url': 'http://twitter.com/search?q=%22Morning+Debs%22', 'promoted_content': None, 'query': '%22Morning+Debs%22', 'tweet_volume': None}, {'name': 'Gorka', 'url': 'http://twitter.com/search?q=Gorka', 'promoted_content': None, 'query': 'Gorka', 'tweet_volume': None}, {'name': 'Morning Mark', 'url': 'http://twitter.com/search?q=%22Morning+Mark%22', 'promoted_content': None, 'query': '%22Morning+Mark%22', 'tweet_volume': None}, {'name': 'How No10', 'url': 'http://twitter.com/search?q=%22How+No10%22', 'promoted_content': None, 'query': '%22How+No10%22', 'tweet_volume': None}, {'name': 'Islamic', 'url': 'http://twitter.com/search?q=Islamic', 'promoted_content': None, 'query': 'Islamic', 'tweet_volume': 120680}, {'name': 'YMCA', 'url': 'http://twitter.com/search?q=YMCA', 'promoted_content': None, 'query': 'YMCA', 'tweet_volume': 20088}, {'name': 'Susanna', 'url': 'http://twitter.com/search?q=Susanna', 'promoted_content': None, 'query': 'Susanna', 'tweet_volume': None}, {'name': 'Poland', 'url': 'http://twitter.com/search?q=Poland', 'promoted_content': None, 'query': 'Poland', 'tweet_volume': 37766}, {'name': 'Morning Tina', 'url': 'http://twitter.com/search?q=%22Morning+Tina%22', 'promoted_content': None, 'query': '%22Morning+Tina%22', 'tweet_volume': None}, {'name': 'National Sandwich Day', 'url': 'http://twitter.com/search?q=%22National+Sandwich+Day%22', 'promoted_content': None, 'query': '%22National+Sandwich+Day%22', 'tweet_volume': None}, {'name': 'XAA Journey', 'url': 'http://twitter.com/search?q=%22XAA+Journey%22', 'promoted_content': None, 'query': '%22XAA+Journey%22', 'tweet_volume': None}, {'name': 'Morning Ian', 'url': 'http://twitter.com/search?q=%22Morning+Ian%22', 'promoted_content': None, 'query': '%22Morning+Ian%22', 'tweet_volume': None}, {'name': 'Amnesty', 'url': 'http://twitter.com/search?q=Amnesty', 'promoted_content': None, 'query': 'Amnesty', 'tweet_volume': 30110}, {'name': 'Ethiopia', 'url': 'http://twitter.com/search?q=Ethiopia', 'promoted_content': None, 'query': 'Ethiopia', 'tweet_volume': 22807}, {'name': 'ISIS', 'url': 'http://twitter.com/search?q=ISIS', 'promoted_content': None, 'query': 'ISIS', 'tweet_volume': 61605}, {'name': 'Giants', 'url': 'http://twitter.com/search?q=Giants', 'promoted_content': None, 'query': 'Giants', 'tweet_volume': 129495}, {'name': 'Florida', 'url': 'http://twitter.com/search?q=Florida', 'promoted_content': None, 'query': 'Florida', 'tweet_volume': 437169}, {'name': 'Austrian', 'url': 'http://twitter.com/search?q=Austrian', 'promoted_content': None, 'query': 'Austrian', 'tweet_volume': 40123}, {'name': 'Gaga', 'url': 'http://twitter.com/search?q=Gaga', 'promoted_content': None, 'query': 'Gaga', 'tweet_volume': 391258}, {'name': '#TuesdayThoughts', 'url': 'http://twitter.com/search?q=%23TuesdayThoughts', 'promoted_content': None, 'query': '%23TuesdayThoughts', 'tweet_volume': None}, {'name': '#TinyVoiceTuesdayUnites', 'url': 'http://twitter.com/search?q=%23TinyVoiceTuesdayUnites', 'promoted_content': None, 'query': '%23TinyVoiceTuesdayUnites', 'tweet_volume': None}], 'as_of': '2020-11-03T08:55:20Z', 'created_at': '2020-10-22T13:16:43Z', 'locations': [{'name': 'London', 'woeid': 44418}]}]\n"
     ]
    }
   ],
   "source": [
    "#London\n",
    "WORLD_WOE_ID_London = 44418 \n",
    "world_trends_London = twitter_api.trends.place(_id=WORLD_WOE_ID_London)\n",
    "print(world_trends_London)"
   ]
  },
  {
   "cell_type": "code",
   "execution_count": 7,
   "metadata": {},
   "outputs": [
    {
     "name": "stdout",
     "output_type": "stream",
     "text": [
      "[{'trends': [{'name': '#Wenen', 'url': 'http://twitter.com/search?q=%23Wenen', 'promoted_content': None, 'query': '%23Wenen', 'tweet_volume': 11392}, {'name': '#Vienna', 'url': 'http://twitter.com/search?q=%23Vienna', 'promoted_content': None, 'query': '%23Vienna', 'tweet_volume': 231842}, {'name': '#ElectionDay', 'url': 'http://twitter.com/search?q=%23ElectionDay', 'promoted_content': None, 'query': '%23ElectionDay', 'tweet_volume': 240783}, {'name': 'Amerikaanse', 'url': 'http://twitter.com/search?q=Amerikaanse', 'promoted_content': None, 'query': 'Amerikaanse', 'tweet_volume': None}, {'name': 'Goedemorgen', 'url': 'http://twitter.com/search?q=Goedemorgen', 'promoted_content': None, 'query': 'Goedemorgen', 'tweet_volume': None}, {'name': 'Jasper', 'url': 'http://twitter.com/search?q=Jasper', 'promoted_content': None, 'query': 'Jasper', 'tweet_volume': None}, {'name': '#USElections2020', 'url': 'http://twitter.com/search?q=%23USElections2020', 'promoted_content': None, 'query': '%23USElections2020', 'tweet_volume': 33972}, {'name': '#BidenHarris2020', 'url': 'http://twitter.com/search?q=%23BidenHarris2020', 'promoted_content': None, 'query': '%23BidenHarris2020', 'tweet_volume': 169939}, {'name': 'Wetenschap', 'url': 'http://twitter.com/search?q=Wetenschap', 'promoted_content': None, 'query': 'Wetenschap', 'tweet_volume': None}, {'name': 'Trump', 'url': 'http://twitter.com/search?q=Trump', 'promoted_content': None, 'query': 'Trump', 'tweet_volume': 2475032}, {'name': 'Europese', 'url': 'http://twitter.com/search?q=Europese', 'promoted_content': None, 'query': 'Europese', 'tweet_volume': None}, {'name': 'Dixville Notch', 'url': 'http://twitter.com/search?q=%22Dixville+Notch%22', 'promoted_content': None, 'query': '%22Dixville+Notch%22', 'tweet_volume': 51706}, {'name': 'Ira Helsloot', 'url': 'http://twitter.com/search?q=%22Ira+Helsloot%22', 'promoted_content': None, 'query': '%22Ira+Helsloot%22', 'tweet_volume': None}, {'name': 'Oostenrijkers', 'url': 'http://twitter.com/search?q=Oostenrijkers', 'promoted_content': None, 'query': 'Oostenrijkers', 'tweet_volume': None}, {'name': 'Baudet', 'url': 'http://twitter.com/search?q=Baudet', 'promoted_content': None, 'query': 'Baudet', 'tweet_volume': None}, {'name': 'morguh', 'url': 'http://twitter.com/search?q=morguh', 'promoted_content': None, 'query': 'morguh', 'tweet_volume': None}, {'name': 'NVWA', 'url': 'http://twitter.com/search?q=NVWA', 'promoted_content': None, 'query': 'NVWA', 'tweet_volume': None}, {'name': 'Nicaragua', 'url': 'http://twitter.com/search?q=Nicaragua', 'promoted_content': None, 'query': 'Nicaragua', 'tweet_volume': 65625}, {'name': 'Jinek', 'url': 'http://twitter.com/search?q=Jinek', 'promoted_content': None, 'query': 'Jinek', 'tweet_volume': 10396}, {'name': 'Klaver', 'url': 'http://twitter.com/search?q=Klaver', 'promoted_content': None, 'query': 'Klaver', 'tweet_volume': None}, {'name': 'Mogge', 'url': 'http://twitter.com/search?q=Mogge', 'promoted_content': None, 'query': 'Mogge', 'tweet_volume': None}, {'name': 'Succes', 'url': 'http://twitter.com/search?q=Succes', 'promoted_content': None, 'query': 'Succes', 'tweet_volume': None}, {'name': 'Uganda', 'url': 'http://twitter.com/search?q=Uganda', 'promoted_content': None, 'query': 'Uganda', 'tweet_volume': 18389}, {'name': 'Jesse', 'url': 'http://twitter.com/search?q=Jesse', 'promoted_content': None, 'query': 'Jesse', 'tweet_volume': 23457}, {'name': 'Fijne', 'url': 'http://twitter.com/search?q=Fijne', 'promoted_content': None, 'query': 'Fijne', 'tweet_volume': None}, {'name': 'Nieuw Zeeland', 'url': 'http://twitter.com/search?q=%22Nieuw+Zeeland%22', 'promoted_content': None, 'query': '%22Nieuw+Zeeland%22', 'tweet_volume': None}, {'name': 'Astrid', 'url': 'http://twitter.com/search?q=Astrid', 'promoted_content': None, 'query': 'Astrid', 'tweet_volume': None}, {'name': 'lodewijk', 'url': 'http://twitter.com/search?q=lodewijk', 'promoted_content': None, 'query': 'lodewijk', 'tweet_volume': None}, {'name': 'ethiopië', 'url': 'http://twitter.com/search?q=ethiopi%C3%AB', 'promoted_content': None, 'query': 'ethiopi%C3%AB', 'tweet_volume': None}, {'name': 'Lubbers', 'url': 'http://twitter.com/search?q=Lubbers', 'promoted_content': None, 'query': 'Lubbers', 'tweet_volume': None}, {'name': 'anita', 'url': 'http://twitter.com/search?q=anita', 'promoted_content': None, 'query': 'anita', 'tweet_volume': 19562}, {'name': 'Kenya', 'url': 'http://twitter.com/search?q=Kenya', 'promoted_content': None, 'query': 'Kenya', 'tweet_volume': 32300}, {'name': 'Lydia', 'url': 'http://twitter.com/search?q=Lydia', 'promoted_content': None, 'query': 'Lydia', 'tweet_volume': None}, {'name': 'noord-korea', 'url': 'http://twitter.com/search?q=noord-korea', 'promoted_content': None, 'query': 'noord-korea', 'tweet_volume': None}, {'name': 'Troje', 'url': 'http://twitter.com/search?q=Troje', 'promoted_content': None, 'query': 'Troje', 'tweet_volume': None}, {'name': 'May God', 'url': 'http://twitter.com/search?q=%22May+God%22', 'promoted_content': None, 'query': '%22May+God%22', 'tweet_volume': 68958}, {'name': 'Harry Styles', 'url': 'http://twitter.com/search?q=%22Harry+Styles%22', 'promoted_content': None, 'query': '%22Harry+Styles%22', 'tweet_volume': 154610}, {'name': 'berlijn', 'url': 'http://twitter.com/search?q=berlijn', 'promoted_content': None, 'query': 'berlijn', 'tweet_volume': None}, {'name': 'Dave', 'url': 'http://twitter.com/search?q=Dave', 'promoted_content': None, 'query': 'Dave', 'tweet_volume': 54454}, {'name': 'Marianne', 'url': 'http://twitter.com/search?q=Marianne', 'promoted_content': None, 'query': 'Marianne', 'tweet_volume': None}, {'name': 'Geke', 'url': 'http://twitter.com/search?q=Geke', 'promoted_content': None, 'query': 'Geke', 'tweet_volume': None}, {'name': 'Miek', 'url': 'http://twitter.com/search?q=Miek', 'promoted_content': None, 'query': 'Miek', 'tweet_volume': None}, {'name': 'Grenzen', 'url': 'http://twitter.com/search?q=Grenzen', 'promoted_content': None, 'query': 'Grenzen', 'tweet_volume': None}, {'name': 'China', 'url': 'http://twitter.com/search?q=China', 'promoted_content': None, 'query': 'China', 'tweet_volume': 541261}, {'name': 'gisteren', 'url': 'http://twitter.com/search?q=gisteren', 'promoted_content': None, 'query': 'gisteren', 'tweet_volume': None}, {'name': 'Kabul', 'url': 'http://twitter.com/search?q=Kabul', 'promoted_content': None, 'query': 'Kabul', 'tweet_volume': 87572}, {'name': 'Ommetje', 'url': 'http://twitter.com/search?q=Ommetje', 'promoted_content': None, 'query': 'Ommetje', 'tweet_volume': None}, {'name': 'wouter', 'url': 'http://twitter.com/search?q=wouter', 'promoted_content': None, 'query': 'wouter', 'tweet_volume': None}, {'name': 'McDonalds', 'url': 'http://twitter.com/search?q=McDonalds', 'promoted_content': None, 'query': 'McDonalds', 'tweet_volume': 19985}, {'name': 'Marieke', 'url': 'http://twitter.com/search?q=Marieke', 'promoted_content': None, 'query': 'Marieke', 'tweet_volume': None}], 'as_of': '2020-11-03T08:55:21Z', 'created_at': '2020-10-11T10:26:44Z', 'locations': [{'name': 'Amsterdam', 'woeid': 727232}]}]\n"
     ]
    }
   ],
   "source": [
    "#Amsterdam\n",
    "WORLD_WOE_ID_Amsterdam = 727232 \n",
    "world_trends_Amsterdam = twitter_api.trends.place(_id=WORLD_WOE_ID_Amsterdam)\n",
    "print(world_trends_Amsterdam)"
   ]
  },
  {
   "cell_type": "markdown",
   "metadata": {},
   "source": [
    "We have chosen for three different locations, namely: New York, London, and Amsterdam. In the results we obviously saw the differnce in language. But overal, we saw some similarities, for example tweets about COVID, the American elections, and The Mandalorian."
   ]
  },
  {
   "cell_type": "markdown",
   "metadata": {},
   "source": [
    "### 1.2: Retrieving search results (from Example 1-5/9-3 in Mining the Social Web):"
   ]
  },
  {
   "cell_type": "code",
   "execution_count": 8,
   "metadata": {},
   "outputs": [
    {
     "name": "stdout",
     "output_type": "stream",
     "text": [
      "<class 'list'>\n",
      "{\n",
      " \"created_at\": \"Tue Nov 03 08:55:16 +0000 2020\",\n",
      " \"id\": 1323549292431171584,\n",
      " \"id_str\": \"1323549292431171584\",\n",
      " \"text\": \"RT @AlbertEinstein: #ThrowbackThursday: Einstein with his colleagues at the Leiden Observatory on September 26, 1923. Front row: Arthur Edd\\u2026\",\n",
      " \"truncated\": false,\n",
      " \"entities\": {\n",
      "  \"hashtags\": [\n",
      "   {\n",
      "    \"text\": \"ThrowbackThursday\",\n",
      "    \"indices\": [\n",
      "     20,\n",
      "     38\n",
      "    ]\n",
      "   }\n",
      "  ],\n",
      "  \"symbols\": [],\n",
      "  \"user_mentions\": [\n",
      "   {\n",
      "    \"screen_name\": \"AlbertEinstein\",\n",
      "    \"name\": \"Albert Einstein\",\n",
      "    \"id\": 1314604885,\n",
      "    \"id_str\": \"1314604885\",\n",
      "    \"indices\": [\n",
      "     3,\n",
      "     18\n",
      "    ]\n",
      "   }\n",
      "  ],\n",
      "  \"urls\": []\n",
      " },\n",
      " \"metadata\": {\n",
      "  \"iso_language_code\": \"en\",\n",
      "  \"result_type\": \"recent\"\n",
      " },\n",
      " \"source\": \"<a href=\\\"http://twitter.com/download/android\\\" rel=\\\"nofollow\\\">Twitter for Android</a>\",\n",
      " \"in_reply_to_status_id\": null,\n",
      " \"in_reply_to_status_id_str\": null,\n",
      " \"in_reply_to_user_id\": null,\n",
      " \"in_reply_to_user_id_str\": null,\n",
      " \"in_reply_to_screen_name\": null,\n",
      " \"user\": {\n",
      "  \"id\": 966361524909457408,\n",
      "  \"id_str\": \"966361524909457408\",\n",
      "  \"name\": \"The Real V\",\n",
      "  \"screen_name\": \"SteveDavidMike2\",\n",
      "  \"location\": \"Global\",\n",
      "  \"description\": \"\",\n",
      "  \"url\": null,\n",
      "  \"entities\": {\n",
      "   \"description\": {\n",
      "    \"urls\": []\n",
      "   }\n",
      "  },\n",
      "  \"protected\": false,\n",
      "  \"followers_count\": 339,\n",
      "  \"friends_count\": 31,\n",
      "  \"listed_count\": 1,\n",
      "  \"created_at\": \"Wed Feb 21 17:18:36 +0000 2018\",\n",
      "  \"favourites_count\": 71114,\n",
      "  \"utc_offset\": null,\n",
      "  \"time_zone\": null,\n",
      "  \"geo_enabled\": true,\n",
      "  \"verified\": false,\n",
      "  \"statuses_count\": 123360,\n",
      "  \"lang\": null,\n",
      "  \"contributors_enabled\": false,\n",
      "  \"is_translator\": false,\n",
      "  \"is_translation_enabled\": false,\n",
      "  \"profile_background_color\": \"F5F8FA\",\n",
      "  \"profile_background_image_url\": null,\n",
      "  \"profile_background_image_url_https\": null,\n",
      "  \"profile_background_tile\": false,\n",
      "  \"profile_image_url\": \"http://pbs.twimg.com/profile_images/966382980980621312/i4IxfIMd_normal.jpg\",\n",
      "  \"profile_image_url_https\": \"https://pbs.twimg.com/profile_images/966382980980621312/i4IxfIMd_normal.jpg\",\n",
      "  \"profile_banner_url\": \"https://pbs.twimg.com/profile_banners/966361524909457408/1533629066\",\n",
      "  \"profile_link_color\": \"1DA1F2\",\n",
      "  \"profile_sidebar_border_color\": \"C0DEED\",\n",
      "  \"profile_sidebar_fill_color\": \"DDEEF6\",\n",
      "  \"profile_text_color\": \"333333\",\n",
      "  \"profile_use_background_image\": true,\n",
      "  \"has_extended_profile\": false,\n",
      "  \"default_profile\": true,\n",
      "  \"default_profile_image\": false,\n",
      "  \"following\": false,\n",
      "  \"follow_request_sent\": false,\n",
      "  \"notifications\": false,\n",
      "  \"translator_type\": \"none\"\n",
      " },\n",
      " \"geo\": null,\n",
      " \"coordinates\": null,\n",
      " \"place\": null,\n",
      " \"contributors\": null,\n",
      " \"retweeted_status\": {\n",
      "  \"created_at\": \"Thu Apr 25 13:44:01 +0000 2019\",\n",
      "  \"id\": 1121409530494103558,\n",
      "  \"id_str\": \"1121409530494103558\",\n",
      "  \"text\": \"#ThrowbackThursday: Einstein with his colleagues at the Leiden Observatory on September 26, 1923. Front row: Arthur\\u2026 https://t.co/zM95v2OmZy\",\n",
      "  \"truncated\": true,\n",
      "  \"entities\": {\n",
      "   \"hashtags\": [\n",
      "    {\n",
      "     \"text\": \"ThrowbackThursday\",\n",
      "     \"indices\": [\n",
      "      0,\n",
      "      18\n",
      "     ]\n",
      "    }\n",
      "   ],\n",
      "   \"symbols\": [],\n",
      "   \"user_mentions\": [],\n",
      "   \"urls\": [\n",
      "    {\n",
      "     \"url\": \"https://t.co/zM95v2OmZy\",\n",
      "     \"expanded_url\": \"https://twitter.com/i/web/status/1121409530494103558\",\n",
      "     \"display_url\": \"twitter.com/i/web/status/1\\u2026\",\n",
      "     \"indices\": [\n",
      "      117,\n",
      "      140\n",
      "     ]\n",
      "    }\n",
      "   ]\n",
      "  },\n",
      "  \"metadata\": {\n",
      "   \"iso_language_code\": \"en\",\n",
      "   \"result_type\": \"recent\"\n",
      "  },\n",
      "  \"source\": \"<a href=\\\"https://sproutsocial.com\\\" rel=\\\"nofollow\\\">Sprout Social</a>\",\n",
      "  \"in_reply_to_status_id\": null,\n",
      "  \"in_reply_to_status_id_str\": null,\n",
      "  \"in_reply_to_user_id\": null,\n",
      "  \"in_reply_to_user_id_str\": null,\n",
      "  \"in_reply_to_screen_name\": null,\n",
      "  \"user\": {\n",
      "   \"id\": 1314604885,\n",
      "   \"id_str\": \"1314604885\",\n",
      "   \"name\": \"Albert Einstein\",\n",
      "   \"screen_name\": \"AlbertEinstein\",\n",
      "   \"location\": \"\",\n",
      "   \"description\": \"Official Twitter account of the World\\u2019s Favorite Genius. Managed by Greenlight, authorized representative of the Albert Einstein Estate.\",\n",
      "   \"url\": \"https://t.co/SfcDplOCQT\",\n",
      "   \"entities\": {\n",
      "    \"url\": {\n",
      "     \"urls\": [\n",
      "      {\n",
      "       \"url\": \"https://t.co/SfcDplOCQT\",\n",
      "       \"expanded_url\": \"http://www.einstein.biz\",\n",
      "       \"display_url\": \"einstein.biz\",\n",
      "       \"indices\": [\n",
      "        0,\n",
      "        23\n",
      "       ]\n",
      "      }\n",
      "     ]\n",
      "    },\n",
      "    \"description\": {\n",
      "     \"urls\": []\n",
      "    }\n",
      "   },\n",
      "   \"protected\": false,\n",
      "   \"followers_count\": 189704,\n",
      "   \"friends_count\": 1220,\n",
      "   \"listed_count\": 1019,\n",
      "   \"created_at\": \"Fri Mar 29 17:37:48 +0000 2013\",\n",
      "   \"favourites_count\": 3026,\n",
      "   \"utc_offset\": null,\n",
      "   \"time_zone\": null,\n",
      "   \"geo_enabled\": true,\n",
      "   \"verified\": true,\n",
      "   \"statuses_count\": 9080,\n",
      "   \"lang\": null,\n",
      "   \"contributors_enabled\": false,\n",
      "   \"is_translator\": false,\n",
      "   \"is_translation_enabled\": false,\n",
      "   \"profile_background_color\": \"131516\",\n",
      "   \"profile_background_image_url\": \"http://abs.twimg.com/images/themes/theme14/bg.gif\",\n",
      "   \"profile_background_image_url_https\": \"https://abs.twimg.com/images/themes/theme14/bg.gif\",\n",
      "   \"profile_background_tile\": false,\n",
      "   \"profile_image_url\": \"http://pbs.twimg.com/profile_images/879355674957926400/VSGZHGib_normal.jpg\",\n",
      "   \"profile_image_url_https\": \"https://pbs.twimg.com/profile_images/879355674957926400/VSGZHGib_normal.jpg\",\n",
      "   \"profile_banner_url\": \"https://pbs.twimg.com/profile_banners/1314604885/1498489678\",\n",
      "   \"profile_link_color\": \"009999\",\n",
      "   \"profile_sidebar_border_color\": \"FFFFFF\",\n",
      "   \"profile_sidebar_fill_color\": \"EFEFEF\",\n",
      "   \"profile_text_color\": \"333333\",\n",
      "   \"profile_use_background_image\": true,\n",
      "   \"has_extended_profile\": true,\n",
      "   \"default_profile\": false,\n",
      "   \"default_profile_image\": false,\n",
      "   \"following\": false,\n",
      "   \"follow_request_sent\": false,\n",
      "   \"notifications\": false,\n",
      "   \"translator_type\": \"none\"\n",
      "  },\n",
      "  \"geo\": null,\n",
      "  \"coordinates\": null,\n",
      "  \"place\": null,\n",
      "  \"contributors\": null,\n",
      "  \"is_quote_status\": false,\n",
      "  \"retweet_count\": 47,\n",
      "  \"favorite_count\": 165,\n",
      "  \"favorited\": false,\n",
      "  \"retweeted\": false,\n",
      "  \"possibly_sensitive\": false,\n",
      "  \"lang\": \"en\"\n",
      " },\n",
      " \"is_quote_status\": false,\n",
      " \"retweet_count\": 47,\n",
      " \"favorite_count\": 0,\n",
      " \"favorited\": false,\n",
      " \"retweeted\": false,\n",
      " \"lang\": \"en\"\n",
      "}\n"
     ]
    }
   ],
   "source": [
    "q = '#ThrowbackThursday' # XXX: Set this variable to a trending topic, or anything else you like. \n",
    "count = 100 # number of results to retrieve\n",
    "\n",
    "# See https://dev.twitter.com/docs/api/1.1/get/search/tweets for more info\n",
    "\n",
    "search_results = twitter_api.search.tweets(q=q, count=count) # search for your query 'q' 100 times\n",
    "statuses = search_results['statuses'] # extract the tweets found\n",
    "\n",
    "# The following code allows you to print in a nice format the contents of search_results\n",
    "import json\n",
    "print(type(statuses))\n",
    "print(json.dumps(statuses[0], indent=1))"
   ]
  },
  {
   "cell_type": "markdown",
   "metadata": {},
   "source": [
    "### Task 2\n",
    "\n",
    "In the cell below, create a second variable (e.g. `statuses2`) that holds the results of a query other than the one presented above. Think about a query that would yield very different results than the first one, for example one that may yield a shorter output or about a different topic."
   ]
  },
  {
   "cell_type": "code",
   "execution_count": 9,
   "metadata": {},
   "outputs": [
    {
     "name": "stdout",
     "output_type": "stream",
     "text": [
      "<class 'list'>\n",
      "{\n",
      " \"created_at\": \"Tue Nov 03 08:55:20 +0000 2020\",\n",
      " \"id\": 1323549311641276416,\n",
      " \"id_str\": \"1323549311641276416\",\n",
      " \"text\": \"RT @ideadestra_: Ecco uno dei terroristi a #Vienna finanziati con i soldi del premio #Nobel #Obama e della sua bestia #Clinton \\nBastardi ch\\u2026\",\n",
      " \"truncated\": false,\n",
      " \"entities\": {\n",
      "  \"hashtags\": [\n",
      "   {\n",
      "    \"text\": \"Vienna\",\n",
      "    \"indices\": [\n",
      "     43,\n",
      "     50\n",
      "    ]\n",
      "   },\n",
      "   {\n",
      "    \"text\": \"Nobel\",\n",
      "    \"indices\": [\n",
      "     85,\n",
      "     91\n",
      "    ]\n",
      "   },\n",
      "   {\n",
      "    \"text\": \"Obama\",\n",
      "    \"indices\": [\n",
      "     92,\n",
      "     98\n",
      "    ]\n",
      "   },\n",
      "   {\n",
      "    \"text\": \"Clinton\",\n",
      "    \"indices\": [\n",
      "     118,\n",
      "     126\n",
      "    ]\n",
      "   }\n",
      "  ],\n",
      "  \"symbols\": [],\n",
      "  \"user_mentions\": [\n",
      "   {\n",
      "    \"screen_name\": \"ideadestra_\",\n",
      "    \"name\": \"ideadestra\",\n",
      "    \"id\": 2817019830,\n",
      "    \"id_str\": \"2817019830\",\n",
      "    \"indices\": [\n",
      "     3,\n",
      "     15\n",
      "    ]\n",
      "   }\n",
      "  ],\n",
      "  \"urls\": []\n",
      " },\n",
      " \"metadata\": {\n",
      "  \"iso_language_code\": \"it\",\n",
      "  \"result_type\": \"recent\"\n",
      " },\n",
      " \"source\": \"<a href=\\\"https://mobile.twitter.com\\\" rel=\\\"nofollow\\\">Twitter Web App</a>\",\n",
      " \"in_reply_to_status_id\": null,\n",
      " \"in_reply_to_status_id_str\": null,\n",
      " \"in_reply_to_user_id\": null,\n",
      " \"in_reply_to_user_id_str\": null,\n",
      " \"in_reply_to_screen_name\": null,\n",
      " \"user\": {\n",
      "  \"id\": 1055380681,\n",
      "  \"id_str\": \"1055380681\",\n",
      "  \"name\": \"Terno al Sub 26 5 19 \\ud83c\\uddee\\ud83c\\uddf9\",\n",
      "  \"screen_name\": \"jobwithinternet\",\n",
      "  \"location\": \"\",\n",
      "  \"description\": \"\\\"Improvvisare, adattarsi e raggiungere lo scopo.\\\" Sgt. Gunny Highway\",\n",
      "  \"url\": null,\n",
      "  \"entities\": {\n",
      "   \"description\": {\n",
      "    \"urls\": []\n",
      "   }\n",
      "  },\n",
      "  \"protected\": false,\n",
      "  \"followers_count\": 1389,\n",
      "  \"friends_count\": 1573,\n",
      "  \"listed_count\": 0,\n",
      "  \"created_at\": \"Wed Jan 02 15:26:30 +0000 2013\",\n",
      "  \"favourites_count\": 23,\n",
      "  \"utc_offset\": null,\n",
      "  \"time_zone\": null,\n",
      "  \"geo_enabled\": false,\n",
      "  \"verified\": false,\n",
      "  \"statuses_count\": 177352,\n",
      "  \"lang\": null,\n",
      "  \"contributors_enabled\": false,\n",
      "  \"is_translator\": false,\n",
      "  \"is_translation_enabled\": false,\n",
      "  \"profile_background_color\": \"C0DEED\",\n",
      "  \"profile_background_image_url\": \"http://abs.twimg.com/images/themes/theme1/bg.png\",\n",
      "  \"profile_background_image_url_https\": \"https://abs.twimg.com/images/themes/theme1/bg.png\",\n",
      "  \"profile_background_tile\": false,\n",
      "  \"profile_image_url\": \"http://pbs.twimg.com/profile_images/1190014607651483648/f1cAfGhg_normal.jpg\",\n",
      "  \"profile_image_url_https\": \"https://pbs.twimg.com/profile_images/1190014607651483648/f1cAfGhg_normal.jpg\",\n",
      "  \"profile_banner_url\": \"https://pbs.twimg.com/profile_banners/1055380681/1528629683\",\n",
      "  \"profile_link_color\": \"1DA1F2\",\n",
      "  \"profile_sidebar_border_color\": \"C0DEED\",\n",
      "  \"profile_sidebar_fill_color\": \"DDEEF6\",\n",
      "  \"profile_text_color\": \"333333\",\n",
      "  \"profile_use_background_image\": true,\n",
      "  \"has_extended_profile\": false,\n",
      "  \"default_profile\": true,\n",
      "  \"default_profile_image\": false,\n",
      "  \"following\": false,\n",
      "  \"follow_request_sent\": false,\n",
      "  \"notifications\": false,\n",
      "  \"translator_type\": \"none\"\n",
      " },\n",
      " \"geo\": null,\n",
      " \"coordinates\": null,\n",
      " \"place\": null,\n",
      " \"contributors\": null,\n",
      " \"retweeted_status\": {\n",
      "  \"created_at\": \"Mon Nov 02 22:05:05 +0000 2020\",\n",
      "  \"id\": 1323385670266703878,\n",
      "  \"id_str\": \"1323385670266703878\",\n",
      "  \"text\": \"Ecco uno dei terroristi a #Vienna finanziati con i soldi del premio #Nobel #Obama e della sua bestia #Clinton \\nBast\\u2026 https://t.co/MiPkqX5ja5\",\n",
      "  \"truncated\": true,\n",
      "  \"entities\": {\n",
      "   \"hashtags\": [\n",
      "    {\n",
      "     \"text\": \"Vienna\",\n",
      "     \"indices\": [\n",
      "      26,\n",
      "      33\n",
      "     ]\n",
      "    },\n",
      "    {\n",
      "     \"text\": \"Nobel\",\n",
      "     \"indices\": [\n",
      "      68,\n",
      "      74\n",
      "     ]\n",
      "    },\n",
      "    {\n",
      "     \"text\": \"Obama\",\n",
      "     \"indices\": [\n",
      "      75,\n",
      "      81\n",
      "     ]\n",
      "    },\n",
      "    {\n",
      "     \"text\": \"Clinton\",\n",
      "     \"indices\": [\n",
      "      101,\n",
      "      109\n",
      "     ]\n",
      "    }\n",
      "   ],\n",
      "   \"symbols\": [],\n",
      "   \"user_mentions\": [],\n",
      "   \"urls\": [\n",
      "    {\n",
      "     \"url\": \"https://t.co/MiPkqX5ja5\",\n",
      "     \"expanded_url\": \"https://twitter.com/i/web/status/1323385670266703878\",\n",
      "     \"display_url\": \"twitter.com/i/web/status/1\\u2026\",\n",
      "     \"indices\": [\n",
      "      117,\n",
      "      140\n",
      "     ]\n",
      "    }\n",
      "   ]\n",
      "  },\n",
      "  \"metadata\": {\n",
      "   \"iso_language_code\": \"it\",\n",
      "   \"result_type\": \"recent\"\n",
      "  },\n",
      "  \"source\": \"<a href=\\\"https://mobile.twitter.com\\\" rel=\\\"nofollow\\\">Twitter Web App</a>\",\n",
      "  \"in_reply_to_status_id\": null,\n",
      "  \"in_reply_to_status_id_str\": null,\n",
      "  \"in_reply_to_user_id\": null,\n",
      "  \"in_reply_to_user_id_str\": null,\n",
      "  \"in_reply_to_screen_name\": null,\n",
      "  \"user\": {\n",
      "   \"id\": 2817019830,\n",
      "   \"id_str\": \"2817019830\",\n",
      "   \"name\": \"ideadestra\",\n",
      "   \"screen_name\": \"ideadestra_\",\n",
      "   \"location\": \"ROMA\",\n",
      "   \"description\": \"Letture da Destra. Ambiente NO conforme per sovranit\\u00e0 d'Italia. #Sovranisti da sempre. Nel nostro #DNA ostilit\\u00e0 verso #Europa delle banche, sinistri #M5S\",\n",
      "   \"url\": \"https://t.co/X2kycAGSHr\",\n",
      "   \"entities\": {\n",
      "    \"url\": {\n",
      "     \"urls\": [\n",
      "      {\n",
      "       \"url\": \"https://t.co/X2kycAGSHr\",\n",
      "       \"expanded_url\": \"http://www.ideadestra.org\",\n",
      "       \"display_url\": \"ideadestra.org\",\n",
      "       \"indices\": [\n",
      "        0,\n",
      "        23\n",
      "       ]\n",
      "      }\n",
      "     ]\n",
      "    },\n",
      "    \"description\": {\n",
      "     \"urls\": []\n",
      "    }\n",
      "   },\n",
      "   \"protected\": false,\n",
      "   \"followers_count\": 6182,\n",
      "   \"friends_count\": 6797,\n",
      "   \"listed_count\": 32,\n",
      "   \"created_at\": \"Thu Sep 18 13:35:41 +0000 2014\",\n",
      "   \"favourites_count\": 7950,\n",
      "   \"utc_offset\": null,\n",
      "   \"time_zone\": null,\n",
      "   \"geo_enabled\": false,\n",
      "   \"verified\": false,\n",
      "   \"statuses_count\": 40339,\n",
      "   \"lang\": null,\n",
      "   \"contributors_enabled\": false,\n",
      "   \"is_translator\": false,\n",
      "   \"is_translation_enabled\": false,\n",
      "   \"profile_background_color\": \"000000\",\n",
      "   \"profile_background_image_url\": \"http://abs.twimg.com/images/themes/theme1/bg.png\",\n",
      "   \"profile_background_image_url_https\": \"https://abs.twimg.com/images/themes/theme1/bg.png\",\n",
      "   \"profile_background_tile\": false,\n",
      "   \"profile_image_url\": \"http://pbs.twimg.com/profile_images/566355433695105024/6m6BDZq__normal.png\",\n",
      "   \"profile_image_url_https\": \"https://pbs.twimg.com/profile_images/566355433695105024/6m6BDZq__normal.png\",\n",
      "   \"profile_banner_url\": \"https://pbs.twimg.com/profile_banners/2817019830/1598828730\",\n",
      "   \"profile_link_color\": \"3B94D9\",\n",
      "   \"profile_sidebar_border_color\": \"000000\",\n",
      "   \"profile_sidebar_fill_color\": \"000000\",\n",
      "   \"profile_text_color\": \"000000\",\n",
      "   \"profile_use_background_image\": false,\n",
      "   \"has_extended_profile\": false,\n",
      "   \"default_profile\": false,\n",
      "   \"default_profile_image\": false,\n",
      "   \"following\": false,\n",
      "   \"follow_request_sent\": false,\n",
      "   \"notifications\": false,\n",
      "   \"translator_type\": \"none\"\n",
      "  },\n",
      "  \"geo\": null,\n",
      "  \"coordinates\": null,\n",
      "  \"place\": null,\n",
      "  \"contributors\": null,\n",
      "  \"is_quote_status\": true,\n",
      "  \"quoted_status_id\": 1323374087834664962,\n",
      "  \"quoted_status_id_str\": \"1323374087834664962\",\n",
      "  \"quoted_status\": {\n",
      "   \"created_at\": \"Mon Nov 02 21:19:04 +0000 2020\",\n",
      "   \"id\": 1323374087834664962,\n",
      "   \"id_str\": \"1323374087834664962\",\n",
      "   \"text\": \"Uno degli terroristi che hanno compiuto una strage a Vienna. La solita merda. #RadioSavana https://t.co/tEw9M6aP1p\",\n",
      "   \"truncated\": false,\n",
      "   \"entities\": {\n",
      "    \"hashtags\": [\n",
      "     {\n",
      "      \"text\": \"RadioSavana\",\n",
      "      \"indices\": [\n",
      "       78,\n",
      "       90\n",
      "      ]\n",
      "     }\n",
      "    ],\n",
      "    \"symbols\": [],\n",
      "    \"user_mentions\": [],\n",
      "    \"urls\": [],\n",
      "    \"media\": [\n",
      "     {\n",
      "      \"id\": 1323374058675838976,\n",
      "      \"id_str\": \"1323374058675838976\",\n",
      "      \"indices\": [\n",
      "       91,\n",
      "       114\n",
      "      ],\n",
      "      \"media_url\": \"http://pbs.twimg.com/ext_tw_video_thumb/1323374058675838976/pu/img/XKiggopEzKs25q68.jpg\",\n",
      "      \"media_url_https\": \"https://pbs.twimg.com/ext_tw_video_thumb/1323374058675838976/pu/img/XKiggopEzKs25q68.jpg\",\n",
      "      \"url\": \"https://t.co/tEw9M6aP1p\",\n",
      "      \"display_url\": \"pic.twitter.com/tEw9M6aP1p\",\n",
      "      \"expanded_url\": \"https://twitter.com/RadioSavana/status/1323374087834664962/video/1\",\n",
      "      \"type\": \"photo\",\n",
      "      \"sizes\": {\n",
      "       \"large\": {\n",
      "        \"w\": 352,\n",
      "        \"h\": 640,\n",
      "        \"resize\": \"fit\"\n",
      "       },\n",
      "       \"thumb\": {\n",
      "        \"w\": 150,\n",
      "        \"h\": 150,\n",
      "        \"resize\": \"crop\"\n",
      "       },\n",
      "       \"small\": {\n",
      "        \"w\": 352,\n",
      "        \"h\": 640,\n",
      "        \"resize\": \"fit\"\n",
      "       },\n",
      "       \"medium\": {\n",
      "        \"w\": 352,\n",
      "        \"h\": 640,\n",
      "        \"resize\": \"fit\"\n",
      "       }\n",
      "      }\n",
      "     }\n",
      "    ]\n",
      "   },\n",
      "   \"extended_entities\": {\n",
      "    \"media\": [\n",
      "     {\n",
      "      \"id\": 1323374058675838976,\n",
      "      \"id_str\": \"1323374058675838976\",\n",
      "      \"indices\": [\n",
      "       91,\n",
      "       114\n",
      "      ],\n",
      "      \"media_url\": \"http://pbs.twimg.com/ext_tw_video_thumb/1323374058675838976/pu/img/XKiggopEzKs25q68.jpg\",\n",
      "      \"media_url_https\": \"https://pbs.twimg.com/ext_tw_video_thumb/1323374058675838976/pu/img/XKiggopEzKs25q68.jpg\",\n",
      "      \"url\": \"https://t.co/tEw9M6aP1p\",\n",
      "      \"display_url\": \"pic.twitter.com/tEw9M6aP1p\",\n",
      "      \"expanded_url\": \"https://twitter.com/RadioSavana/status/1323374087834664962/video/1\",\n",
      "      \"type\": \"video\",\n",
      "      \"sizes\": {\n",
      "       \"large\": {\n",
      "        \"w\": 352,\n",
      "        \"h\": 640,\n",
      "        \"resize\": \"fit\"\n",
      "       },\n",
      "       \"thumb\": {\n",
      "        \"w\": 150,\n",
      "        \"h\": 150,\n",
      "        \"resize\": \"crop\"\n",
      "       },\n",
      "       \"small\": {\n",
      "        \"w\": 352,\n",
      "        \"h\": 640,\n",
      "        \"resize\": \"fit\"\n",
      "       },\n",
      "       \"medium\": {\n",
      "        \"w\": 352,\n",
      "        \"h\": 640,\n",
      "        \"resize\": \"fit\"\n",
      "       }\n",
      "      },\n",
      "      \"video_info\": {\n",
      "       \"aspect_ratio\": [\n",
      "        11,\n",
      "        20\n",
      "       ],\n",
      "       \"duration_millis\": 12170,\n",
      "       \"variants\": [\n",
      "        {\n",
      "         \"bitrate\": 832000,\n",
      "         \"content_type\": \"video/mp4\",\n",
      "         \"url\": \"https://video.twimg.com/ext_tw_video/1323374058675838976/pu/vid/352x640/gqTy1AekXpd0AlpV.mp4?tag=10\"\n",
      "        },\n",
      "        {\n",
      "         \"content_type\": \"application/x-mpegURL\",\n",
      "         \"url\": \"https://video.twimg.com/ext_tw_video/1323374058675838976/pu/pl/Fig4d1JveHRLMt-p.m3u8?tag=10\"\n",
      "        },\n",
      "        {\n",
      "         \"bitrate\": 632000,\n",
      "         \"content_type\": \"video/mp4\",\n",
      "         \"url\": \"https://video.twimg.com/ext_tw_video/1323374058675838976/pu/vid/320x580/PWa5A3Vd7d7T04t9.mp4?tag=10\"\n",
      "        }\n",
      "       ]\n",
      "      },\n",
      "      \"additional_media_info\": {\n",
      "       \"monetizable\": false\n",
      "      }\n",
      "     }\n",
      "    ]\n",
      "   },\n",
      "   \"metadata\": {\n",
      "    \"iso_language_code\": \"it\",\n",
      "    \"result_type\": \"recent\"\n",
      "   },\n",
      "   \"source\": \"<a href=\\\"http://twitter.com/download/android\\\" rel=\\\"nofollow\\\">Twitter for Android</a>\",\n",
      "   \"in_reply_to_status_id\": null,\n",
      "   \"in_reply_to_status_id_str\": null,\n",
      "   \"in_reply_to_user_id\": null,\n",
      "   \"in_reply_to_user_id_str\": null,\n",
      "   \"in_reply_to_screen_name\": null,\n",
      "   \"user\": {\n",
      "    \"id\": 1100776937004457984,\n",
      "    \"id_str\": \"1100776937004457984\",\n",
      "    \"name\": \"RadioSavana\",\n",
      "    \"screen_name\": \"RadioSavana\",\n",
      "    \"location\": \"Genova, Liguria\",\n",
      "    \"description\": \"\",\n",
      "    \"url\": null,\n",
      "    \"entities\": {\n",
      "     \"description\": {\n",
      "      \"urls\": []\n",
      "     }\n",
      "    },\n",
      "    \"protected\": false,\n",
      "    \"followers_count\": 32176,\n",
      "    \"friends_count\": 1926,\n",
      "    \"listed_count\": 127,\n",
      "    \"created_at\": \"Wed Feb 27 15:17:28 +0000 2019\",\n",
      "    \"favourites_count\": 142688,\n",
      "    \"utc_offset\": null,\n",
      "    \"time_zone\": null,\n",
      "    \"geo_enabled\": false,\n",
      "    \"verified\": false,\n",
      "    \"statuses_count\": 88411,\n",
      "    \"lang\": null,\n",
      "    \"contributors_enabled\": false,\n",
      "    \"is_translator\": false,\n",
      "    \"is_translation_enabled\": false,\n",
      "    \"profile_background_color\": \"F5F8FA\",\n",
      "    \"profile_background_image_url\": null,\n",
      "    \"profile_background_image_url_https\": null,\n",
      "    \"profile_background_tile\": false,\n",
      "    \"profile_image_url\": \"http://pbs.twimg.com/profile_images/1167308728195928065/qefF-4WL_normal.jpg\",\n",
      "    \"profile_image_url_https\": \"https://pbs.twimg.com/profile_images/1167308728195928065/qefF-4WL_normal.jpg\",\n",
      "    \"profile_banner_url\": \"https://pbs.twimg.com/profile_banners/1100776937004457984/1598913194\",\n",
      "    \"profile_link_color\": \"1DA1F2\",\n",
      "    \"profile_sidebar_border_color\": \"C0DEED\",\n",
      "    \"profile_sidebar_fill_color\": \"DDEEF6\",\n",
      "    \"profile_text_color\": \"333333\",\n",
      "    \"profile_use_background_image\": true,\n",
      "    \"has_extended_profile\": false,\n",
      "    \"default_profile\": true,\n",
      "    \"default_profile_image\": false,\n",
      "    \"following\": false,\n",
      "    \"follow_request_sent\": false,\n",
      "    \"notifications\": false,\n",
      "    \"translator_type\": \"none\"\n",
      "   },\n",
      "   \"geo\": null,\n",
      "   \"coordinates\": null,\n",
      "   \"place\": null,\n",
      "   \"contributors\": null,\n",
      "   \"is_quote_status\": false,\n",
      "   \"retweet_count\": 158,\n",
      "   \"favorite_count\": 442,\n",
      "   \"favorited\": false,\n",
      "   \"retweeted\": false,\n",
      "   \"possibly_sensitive\": false,\n",
      "   \"lang\": \"it\"\n",
      "  },\n",
      "  \"retweet_count\": 7,\n",
      "  \"favorite_count\": 12,\n",
      "  \"favorited\": false,\n",
      "  \"retweeted\": false,\n",
      "  \"possibly_sensitive\": false,\n",
      "  \"lang\": \"it\"\n",
      " },\n",
      " \"is_quote_status\": true,\n",
      " \"quoted_status_id\": 1323374087834664962,\n",
      " \"quoted_status_id_str\": \"1323374087834664962\",\n",
      " \"retweet_count\": 7,\n",
      " \"favorite_count\": 0,\n",
      " \"favorited\": false,\n",
      " \"retweeted\": false,\n",
      " \"lang\": \"it\"\n",
      "}\n"
     ]
    }
   ],
   "source": [
    "q = '#Trump' # About Donald J. Trump\n",
    "count = 100 # number of results to retrieve\n",
    "\n",
    "# See https://dev.twitter.com/docs/api/1.1/get/search/tweets for more info\n",
    "\n",
    "search_results_Trump = twitter_api.search.tweets(q=q, count=count) # search for your query 'q' 100 times\n",
    "statuses_Trump = search_results_Trump['statuses'] # extract the tweets found\n",
    "\n",
    "# The following code allows you to print in a nice format the contents of search_results\n",
    "import json\n",
    "print(type(statuses_Trump))\n",
    "print(json.dumps(statuses_Trump[0], indent=1))"
   ]
  },
  {
   "cell_type": "markdown",
   "metadata": {},
   "source": [
    "## Part 2: Extracting text, screen names, and hashtags from tweets (from Example 1-6 in Mining the Social Web)\n",
    "\n",
    "Simply printing all the search results to screen is nice, but to really start analysing them, it is handy to select the interesting parts and store them in a different structure such as a list. \n",
    "\n",
    "In this example you are using a thing called \"List Comprehension\".\n",
    "\n",
    "### 2.1 List Comprehensions\n",
    "List comprehension is a powerful construct that allows to succinctly build a list.\n",
    "With it you can process items from any iterable (e.g. dictionaries, lists, tuples, iterators...) and output a list while optionally performing an operation on each value.\n",
    "\n",
    "Here's a few examples:"
   ]
  },
  {
   "cell_type": "code",
   "execution_count": 10,
   "metadata": {},
   "outputs": [
    {
     "name": "stdout",
     "output_type": "stream",
     "text": [
      "[0, 2, 4, 6, 8, 10, 12, 14, 16, 18]\n",
      "[1, 9, 25, 49, 81]\n",
      "['The', 'Social', 'Web']\n",
      "[3, 6, 3]\n",
      "[1, 2, 3, 4, 5, 6, 7, 8, 9]\n"
     ]
    }
   ],
   "source": [
    "# double all values from 0 to 9\n",
    "double_list = [i*2 for i in range(10)]\n",
    "# raise to the power of 2, but only if the number is uneven\n",
    "power_even_list = [i**2 for i in range(10) if i%2!=0]\n",
    "# clean strings in a tuple\n",
    "stripped_lines = [x.strip() for x in ('The\\n', 'Social\\n', 'Web\\n')]\n",
    "# return length of each string in stripped_lines\n",
    "len_str_lines = [len(s) for s in stripped_lines]\n",
    "# finally, we can nest list comprehensions to flatten a list of lists:\n",
    "list_of_lists = [[1, 2, 3], [4, 5, 6], [7, 8, 9]]\n",
    "range_9 = [x for y in list_of_lists for x in y]\n",
    "\n",
    "print(double_list)\n",
    "print(power_even_list)\n",
    "print(stripped_lines)\n",
    "print(len_str_lines)\n",
    "print(range_9)"
   ]
  },
  {
   "cell_type": "markdown",
   "metadata": {},
   "source": [
    "### 2.2 Parsing text, screen names and hashtags from tweets\n",
    "*(from Example 1-6 in Mining the Social Web)*\n",
    "\n",
    "Hereafter, we'll be creating a variable `status_texts` of type list. \\\n",
    "The list will be filled with the `text` elements from each `status`, whereas `status` comes from looping through all `statuses` in the `search_results` list (1.2). \\\n",
    "Look up the list comprehensions in your Python reference materials to make sure you understand what's happening here. "
   ]
  },
  {
   "cell_type": "code",
   "execution_count": 11,
   "metadata": {},
   "outputs": [
    {
     "name": "stdout",
     "output_type": "stream",
     "text": [
      "[\n",
      " \"RT @AlbertEinstein: #ThrowbackThursday: Einstein with his colleagues at the Leiden Observatory on September 26, 1923. Front row: Arthur Edd\\u2026\",\n",
      " \"RT @Brands_Hatch: After @TheBishF1 reminded us that Jean-Pierre Beltoise won the Brands Hatch Victory Race on this day in 1972, we thought\\u2026\",\n",
      " \"RT @RealFunkyvoices: Live rehearsals - good while it lasted.  If you want to carry on singing or just to cheer yourself up log in to our #T\\u2026\",\n",
      " \"RT @lilmonix3: THROWBACK! i'm missing my friends extra today~ did i ever show you this picnic we did??  \\ud83c\\udf04 look at yuri helping natsuki bake\\u2026\",\n",
      " \"RT @Eppendorf_AG: 1961: Eppendorf launches its revolutionary piston-stroke microliter pipette, ushering in the age of precise and rapid pip\\u2026\"\n",
      "]\n",
      "[\n",
      " \"AlbertEinstein\",\n",
      " \"Brands_Hatch\",\n",
      " \"TheBishF1\",\n",
      " \"RealFunkyvoices\",\n",
      " \"lilmonix3\"\n",
      "]\n",
      "[\n",
      " \"ThrowbackThursday\",\n",
      " \"ThrowbackThursday\",\n",
      " \"Bookcollection\",\n",
      " \"GearsofWar\",\n",
      " \"ThrowbackThursday\"\n",
      "]\n",
      "[\n",
      " \"RT\",\n",
      " \"@AlbertEinstein:\",\n",
      " \"#ThrowbackThursday:\",\n",
      " \"Einstein\",\n",
      " \"with\"\n",
      "]\n"
     ]
    }
   ],
   "source": [
    "status_texts = [ status['text'] for status in statuses ]\n",
    "# the escape character \"\\\" allows for the list comprehension to continue\n",
    "# on a new line. While not strictly necessary, it makes code more readable\n",
    "# for your fellow programmers.\n",
    "screen_names = [ user_mention['screen_name'] for status in statuses \\\n",
    "                for user_mention in status['entities']['user_mentions'] ]\n",
    "\n",
    "hashtags = [ hashtag['text'] for status in statuses \\\n",
    "        for hashtag in status['entities']['hashtags'] ]\n",
    "\n",
    "# Compute a collection of all words from all tweets\n",
    "words = [ w for t in status_texts for w in t.split() ] #split the string on the empty spaces\n",
    "\n",
    "# Explore the first 5 items for each...\n",
    "print(json.dumps(status_texts[0:5], indent=1))\n",
    "print(json.dumps(screen_names[0:5], indent=1))\n",
    "print(json.dumps(hashtags[0:5], indent=1))\n",
    "print(json.dumps(words[0:5], indent=1))"
   ]
  },
  {
   "cell_type": "markdown",
   "metadata": {},
   "source": [
    "### Task 3\n",
    "\n",
    "You are now ready to parse usernames, hashtags and text from the results you previously obtained in Task 2 (e.g. `statuses_2`). While doing it, make sure to leave the variables created in 2.2 untouched. Instead, create your own variable names, which you'll be using soon.\n"
   ]
  },
  {
   "cell_type": "code",
   "execution_count": 12,
   "metadata": {},
   "outputs": [
    {
     "name": "stdout",
     "output_type": "stream",
     "text": [
      "[\n",
      " \"RT @ideadestra_: Ecco uno dei terroristi a #Vienna finanziati con i soldi del premio #Nobel #Obama e della sua bestia #Clinton \\nBastardi ch\\u2026\",\n",
      " \"RT @mariawirth1: 20 years ago, in 2000, the plan was for 2016-19 \\\"total confrontation b/w believers &amp; unbelievers\\\" as told by Fouad Hussein\\u2026\",\n",
      " \"RT @TheDeshBhakt: \\ud83d\\udd25\\u0905\\u092c\\u094d\\u092c \\u0915\\u0940 \\u092c\\u093e\\u0930 \\u092b\\u093f\\u0930 #Trump \\u0938\\u0930\\u0915\\u093e\\u0930\\ud83d\\udd25\\n#\\u092d\\u0915\\u094d\\u0924\\u092c\\u0928\\u0930\\u094d\\u091c\\u0940 https://t.co/VcnOYKxWog\",\n",
      " \"Lord please answer our prayers #Trump #AmericaOrTrump #President Trump\",\n",
      " \"Heute ist der Tag der Patrioten!\\n#DayofPatriots @realDonaldTrump #Trump #USElections2020 #USElection2020 https://t.co/2r1zSDxLX3\"\n",
      "]\n",
      "[\n",
      " \"ideadestra_\",\n",
      " \"mariawirth1\",\n",
      " \"TheDeshBhakt\",\n",
      " \"realDonaldTrump\",\n",
      " \"ideadestra_\"\n",
      "]\n",
      "[\n",
      " \"Vienna\",\n",
      " \"Nobel\",\n",
      " \"Obama\",\n",
      " \"Clinton\",\n",
      " \"Trump\"\n",
      "]\n",
      "[\n",
      " \"RT\",\n",
      " \"@ideadestra_:\",\n",
      " \"Ecco\",\n",
      " \"uno\",\n",
      " \"dei\"\n",
      "]\n"
     ]
    }
   ],
   "source": [
    "status_texts_Trump = [ status['text'] for status in statuses_Trump ]\n",
    "# the escape character \"\\\" allows for the list comprehension to continue\n",
    "# on a new line. While not strictly necessary, it makes code more readable\n",
    "# for your fellow programmers.\n",
    "screen_names_Trump = [ user_mention['screen_name'] for status in statuses_Trump \\\n",
    "                for user_mention in status['entities']['user_mentions'] ]\n",
    "\n",
    "hashtags_Trump = [ hashtag['text'] for status in statuses_Trump \\\n",
    "        for hashtag in status['entities']['hashtags'] ]\n",
    "\n",
    "# Compute a collection of all words from all tweets\n",
    "words_Trump = [ w for t in status_texts_Trump for w in t.split() ] #split the string on the empty spaces\n",
    "\n",
    "# Explore the first 5 items for each...\n",
    "print(json.dumps(status_texts_Trump[0:5], indent=1))\n",
    "print(json.dumps(screen_names_Trump[0:5], indent=1))\n",
    "print(json.dumps(hashtags_Trump[0:5], indent=1))\n",
    "print(json.dumps(words_Trump[0:5], indent=1))"
   ]
  },
  {
   "cell_type": "markdown",
   "metadata": {},
   "source": [
    "## Part 3: Creating a basic frequency distribution from words in tweets\n",
    "*(from Examples 1-7 in Mining the Social Web)* \n",
    "\n",
    "\n",
    "In the cell below we display the 10 most common hashtag instances:"
   ]
  },
  {
   "cell_type": "code",
   "execution_count": 13,
   "metadata": {},
   "outputs": [
    {
     "name": "stdout",
     "output_type": "stream",
     "text": [
      "[('ThrowbackThursday', 46), ('DDUDUDDUDU', 23), ('fun', 5), ('instagramers', 5), ('food', 5), ('smile', 5), ('pretty', 5), ('followme', 5), ('nature', 5), ('lol', 5)]\n"
     ]
    }
   ],
   "source": [
    "from collections import Counter\n",
    "\n",
    "for item in [words, screen_names, hashtags]:\n",
    "    c = Counter(item)\n",
    "    \n",
    "print(c.most_common()[:10]) # top 10"
   ]
  },
  {
   "cell_type": "markdown",
   "metadata": {},
   "source": [
    "Your output should look something like this: \\\n",
    "`[('ThrowbackThursday', 34), ('throwbackthursday', 11), ('TBT', 6), ('ThrowBackThursday', 6), ('Trivia', 3), ('madoka_magica', 2), ('New', 2), ('EURO2020', 2), ('artists', 2)]`\n",
    "\n",
    "### Task 4\n",
    "Show hashtags frequency for results that you obtained in Task 3. Think about possible explanations for the different results you get from the analyses for the different queries.\n"
   ]
  },
  {
   "cell_type": "code",
   "execution_count": 14,
   "metadata": {},
   "outputs": [
    {
     "name": "stdout",
     "output_type": "stream",
     "text": [
      "[('Trump', 60), ('Biden', 13), ('USA', 9), ('trump', 7), ('ElectionDay', 7), ('TRUMP2020Landside', 6), ('USElections2020', 5), ('Obama', 4), ('r2p', 4), ('NewYork', 4)]\n"
     ]
    }
   ],
   "source": [
    "from collections import Counter\n",
    "\n",
    "for item in [words_Trump, screen_names_Trump, hashtags_Trump]:\n",
    "    c = Counter(item)\n",
    "    \n",
    "print(c.most_common()[:10]) # top 10"
   ]
  },
  {
   "cell_type": "markdown",
   "metadata": {},
   "source": [
    "### 3.1 Storing your results\n",
    "So far, we have been storing the data in working memory. Often it's handy to store your data to disk so you can retrieve it in a next session. \n",
    "\n",
    "The pickle module lets you do exactly that, by serializing data in a binary format.\n"
   ]
  },
  {
   "cell_type": "code",
   "execution_count": 15,
   "metadata": {},
   "outputs": [],
   "source": [
    "import pickle\n",
    "\n",
    "filepath = \"my_data.pickle\"\n",
    "# this indented python syntax is broadly defined as \"context manager\".\n",
    "# This means that everything happening under its indentation will use f\n",
    "# as file handle to filepath. The Shortand `wb` stands for \"write binary\",\n",
    "# which is how we serialize data to disk.\n",
    "with open(filepath, \"wb\") as f:\n",
    "    pickle.dump(words, f) # write the contents of list 'words' to file 'f'\n",
    "    \n",
    "# Note that, after the end of the indented block, the file is automatically closed.\n",
    "# Hence, no memory resource on your system is wasted idly."
   ]
  },
  {
   "cell_type": "markdown",
   "metadata": {},
   "source": [
    "If you browse to your working directory, you should find a file there named \"myData.pickle\". You can open this in a text editor, or load its contents back into a variable to do some more analyses on.\n"
   ]
  },
  {
   "cell_type": "code",
   "execution_count": 16,
   "metadata": {},
   "outputs": [
    {
     "name": "stdout",
     "output_type": "stream",
     "text": [
      "['RT', '@AlbertEinstein:', '#ThrowbackThursday:', 'Einstein', 'with', 'his', 'colleagues', 'at', 'the', 'Leiden', 'Observatory', 'on', 'September', '26,', '1923.', 'Front', 'row:', 'Arthur', 'Edd…', 'RT', '@Brands_Hatch:', 'After', '@TheBishF1', 'reminded', 'us', 'that', 'Jean-Pierre', 'Beltoise', 'won', 'the', 'Brands', 'Hatch', 'Victory', 'Race', 'on', 'this', 'day', 'in', '1972,', 'we', 'thought…', 'RT', '@RealFunkyvoices:', 'Live', 'rehearsals', '-', 'good', 'while', 'it', 'lasted.', 'If', 'you', 'want', 'to', 'carry', 'on', 'singing', 'or', 'just', 'to', 'cheer', 'yourself', 'up', 'log', 'in', 'to', 'our', '#T…', 'RT', '@lilmonix3:', 'THROWBACK!', \"i'm\", 'missing', 'my', 'friends', 'extra', 'today~', 'did', 'i', 'ever', 'show', 'you', 'this', 'picnic', 'we', 'did??', '🌄', 'look', 'at', 'yuri', 'helping', 'natsuki', 'bake…', 'RT', '@Eppendorf_AG:', '1961:', 'Eppendorf', 'launches', 'its', 'revolutionary', 'piston-stroke', 'microliter', 'pipette,', 'ushering', 'in', 'the', 'age', 'of', 'precise', 'and', 'rapid', 'pip…', 'RT', '@CreativeReader3:', '#ThrowbackThursday', '#Bookcollection', '#GearsofWar', 'Yes', 'I', 'am', 'a', 'Gears', 'of', 'War', 'fan..', 'What', 'can', 'I', 'say?!', 'https://t.co/miS7gbdpoK', 'RT', '@SB19Official:', '#ThrowbackThursday‼️', 'Did', 'you', 'catch', 'our', 'cover', 'of', \"@ygofficialblink's\", '#DDUDUDDUDU', 'with', 'our', 'amazing', 'trainer', '&amp;', 'videographer', 'f…', 'RT', '@lilmonix3:', 'THROWBACK!', \"i'm\", 'missing', 'my', 'friends', 'extra', 'today~', 'did', 'i', 'ever', 'show', 'you', 'this', 'picnic', 'we', 'did??', '🌄', 'look', 'at', 'yuri', 'helping', 'natsuki', 'bake…', 'RT', '@Eppendorf_AG:', '1978:', 'The', 'first', 'Multipette®', 'is', 'launched,', 'going', 'on', 'to', 'become', 'one', 'of', 'the', 'most', 'successful', 'Eppendorf', 'products.', '1985', 'the', '100,0…', 'RT', '@SB19Official:', '#ThrowbackThursday‼️', 'Did', 'you', 'catch', 'our', 'cover', 'of', \"@ygofficialblink's\", '#DDUDUDDUDU', 'with', 'our', 'amazing', 'trainer', '&amp;', 'videographer', 'f…', 'RT', '@AsphaltPro:', 'Best', 'guess:', 'how', 'much', 'asphalt', 'could', 'this', '1930s-era', 'haul', 'truck', 'carry?', '(Photo', 'features', 'Tully', 'Construction', 'truck,', 'courtesy', 'of…', 'New', 'in', 'twitter', 'so', 'please', 'support', 'me', '....', '#fun', '#instagramers', '#food', '#smile', '#pretty', '#followme', '#nature', '#lol', '#dog', '#hair…', 'https://t.co/rNqYB7DIbw', 'RT', '@lilmonix3:', 'THROWBACK!', \"i'm\", 'missing', 'my', 'friends', 'extra', 'today~', 'did', 'i', 'ever', 'show', 'you', 'this', 'picnic', 'we', 'did??', '🌄', 'look', 'at', 'yuri', 'helping', 'natsuki', 'bake…', 'RT', '@lilmonix3:', 'THROWBACK!', \"i'm\", 'missing', 'my', 'friends', 'extra', 'today~', 'did', 'i', 'ever', 'show', 'you', 'this', 'picnic', 'we', 'did??', '🌄', 'look', 'at', 'yuri', 'helping', 'natsuki', 'bake…', 'RT', '@oxopaulinexox:', '#tbt', '#ThrowbackThursday', 'Berlin', '💛', 'https://t.co/X5ZEVGwEfD', 'RT', '@SB19Official:', '#ThrowbackThursday‼️', 'Did', 'you', 'catch', 'our', 'cover', 'of', \"@ygofficialblink's\", '#DDUDUDDUDU', 'with', 'our', 'amazing', 'trainer', '&amp;', 'videographer', 'f…', 'RT', '@Eppendorf_AG:', '1978:', 'The', 'first', 'Multipette®', 'is', 'launched,', 'going', 'on', 'to', 'become', 'one', 'of', 'the', 'most', 'successful', 'Eppendorf', 'products.', '1985', 'the', '100,0…', '#OnThisDay:', \"#Maradona's\", 'Impossible', 'Free', 'Kick', 'https://t.co/IDxchfYzEN', '#ThrowbackThursday', '#Juventus', '#ForzaNapoliSempre', '#cultofcalcio', 'RT', '@lilmonix3:', 'THROWBACK!', \"i'm\", 'missing', 'my', 'friends', 'extra', 'today~', 'did', 'i', 'ever', 'show', 'you', 'this', 'picnic', 'we', 'did??', '🌄', 'look', 'at', 'yuri', 'helping', 'natsuki', 'bake…', 'RT', '@GurjarKaroli:', '#fun', '#instagramers', '#food', '#smile', '#pretty', '#followme', '#nature', '#lol', '#dog', '#hair', '#onedirection', '#sunset', '#swag', '#throwbackthursday…', 'RT', '@lilmonix3:', 'THROWBACK!', \"i'm\", 'missing', 'my', 'friends', 'extra', 'today~', 'did', 'i', 'ever', 'show', 'you', 'this', 'picnic', 'we', 'did??', '🌄', 'look', 'at', 'yuri', 'helping', 'natsuki', 'bake…', 'RT', '@iccwbo:', '#ThrowbackThursday', 'to', '@intgovforum', '2019.', '&gt;&gt;&gt;', 'What', 'makes', 'this', 'forum', 'so', 'unique', 'and', 'important', 'for', 'the', 'future', 'of', 'the', 'Internet?…', '#fun', '#instagramers', '#food', '#smile', '#pretty', '#followme', '#nature', '#lol', '#dog', '#hair', '#onedirection', '#sunset', '#swag…', 'https://t.co/fCeeJ69LAW', 'RT', '@ShamelessFionaG:', '#ThrowbackThursday', '#Shameless', 'Season', '1,', 'Episode', '12', 'Look', 'how', 'young', 'Ian', 'looked.', 'https://t.co/bRezwpsRjo', 'RT', '@bollywood_life:', '#ThrowbackThursday:', 'When', '#BiggBoss', '13', 'winner', '#SidharthShukla', 'got', 'smitten', 'by', '#AishwaryaRaiBachchan', 'on', 'stage', 'https://t.co…', 'RT', '@musikenet:', '#ThrowbackThursday', 'w/', '@kutxakultur', '🎸Yusuf', 'Esim', 'Erpalaci', '🥁Ian', 'Piniés', 'Ramirez', 'Gitarra', 'eta', 'perkusio', 'soinuak', 'Duo', 'Piniessimekin', 'T…', 'RT', '@havayana21:', \"It's\", 'October;', 'Oktoberfest', '.', '#tbt', '#Throwback', '#ThrowbackThursday', '#throwbackphoto', '#oktoberfest', '#oktoberfest2016', '#pose', '#ootd', '#c…', 'RT', '@SB19Official:', '#ThrowbackThursday‼️', 'Did', 'you', 'catch', 'our', 'cover', 'of', \"@ygofficialblink's\", '#DDUDUDDUDU', 'with', 'our', 'amazing', 'trainer', '&amp;', 'videographer', 'f…', 'RT', '@Eppendorf_AG:', '1978:', 'The', 'first', 'Multipette®', 'is', 'launched,', 'going', 'on', 'to', 'become', 'one', 'of', 'the', 'most', 'successful', 'Eppendorf', 'products.', '1985', 'the', '100,0…', 'RT', '@SB19Official:', '#ThrowbackThursday‼️', 'Did', 'you', 'catch', 'our', 'cover', 'of', \"@ygofficialblink's\", '#DDUDUDDUDU', 'with', 'our', 'amazing', 'trainer', '&amp;', 'videographer', 'f…', 'RT', '@SB19Official:', '#ThrowbackThursday‼️', 'Did', 'you', 'catch', 'our', 'cover', 'of', \"@ygofficialblink's\", '#DDUDUDDUDU', 'with', 'our', 'amazing', 'trainer', '&amp;', 'videographer', 'f…', 'RT', '@Mantis_GamesBE:', '#JourneyForElysium,', 'our', '#VR', 'underworld', 'adventure,', 'released', 'almost', '1', 'year', 'ago!', '(31/10/2019🗓️)', 'While', 'we', \"can't\", 'offer', 'you…', 'RT', '@SB19Official:', '#ThrowbackThursday‼️', 'Did', 'you', 'catch', 'our', 'cover', 'of', \"@ygofficialblink's\", '#DDUDUDDUDU', 'with', 'our', 'amazing', 'trainer', '&amp;', 'videographer', 'f…', 'RT', '@SB19Official:', '#ThrowbackThursday‼️', 'Did', 'you', 'catch', 'our', 'cover', 'of', \"@ygofficialblink's\", '#DDUDUDDUDU', 'with', 'our', 'amazing', 'trainer', '&amp;', 'videographer', 'f…', 'RT', '@universalrecph:', '#ThrowbackThursday', 'WATCH:', 'Alden', 'Richards', '“Haplos”', 'MV', 'https://t.co/UnTS9LyVPW', 'https://t.co/ECosUrWcun', 'RT', '@richardlnsasia:', '#throwbackthursday', 'to', 'IIMS', '2013', 'when', 'took', 'a', 'pose', 'with', 'this', 'Honda', 'NSX', 'Concept', '.', '#photo', '#tbt', '#iims', '#iims2013', '#hondansxcon…', 'RT', '@ladyehimare:', '#DoubleChris', '.', '#ThrowbackThursday', '.', 'Can', 'you', 'remember', 'this', 'day?', '.', '❤❤❤❤❤❤❤❤❤❤❤❤❤', '.', '#ultimateloveng', '#DC2020', '#ChrisAdah', '#c…', 'RT', '@lilmonix3:', 'THROWBACK!', \"i'm\", 'missing', 'my', 'friends', 'extra', 'today~', 'did', 'i', 'ever', 'show', 'you', 'this', 'picnic', 'we', 'did??', '🌄', 'look', 'at', 'yuri', 'helping', 'natsuki', 'bake…', 'RT', '@CAF_Online:', 'Throwback', 'to', 'one', 'of', 'the', 'most', 'epic', '#TotalAFCON', 'runs', 'of', 'the', 'century!', '🇲🇬', '#ThrowbackThursday', 'https://t.co/Em2HOLiFTC', 'RT', '@lilmonix3:', 'THROWBACK!', \"i'm\", 'missing', 'my', 'friends', 'extra', 'today~', 'did', 'i', 'ever', 'show', 'you', 'this', 'picnic', 'we', 'did??', '🌄', 'look', 'at', 'yuri', 'helping', 'natsuki', 'bake…', 'RT', '@lilmonix3:', 'THROWBACK!', \"i'm\", 'missing', 'my', 'friends', 'extra', 'today~', 'did', 'i', 'ever', 'show', 'you', 'this', 'picnic', 'we', 'did??', '🌄', 'look', 'at', 'yuri', 'helping', 'natsuki', 'bake…', 'RT', '@universalrecph:', '#ThrowbackThursday', 'WATCH:', 'Alden', 'Richards', '“Haplos”', 'MV', 'https://t.co/UnTS9LyVPW', 'https://t.co/ECosUrWcun', 'RT', '@ljphotoimages:', '#ThrowbackThursday', '#Porsche', '#silverclassic', 'https://t.co/0zi8duYLcV', 'RT', '@SB19Official:', '#ThrowbackThursday‼️', 'Did', 'you', 'catch', 'our', 'cover', 'of', \"@ygofficialblink's\", '#DDUDUDDUDU', 'with', 'our', 'amazing', 'trainer', '&amp;', 'videographer', 'f…', 'RT', '@SB19Official:', '#ThrowbackThursday‼️', 'Did', 'you', 'catch', 'our', 'cover', 'of', \"@ygofficialblink's\", '#DDUDUDDUDU', 'with', 'our', 'amazing', 'trainer', '&amp;', 'videographer', 'f…', 'RT', '@SB19Official:', '#ThrowbackThursday‼️', 'Did', 'you', 'catch', 'our', 'cover', 'of', \"@ygofficialblink's\", '#DDUDUDDUDU', 'with', 'our', 'amazing', 'trainer', '&amp;', 'videographer', 'f…', 'RT', '@CircusVegas:', '\"Back', 'in', 'my', 'day!\"', '#ThrowbackThursday', 'https://t.co/OOCgh7Z2Ek', 'RT', '@lilmonix3:', 'THROWBACK!', \"i'm\", 'missing', 'my', 'friends', 'extra', 'today~', 'did', 'i', 'ever', 'show', 'you', 'this', 'picnic', 'we', 'did??', '🌄', 'look', 'at', 'yuri', 'helping', 'natsuki', 'bake…', 'RT', '@SB19Official:', '#ThrowbackThursday‼️', 'Did', 'you', 'catch', 'our', 'cover', 'of', \"@ygofficialblink's\", '#DDUDUDDUDU', 'with', 'our', 'amazing', 'trainer', '&amp;', 'videographer', 'f…', '#Viram_Analytics#Branding', '.', '.', '.', '.', '#fun', '#instagramers', '#food', '#smile', '#pretty', '#followme', '#nature', '#lol', '#dog', '#hair…', 'https://t.co/PDW9RTM4bP', 'RT', '@_Manish_Sharma_:', 'Every', 'year', 'at', 'Panasonic', 'we', 'come', 'together', 'to', 'celebrate', '#Diwali', 'in', 'all', 'its', 'glory', 'and', 'even', 'though', 'this', 'year', 'it', 'will', 'not', 'b…', 'RT', '@lilmonix3:', 'THROWBACK!', \"i'm\", 'missing', 'my', 'friends', 'extra', 'today~', 'did', 'i', 'ever', 'show', 'you', 'this', 'picnic', 'we', 'did??', '🌄', 'look', 'at', 'yuri', 'helping', 'natsuki', 'bake…', 'RT', '@SB19Official:', '#ThrowbackThursday‼️', 'Did', 'you', 'catch', 'our', 'cover', 'of', \"@ygofficialblink's\", '#DDUDUDDUDU', 'with', 'our', 'amazing', 'trainer', '&amp;', 'videographer', 'f…', 'RT', '@SB19Official:', '#ThrowbackThursday‼️', 'Did', 'you', 'catch', 'our', 'cover', 'of', \"@ygofficialblink's\", '#DDUDUDDUDU', 'with', 'our', 'amazing', 'trainer', '&amp;', 'videographer', 'f…', 'RT', '@PebblesPuss2014:', 'Resting', '💓', '#ThrowbackThursday', 'https://t.co/qeZRfLAci7', 'RT', '@PebblesPuss2014:', 'Resting', '💓', '#ThrowbackThursday', 'https://t.co/qeZRfLAci7', 'RT', '@SB19Official:', '#ThrowbackThursday‼️', 'Did', 'you', 'catch', 'our', 'cover', 'of', \"@ygofficialblink's\", '#DDUDUDDUDU', 'with', 'our', 'amazing', 'trainer', '&amp;', 'videographer', 'f…', 'RT', '@SB19Official:', '#ThrowbackThursday‼️', 'Did', 'you', 'catch', 'our', 'cover', 'of', \"@ygofficialblink's\", '#DDUDUDDUDU', 'with', 'our', 'amazing', 'trainer', '&amp;', 'videographer', 'f…', 'RT', '@Tomcob427:', '#ThrowbackThursday', 'to', 'this', 'epic', 'snake', 'battle!', '🐍', '#Shelby', '#ClassicCar', '#ACCobra', '#MuscleCar', '#ClassicCar', '#TBT', 'https://t.co/CVNOfa…', 'RT', '@SB19Official:', '#ThrowbackThursday‼️', 'Did', 'you', 'catch', 'our', 'cover', 'of', \"@ygofficialblink's\", '#DDUDUDDUDU', 'with', 'our', 'amazing', 'trainer', '&amp;', 'videographer', 'f…', 'RT', '@TheresaLongo:', '📸', 'Events', '&amp;', 'Activations', 'on', 'pause', 'for', 'now!', '#COVID19', 'Can’t', 'imagine', 'a', 'show', 'PACKED', 'with', 'people', 'like', 'in', 'the', 'good', 'old', 'days!', '✨', '😭…', 'RT', '@ICC:', '#ThrowbackThursday', '📸', 'https://t.co/POOXpMOS2Q', 'RT', '@WhiteCoatWaste:', 'USDA', 'slaughtered', '&amp;', 'INCINERATED', '3K+', '😿🔥', 'You', 'paid', '$22M', 'in', 'TAXES!', '🇨🇳💸🗑️', 'We', 'ENDED', 'it', '🛑🥳', '🇺🇸', '#ThrowbackThursday', 'on', '#NationalC…', 'RT', '@SB19Official:', '#ThrowbackThursday‼️', 'Did', 'you', 'catch', 'our', 'cover', 'of', \"@ygofficialblink's\", '#DDUDUDDUDU', 'with', 'our', 'amazing', 'trainer', '&amp;', 'videographer', 'f…', '#LunesDeGanarSeguidores', '#fun', '#instagramers', '#food', '#smile', '#pretty', '#followme', '#nature', '#lol', '#dog', '#hair', '#onedirection…', 'https://t.co/QX6hlKy5Zf', 'RT', '@BigRonColeman:', '#throwbackthursday', 'to', 'one', 'of', 'my', 'all', 'time', 'favorite', 'training', 'videos', '(and', 'outfits).', '#YeahBuddy', '!', 'Full', 'Video', 'on', 'my', 'YouTube', '-…', 'RT', '@SB19Official:', '#ThrowbackThursday‼️', 'Did', 'you', 'catch', 'our', 'cover', 'of', \"@ygofficialblink's\", '#DDUDUDDUDU', 'with', 'our', 'amazing', 'trainer', '&amp;', 'videographer', 'f…', 'RT', '@SB19Official:', '#ThrowbackThursday‼️', 'Did', 'you', 'catch', 'our', 'cover', 'of', \"@ygofficialblink's\", '#DDUDUDDUDU', 'with', 'our', 'amazing', 'trainer', '&amp;', 'videographer', 'f…', 'RT', '@SB19Official:', '#ThrowbackThursday‼️', 'Did', 'you', 'catch', 'our', 'cover', 'of', \"@ygofficialblink's\", '#DDUDUDDUDU', 'with', 'our', 'amazing', 'trainer', '&amp;', 'videographer', 'f…', 'RT', '@lilmonix3:', 'THROWBACK!', \"i'm\", 'missing', 'my', 'friends', 'extra', 'today~', 'did', 'i', 'ever', 'show', 'you', 'this', 'picnic', 'we', 'did??', '🌄', 'look', 'at', 'yuri', 'helping', 'natsuki', 'bake…', 'ICYMI:', 'Talk', 'about', 'a', 'blast', 'from', 'the', 'past!', '#ThrowbackThursday', '#TBT', 'https://t.co/YxQrvpiPfA', 'RT', '@bollywood_life:', '#ThrowbackThursday:', 'When', '#BiggBoss', '13', 'winner', '#SidharthShukla', 'got', 'smitten', 'by', '#AishwaryaRaiBachchan', 'on', 'stage', 'https://t.co…', 'RT', '@brooklyn6234:', '#ThrowbackThursday', '#WHATANHISTORICPICTURE', '#WITHTHELATEGREATCORETTASCOTTKING', '#DRBERNICEKING', '#MARTINLUTHERKINGIII', '#JERMAINE…', 'RT', '@SB19Official:', '#ThrowbackThursday‼️', 'Did', 'you', 'catch', 'our', 'cover', 'of', \"@ygofficialblink's\", '#DDUDUDDUDU', 'with', 'our', 'amazing', 'trainer', '&amp;', 'videographer', 'f…', 'RT', '@SB19Official:', '#ThrowbackThursday‼️', 'Did', 'you', 'catch', 'our', 'cover', 'of', \"@ygofficialblink's\", '#DDUDUDDUDU', 'with', 'our', 'amazing', 'trainer', '&amp;', 'videographer', 'f…', 'RT', '@Eppendorf_AG:', '1978:', 'The', 'first', 'Multipette®', 'is', 'launched,', 'going', 'on', 'to', 'become', 'one', 'of', 'the', 'most', 'successful', 'Eppendorf', 'products.', '1985', 'the', '100,0…', 'RT', '@Mantis_GamesBE:', '#JourneyForElysium,', 'our', '#VR', 'underworld', 'adventure,', 'released', 'almost', '1', 'year', 'ago!', '(31/10/2019🗓️)', 'While', 'we', \"can't\", 'offer', 'you…']\n"
     ]
    }
   ],
   "source": [
    "# open the myData.pickle file and store its contents into variable 'words'\n",
    "\n",
    "with open(filepath, \"rb\") as f:\n",
    "    words = pickle.load(f)\n",
    "print(words)"
   ]
  },
  {
   "cell_type": "markdown",
   "metadata": {},
   "source": [
    "### 3.2 Using prettytable to display tuples in a nice way\n",
    "\n"
   ]
  },
  {
   "cell_type": "code",
   "execution_count": 17,
   "metadata": {},
   "outputs": [
    {
     "name": "stdout",
     "output_type": "stream",
     "text": [
      "+---------------------+-------+\n",
      "| Word                | Count |\n",
      "+---------------------+-------+\n",
      "| RT                  |    71 |\n",
      "| our                 |    49 |\n",
      "| you                 |    37 |\n",
      "| of                  |    33 |\n",
      "| with                |    26 |\n",
      "| &amp;               |    25 |\n",
      "| @SB19Official:      |    23 |\n",
      "| #ThrowbackThursday‼️ |    23 |\n",
      "| Did                 |    23 |\n",
      "| catch               |    23 |\n",
      "+---------------------+-------+\n",
      "+-----------------+-------+\n",
      "| Screen Name     | Count |\n",
      "+-----------------+-------+\n",
      "| SB19Official    |    23 |\n",
      "| ygofficialblink |    23 |\n",
      "| lilmonix3       |    12 |\n",
      "| Eppendorf_AG    |     5 |\n",
      "| bollywood_life  |     2 |\n",
      "| Mantis_GamesBE  |     2 |\n",
      "| universalrecph  |     2 |\n",
      "| PebblesPuss2014 |     2 |\n",
      "| AlbertEinstein  |     1 |\n",
      "| Brands_Hatch    |     1 |\n",
      "+-----------------+-------+\n",
      "+-------------------+-------+\n",
      "| Hashtag           | Count |\n",
      "+-------------------+-------+\n",
      "| ThrowbackThursday |    46 |\n",
      "| DDUDUDDUDU        |    23 |\n",
      "| fun               |     5 |\n",
      "| instagramers      |     5 |\n",
      "| food              |     5 |\n",
      "| smile             |     5 |\n",
      "| pretty            |     5 |\n",
      "| followme          |     5 |\n",
      "| nature            |     5 |\n",
      "| lol               |     5 |\n",
      "+-------------------+-------+\n"
     ]
    }
   ],
   "source": [
    "from prettytable import PrettyTable\n",
    "for label, data in (('Word', words),\n",
    "                    ('Screen Name', screen_names),\n",
    "                    ('Hashtag', hashtags)):\n",
    "    pt = PrettyTable(field_names=[label, 'Count'])\n",
    "    c = Counter(data)\n",
    "    [ pt.add_row(kv) for kv in c.most_common()[:10] ]\n",
    "    pt.align[label], pt.align['Count'] = 'l', 'r' # Set column alignment\n",
    "    print(pt) "
   ]
  },
  {
   "cell_type": "markdown",
   "metadata": {},
   "source": [
    "### 3.3 Calculating lexical diversity for tweets \n",
    "*(from Example 1-9 in Mining the Social Web)*:"
   ]
  },
  {
   "cell_type": "code",
   "execution_count": 18,
   "metadata": {},
   "outputs": [
    {
     "name": "stdout",
     "output_type": "stream",
     "text": [
      "0.29576453697056715\n",
      "0.35051546391752575\n",
      "0.3259668508287293\n",
      "18.09090909090909\n"
     ]
    }
   ],
   "source": [
    "# Define a function for computing lexical diversity\n",
    "def lexical_diversity(tokens):\n",
    "    return 1.0*len(set(tokens))/len(tokens)\n",
    "\n",
    "# Define a function for computing the average number of words per tweet\n",
    "def average_words(statuses):\n",
    "    total_words = sum([ len(s.split()) for s in statuses ])\n",
    "    return 1.0*total_words/len(statuses) \n",
    "\n",
    "# Let's use these functions:\n",
    "\n",
    "print(lexical_diversity(words))\n",
    "print(lexical_diversity(screen_names))\n",
    "print(lexical_diversity(hashtags))\n",
    "print(average_words(status_texts))"
   ]
  },
  {
   "cell_type": "markdown",
   "metadata": {},
   "source": [
    "### Task 5: What do the printed numbers indicate? Try to explain them.\n",
    "\n",
    "For the hastag ThrowbackThursday, the diversity in words in almost 40%. Which tells us that 37% of the text in the tweets correlated to ThrowbackThursday is the same. This also counts for the screen names which are the same in 63% of the cases, and 44% in the used hashtags. Finally, the average used words in a single tweet is 19. "
   ]
  },
  {
   "cell_type": "markdown",
   "metadata": {},
   "source": [
    "### 3.4 Finding the most popular retweets \n",
    "*(from Example 1-10 in Mining the Social Web):*"
   ]
  },
  {
   "cell_type": "code",
   "execution_count": 19,
   "metadata": {},
   "outputs": [
    {
     "name": "stdout",
     "output_type": "stream",
     "text": [
      "+-------+--------------+----------------------------------------------------+\n",
      "| Count | Screen Name  | Text                                               |\n",
      "+-------+--------------+----------------------------------------------------+\n",
      "| 11814 | SB19Official | RT @SB19Official: #ThrowbackThursday‼️              |\n",
      "|       |              |                                                    |\n",
      "|       |              | Did you catch our cover of @ygofficialblink's      |\n",
      "|       |              | #DDUDUDDUDU with our amazing trainer &amp;         |\n",
      "|       |              | videographer f…                                    |\n",
      "| 11814 | SB19Official | RT @SB19Official: #ThrowbackThursday‼️              |\n",
      "|       |              |                                                    |\n",
      "|       |              | Did you catch our cover of @ygofficialblink's      |\n",
      "|       |              | #DDUDUDDUDU with our amazing trainer &amp;         |\n",
      "|       |              | videographer f…                                    |\n",
      "| 11814 | SB19Official | RT @SB19Official: #ThrowbackThursday‼️              |\n",
      "|       |              |                                                    |\n",
      "|       |              | Did you catch our cover of @ygofficialblink's      |\n",
      "|       |              | #DDUDUDDUDU with our amazing trainer &amp;         |\n",
      "|       |              | videographer f…                                    |\n",
      "| 11814 | SB19Official | RT @SB19Official: #ThrowbackThursday‼️              |\n",
      "|       |              |                                                    |\n",
      "|       |              | Did you catch our cover of @ygofficialblink's      |\n",
      "|       |              | #DDUDUDDUDU with our amazing trainer &amp;         |\n",
      "|       |              | videographer f…                                    |\n",
      "| 11814 | SB19Official | RT @SB19Official: #ThrowbackThursday‼️              |\n",
      "|       |              |                                                    |\n",
      "|       |              | Did you catch our cover of @ygofficialblink's      |\n",
      "|       |              | #DDUDUDDUDU with our amazing trainer &amp;         |\n",
      "|       |              | videographer f…                                    |\n",
      "+-------+--------------+----------------------------------------------------+\n"
     ]
    }
   ],
   "source": [
    "retweet_cnt_un_txt = [(status['retweet_count'],\n",
    "    status['retweeted_status']['user']['screen_name'],\n",
    "    status['text'])# Store out a tuple of these three values\n",
    "    for status in statuses # for each status\n",
    "    if 'retweeted_status' in status # ... so long as the status meets this condition.\n",
    "    ]\n",
    "\n",
    "# Slice off the first 5 from the sorted results and display each item in the tuple\n",
    "pt = PrettyTable(field_names=['Count', 'Screen Name', 'Text'])\n",
    "[ pt.add_row(row) for row in sorted(retweet_cnt_un_txt, reverse=True)[:5] ]\n",
    "pt.max_width['Text'] = 50\n",
    "pt.align= 'l'\n",
    "print(pt)"
   ]
  },
  {
   "cell_type": "markdown",
   "metadata": {},
   "source": [
    "### 3.5 Looking up users who have retweeted a status \n",
    "*(from Example 1-11 in Mining the Social Web):*"
   ]
  },
  {
   "cell_type": "code",
   "execution_count": 20,
   "metadata": {},
   "outputs": [
    {
     "name": "stdout",
     "output_type": "stream",
     "text": [
      "Users who've retweeted the tweet:\n",
      "\n",
      "['mblandnc', 'Connormccoolman', 'DarnMilk', 'coy_holt', 'nepetara', 'MARKOPOLO100', 'Dammmniel', 'SHAK_08', 'CGray84564553', 'saabooboo', 'notJacksonfish', 'MartinFaced', 'cestkisa', 'abrewer18', 'ChrEEstosK', 'whoremac', 'MahomieTrent']\n"
     ]
    }
   ],
   "source": [
    "retweets = twitter_api.statuses.retweets(id=1224140327688249349) # Get the original tweet id for a tweet from its retweeted_status node and insert it here\n",
    "print(\"Users who've retweeted the tweet:\\n\")\n",
    "print([r['user']['screen_name'] for r in retweets])"
   ]
  },
  {
   "cell_type": "markdown",
   "metadata": {},
   "source": [
    "### Task 6 (advanced)\n",
    "\n",
    "If you have a Twitter account with a nontrivial number of tweets, request your historical tweet archive from your account settings and analyze it. \\\n",
    "The export of your account data includes files organized by time period in a convenient JSON format. See the README.txt file included in the downloaded archive for more details. \n",
    "\n",
    "\n",
    "\n",
    "What are the most common terms that appear in your tweets? \\\n",
    "Who do you retweet the most often? \\\n",
    "How many of your tweets are retweeted (and why do you think this is the case)?"
   ]
  },
  {
   "cell_type": "code",
   "execution_count": 59,
   "metadata": {},
   "outputs": [
    {
     "ename": "UnsupportedOperation",
     "evalue": "not readable",
     "output_type": "error",
     "traceback": [
      "\u001b[0;31m---------------------------------------------------------------------------\u001b[0m",
      "\u001b[0;31mUnsupportedOperation\u001b[0m                      Traceback (most recent call last)",
      "\u001b[0;32m<ipython-input-59-b926a1e78643>\u001b[0m in \u001b[0;36m<module>\u001b[0;34m\u001b[0m\n\u001b[1;32m      2\u001b[0m \u001b[0;34m\u001b[0m\u001b[0m\n\u001b[1;32m      3\u001b[0m \u001b[0;32mwith\u001b[0m \u001b[0mopen\u001b[0m\u001b[0;34m(\u001b[0m\u001b[0;34m'tweet.js'\u001b[0m\u001b[0;34m,\u001b[0m \u001b[0;34m'w'\u001b[0m\u001b[0;34m)\u001b[0m \u001b[0;32mas\u001b[0m \u001b[0mf\u001b[0m\u001b[0;34m:\u001b[0m\u001b[0;34m\u001b[0m\u001b[0;34m\u001b[0m\u001b[0m\n\u001b[0;32m----> 4\u001b[0;31m     \u001b[0mdata_1\u001b[0m \u001b[0;34m=\u001b[0m \u001b[0mjson\u001b[0m\u001b[0;34m.\u001b[0m\u001b[0mload\u001b[0m\u001b[0;34m(\u001b[0m\u001b[0mf\u001b[0m\u001b[0;34m)\u001b[0m\u001b[0;34m\u001b[0m\u001b[0;34m\u001b[0m\u001b[0m\n\u001b[0m\u001b[1;32m      5\u001b[0m \u001b[0;34m\u001b[0m\u001b[0m\n\u001b[1;32m      6\u001b[0m \u001b[0mprint\u001b[0m\u001b[0;34m(\u001b[0m\u001b[0mdata_1\u001b[0m\u001b[0;34m)\u001b[0m\u001b[0;34m\u001b[0m\u001b[0;34m\u001b[0m\u001b[0m\n",
      "\u001b[0;32m/Library/Frameworks/Python.framework/Versions/3.8/lib/python3.8/json/__init__.py\u001b[0m in \u001b[0;36mload\u001b[0;34m(fp, cls, object_hook, parse_float, parse_int, parse_constant, object_pairs_hook, **kw)\u001b[0m\n\u001b[1;32m    291\u001b[0m     \u001b[0mkwarg\u001b[0m\u001b[0;34m;\u001b[0m \u001b[0motherwise\u001b[0m\u001b[0;31m \u001b[0m\u001b[0;31m`\u001b[0m\u001b[0;31m`\u001b[0m\u001b[0mJSONDecoder\u001b[0m\u001b[0;31m`\u001b[0m\u001b[0;31m`\u001b[0m \u001b[0;32mis\u001b[0m \u001b[0mused\u001b[0m\u001b[0;34m.\u001b[0m\u001b[0;34m\u001b[0m\u001b[0;34m\u001b[0m\u001b[0m\n\u001b[1;32m    292\u001b[0m     \"\"\"\n\u001b[0;32m--> 293\u001b[0;31m     return loads(fp.read(),\n\u001b[0m\u001b[1;32m    294\u001b[0m         \u001b[0mcls\u001b[0m\u001b[0;34m=\u001b[0m\u001b[0mcls\u001b[0m\u001b[0;34m,\u001b[0m \u001b[0mobject_hook\u001b[0m\u001b[0;34m=\u001b[0m\u001b[0mobject_hook\u001b[0m\u001b[0;34m,\u001b[0m\u001b[0;34m\u001b[0m\u001b[0;34m\u001b[0m\u001b[0m\n\u001b[1;32m    295\u001b[0m         \u001b[0mparse_float\u001b[0m\u001b[0;34m=\u001b[0m\u001b[0mparse_float\u001b[0m\u001b[0;34m,\u001b[0m \u001b[0mparse_int\u001b[0m\u001b[0;34m=\u001b[0m\u001b[0mparse_int\u001b[0m\u001b[0;34m,\u001b[0m\u001b[0;34m\u001b[0m\u001b[0;34m\u001b[0m\u001b[0m\n",
      "\u001b[0;31mUnsupportedOperation\u001b[0m: not readable"
     ]
    }
   ],
   "source": [
    "import json\n",
    "\n",
    "with open('tweet.js', 'w') as f:\n",
    "    data_1 = json.load(f)\n",
    "\n",
    "print(data_1)"
   ]
  },
  {
   "cell_type": "code",
   "execution_count": 58,
   "metadata": {},
   "outputs": [
    {
     "ename": "AttributeError",
     "evalue": "'dict' object has no attribute 'split'",
     "output_type": "error",
     "traceback": [
      "\u001b[0;31m---------------------------------------------------------------------------\u001b[0m",
      "\u001b[0;31mAttributeError\u001b[0m                            Traceback (most recent call last)",
      "\u001b[0;32m<ipython-input-58-fb0201eb624f>\u001b[0m in \u001b[0;36m<module>\u001b[0;34m\u001b[0m\n\u001b[1;32m     10\u001b[0m \u001b[0;34m\u001b[0m\u001b[0m\n\u001b[1;32m     11\u001b[0m \u001b[0;31m# Compute a collection of all words from all tweets\u001b[0m\u001b[0;34m\u001b[0m\u001b[0;34m\u001b[0m\u001b[0;34m\u001b[0m\u001b[0m\n\u001b[0;32m---> 12\u001b[0;31m \u001b[0mwords_yoli\u001b[0m \u001b[0;34m=\u001b[0m \u001b[0;34m[\u001b[0m \u001b[0mw\u001b[0m \u001b[0;32mfor\u001b[0m \u001b[0mt\u001b[0m \u001b[0;32min\u001b[0m \u001b[0mstatus_texts_yoli\u001b[0m \u001b[0;32mfor\u001b[0m \u001b[0mw\u001b[0m \u001b[0;32min\u001b[0m \u001b[0mt\u001b[0m\u001b[0;34m.\u001b[0m\u001b[0msplit\u001b[0m\u001b[0;34m(\u001b[0m\u001b[0;34m)\u001b[0m \u001b[0;34m]\u001b[0m \u001b[0;31m#split the string on the empty spaces\u001b[0m\u001b[0;34m\u001b[0m\u001b[0;34m\u001b[0m\u001b[0m\n\u001b[0m\u001b[1;32m     13\u001b[0m \u001b[0;34m\u001b[0m\u001b[0m\n\u001b[1;32m     14\u001b[0m \u001b[0;31m#print(json.dumps(status_texts_yoli, indent=1))\u001b[0m\u001b[0;34m\u001b[0m\u001b[0;34m\u001b[0m\u001b[0;34m\u001b[0m\u001b[0m\n",
      "\u001b[0;32m<ipython-input-58-fb0201eb624f>\u001b[0m in \u001b[0;36m<listcomp>\u001b[0;34m(.0)\u001b[0m\n\u001b[1;32m     10\u001b[0m \u001b[0;34m\u001b[0m\u001b[0m\n\u001b[1;32m     11\u001b[0m \u001b[0;31m# Compute a collection of all words from all tweets\u001b[0m\u001b[0;34m\u001b[0m\u001b[0;34m\u001b[0m\u001b[0;34m\u001b[0m\u001b[0m\n\u001b[0;32m---> 12\u001b[0;31m \u001b[0mwords_yoli\u001b[0m \u001b[0;34m=\u001b[0m \u001b[0;34m[\u001b[0m \u001b[0mw\u001b[0m \u001b[0;32mfor\u001b[0m \u001b[0mt\u001b[0m \u001b[0;32min\u001b[0m \u001b[0mstatus_texts_yoli\u001b[0m \u001b[0;32mfor\u001b[0m \u001b[0mw\u001b[0m \u001b[0;32min\u001b[0m \u001b[0mt\u001b[0m\u001b[0;34m.\u001b[0m\u001b[0msplit\u001b[0m\u001b[0;34m(\u001b[0m\u001b[0;34m)\u001b[0m \u001b[0;34m]\u001b[0m \u001b[0;31m#split the string on the empty spaces\u001b[0m\u001b[0;34m\u001b[0m\u001b[0;34m\u001b[0m\u001b[0m\n\u001b[0m\u001b[1;32m     13\u001b[0m \u001b[0;34m\u001b[0m\u001b[0m\n\u001b[1;32m     14\u001b[0m \u001b[0;31m#print(json.dumps(status_texts_yoli, indent=1))\u001b[0m\u001b[0;34m\u001b[0m\u001b[0;34m\u001b[0m\u001b[0;34m\u001b[0m\u001b[0m\n",
      "\u001b[0;31mAttributeError\u001b[0m: 'dict' object has no attribute 'split'"
     ]
    }
   ],
   "source": [
    "status_texts_yoli = [ status['tweet'] for status in data_1 ]\n",
    "# the escape character \"\\\" allows for the list comprehension to continue\n",
    "# on a new line. While not strictly necessary, it makes code more readable\n",
    "# for your fellow programmers.\n",
    "'''screen_names_yoli = [ user_mention['screen_name'] for status in data_1 \\\n",
    "                for user_mention in status['entities']['user_mentions'] ]\n",
    "\n",
    "hashtags_yoli = [ hashtag['tweet'] for status in data_1 \\\n",
    "        for hashtag in status['entities']['hashtags'] ]'''\n",
    "\n",
    "# Compute a collection of all words from all tweets\n",
    "words_yoli = [ w for t in status_texts_yoli for w in t.split() ] #split the string on the empty spaces\n",
    "\n",
    "#print(json.dumps(status_texts_yoli, indent=1))\n",
    "#print(json.dumps(screen_names_yoli, indent=1))\n",
    "#print(json.dumps(hashtags_yoli, indent=1))\n",
    "print(json.dumps(words_yoli, indent=1))"
   ]
  },
  {
   "cell_type": "code",
   "execution_count": null,
   "metadata": {},
   "outputs": [],
   "source": []
  },
  {
   "cell_type": "code",
   "execution_count": null,
   "metadata": {},
   "outputs": [],
   "source": [
    "from prettytable import PrettyTable\n",
    "for label, data in (('Word', words),\n",
    "    pt = PrettyTable(field_names=[label, 'Count'])\n",
    "    c = Counter(data)\n",
    "    [ pt.add_row(kv) for kv in c.most_common()[:10] ]\n",
    "    pt.align[label], pt.align['Count'] = 'l', 'r' # Set column alignment\n",
    "    print(pt) "
   ]
  },
  {
   "cell_type": "markdown",
   "metadata": {},
   "source": [
    "### 3.6 Plotting frequencies of words \n",
    "*(from Example 1-12 in Mining the Social Web)*\n",
    "\n",
    "\n",
    "In the previous exercises we have been looking at the text from the tweets, but when you retrieved the results, you retrieved much more information about the tweets, such as the username of the person who shared this tweet with the world. \n",
    "\n",
    "\n",
    "You can use this information to find out who retweets whom in our examples. "
   ]
  },
  {
   "cell_type": "code",
   "execution_count": 21,
   "metadata": {},
   "outputs": [
    {
     "data": {
      "image/png": "[encoded data removed]",
      "text/plain": [
       "<Figure size 432x288 with 1 Axes>"
      ]
     },
     "metadata": {
      "needs_background": "light"
     },
     "output_type": "display_data"
    }
   ],
   "source": [
    "word_counts = sorted(Counter(words).values(), reverse=True)\n",
    "import matplotlib.pyplot as plt\n",
    "plt.loglog(word_counts)\n",
    "plt.ylabel(\"Freq\")\n",
    "plt.xlabel(\"Word Rank\")\n",
    "plt.show()"
   ]
  },
  {
   "cell_type": "markdown",
   "metadata": {},
   "source": [
    "### Generating histograms of words, screen names, and hashtags \n",
    "*(from Example 1-13 in Mining the Social Web):*"
   ]
  },
  {
   "cell_type": "code",
   "execution_count": 22,
   "metadata": {},
   "outputs": [
    {
     "data": {
      "image/png": "[encoded data removed]",
      "text/plain": [
       "<Figure size 432x288 with 1 Axes>"
      ]
     },
     "metadata": {
      "needs_background": "light"
     },
     "output_type": "display_data"
    },
    {
     "data": {
      "image/png": "[encoded data removed]",
      "text/plain": [
       "<Figure size 432x288 with 1 Axes>"
      ]
     },
     "metadata": {
      "needs_background": "light"
     },
     "output_type": "display_data"
    },
    {
     "data": {
      "image/png": "[encoded data removed]",
      "text/plain": [
       "<Figure size 432x288 with 1 Axes>"
      ]
     },
     "metadata": {
      "needs_background": "light"
     },
     "output_type": "display_data"
    },
    {
     "data": {
      "text/plain": [
       "<Figure size 432x288 with 0 Axes>"
      ]
     },
     "metadata": {},
     "output_type": "display_data"
    }
   ],
   "source": [
    "for label, data in (('Word', words),\n",
    "                    ('Screen Name', screen_names),\n",
    "                    ('Hashtag', hashtags)):\n",
    "    c = Counter(data)\n",
    "    plt.hist(c.values())\n",
    "    \n",
    "    plt.title(label)\n",
    "    plt.ylabel(\"Number of items in bin\")\n",
    "    plt.xlabel(\"Bins (number of times an item appeared)\")\n",
    "    \n",
    "    plt.figure()"
   ]
  },
  {
   "cell_type": "code",
   "execution_count": 26,
   "metadata": {},
   "outputs": [
    {
     "name": "stdout",
     "output_type": "stream",
     "text": [
      "Requirement already satisfied: seaborn in /Library/Frameworks/Python.framework/Versions/3.8/lib/python3.8/site-packages (0.11.0)\n",
      "Requirement already satisfied: pandas>=0.23 in /Library/Frameworks/Python.framework/Versions/3.8/lib/python3.8/site-packages (from seaborn) (1.1.3)\n",
      "Requirement already satisfied: matplotlib>=2.2 in /Library/Frameworks/Python.framework/Versions/3.8/lib/python3.8/site-packages (from seaborn) (3.3.2)\n",
      "Requirement already satisfied: scipy>=1.0 in /Library/Frameworks/Python.framework/Versions/3.8/lib/python3.8/site-packages (from seaborn) (1.5.3)\n",
      "Requirement already satisfied: numpy>=1.15 in /Library/Frameworks/Python.framework/Versions/3.8/lib/python3.8/site-packages (from seaborn) (1.19.3)\n",
      "Requirement already satisfied: pytz>=2017.2 in /Library/Frameworks/Python.framework/Versions/3.8/lib/python3.8/site-packages (from pandas>=0.23->seaborn) (2020.1)\n",
      "Requirement already satisfied: python-dateutil>=2.7.3 in /Library/Frameworks/Python.framework/Versions/3.8/lib/python3.8/site-packages (from pandas>=0.23->seaborn) (2.8.1)\n",
      "Requirement already satisfied: kiwisolver>=1.0.1 in /Library/Frameworks/Python.framework/Versions/3.8/lib/python3.8/site-packages (from matplotlib>=2.2->seaborn) (1.3.0)\n",
      "Requirement already satisfied: pillow>=6.2.0 in /Library/Frameworks/Python.framework/Versions/3.8/lib/python3.8/site-packages (from matplotlib>=2.2->seaborn) (8.0.1)\n",
      "Requirement already satisfied: certifi>=2020.06.20 in /Library/Frameworks/Python.framework/Versions/3.8/lib/python3.8/site-packages (from matplotlib>=2.2->seaborn) (2020.6.20)\n",
      "Requirement already satisfied: cycler>=0.10 in /Library/Frameworks/Python.framework/Versions/3.8/lib/python3.8/site-packages (from matplotlib>=2.2->seaborn) (0.10.0)\n",
      "Requirement already satisfied: pyparsing!=2.0.4,!=2.1.2,!=2.1.6,>=2.0.3 in /Library/Frameworks/Python.framework/Versions/3.8/lib/python3.8/site-packages (from matplotlib>=2.2->seaborn) (2.4.7)\n",
      "Requirement already satisfied: six>=1.5 in /Library/Frameworks/Python.framework/Versions/3.8/lib/python3.8/site-packages (from python-dateutil>=2.7.3->pandas>=0.23->seaborn) (1.15.0)\n"
     ]
    },
    {
     "name": "stderr",
     "output_type": "stream",
     "text": [
      "/Library/Frameworks/Python.framework/Versions/3.8/lib/python3.8/site-packages/seaborn/distributions.py:2551: FutureWarning: `distplot` is a deprecated function and will be removed in a future version. Please adapt your code to use either `displot` (a figure-level function with similar flexibility) or `histplot` (an axes-level function for histograms).\n",
      "  warnings.warn(msg, FutureWarning)\n",
      "/Library/Frameworks/Python.framework/Versions/3.8/lib/python3.8/site-packages/seaborn/distributions.py:2055: FutureWarning: The `axis` variable is no longer used and will be removed. Instead, assign variables directly to `x` or `y`.\n",
      "  warnings.warn(msg, FutureWarning)\n"
     ]
    },
    {
     "data": {
      "text/plain": [
       "<AxesSubplot:>"
      ]
     },
     "execution_count": 26,
     "metadata": {},
     "output_type": "execute_result"
    },
    {
     "data": {
      "image/png": "[encoded data removed]",
      "text/plain": [
       "<Figure size 432x288 with 1 Axes>"
      ]
     },
     "metadata": {
      "needs_background": "light"
     },
     "output_type": "display_data"
    }
   ],
   "source": [
    "# extra: seaborn plots with a one-liner.\n",
    "!pip3 install seaborn\n",
    "import seaborn as sns\n",
    "\n",
    "sns.distplot(word_counts, kde=False, rug=True)\n"
   ]
  }
 ],
 "metadata": {
  "kernelspec": {
   "display_name": "Python 3",
   "language": "python",
   "name": "python3"
  },
  "language_info": {
   "codemirror_mode": {
    "name": "ipython",
    "version": 3
   },
   "file_extension": ".py",
   "mimetype": "text/x-python",
   "name": "python",
   "nbconvert_exporter": "python",
   "pygments_lexer": "ipython3",
   "version": "3.8.6"
  }
 },
 "nbformat": 4,
 "nbformat_minor": 2
}
